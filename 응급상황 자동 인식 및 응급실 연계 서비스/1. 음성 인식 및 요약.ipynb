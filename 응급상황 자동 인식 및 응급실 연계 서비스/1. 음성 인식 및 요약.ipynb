{
 "cells": [
  {
   "cell_type": "markdown",
   "metadata": {
    "id": "4p06IPOk5xil"
   },
   "source": [
    "# **응급상황 자동 인식 및 응급실 연계 서비스**"
   ]
  },
  {
   "cell_type": "markdown",
   "metadata": {
    "id": "B-RC4OGVuq9-"
   },
   "source": [
    "### (1) 미션1\n",
    "* 음성인식 : STT(Speech-to-Text)\n",
    "    * 사용 모델 : OpenAI의 **Whisper-1**\n",
    "    * 제공받은 음성 파일과 새로 제작하는 5건 이상의 음성파일을 텍스트로 변환하고, 변환작업이 잘 되는지 확인해 봅시다."
   ]
  },
  {
   "cell_type": "markdown",
   "metadata": {
    "id": "hGGC3Ev4G9O8"
   },
   "source": [
    "### (2) 미션2\n",
    "* 텍스트 요약 및 핵심 키워드 도출\n",
    "    * 사용 모델 : OpenAI의 **GPT-3.5-turbo**\n",
    "    * 내용 요약과 주요 키워드를 도출하도록\n",
    "    프롬프트 입력과 출력을 구성하고 테스트 해 봅시다.\n",
    "\n",
    "* [추가]응급실 현황 다운로드(이 데이터는 단계3에서 필요합니다.)\n",
    "\n"
   ]
  },
  {
   "cell_type": "markdown",
   "metadata": {
    "id": "76Pw6f64d5VU"
   },
   "source": [
    "## **1.환경설정**"
   ]
  },
  {
   "cell_type": "markdown",
   "metadata": {
    "id": "1is0ZmzXeBrA"
   },
   "source": [
    "### (1) 경로 설정\n",
    "\n",
    "구글 드라이브 연결"
   ]
  },
  {
   "cell_type": "markdown",
   "metadata": {
    "id": "xUOpvAJGGJnL"
   },
   "source": [
    "#### 1) 구글 드라이브 폴더 생성\n",
    "* 새 폴더(project6_2)를 생성하고\n",
    "* 제공 받은 파일을 업로드"
   ]
  },
  {
   "cell_type": "markdown",
   "metadata": {
    "id": "4jUC5td4GLEF"
   },
   "source": [
    "#### 2) 구글 드라이브 연결"
   ]
  },
  {
   "cell_type": "code",
   "execution_count": 1,
   "metadata": {
    "colab": {
     "base_uri": "https://localhost:8080/",
     "height": 318
    },
    "executionInfo": {
     "elapsed": 4706,
     "status": "error",
     "timestamp": 1731978664890,
     "user": {
      "displayName": "이예림 (겨울냥국)",
      "userId": "03592088159420229142"
     },
     "user_tz": -540
    },
    "id": "_wX7xlPARSDj",
    "outputId": "d01390b2-f12b-4c06-f749-0161cc3defb0"
   },
   "outputs": [
    {
     "ename": "MessageError",
     "evalue": "Error: credential propagation was unsuccessful",
     "output_type": "error",
     "traceback": [
      "\u001b[0;31m---------------------------------------------------------------------------\u001b[0m",
      "\u001b[0;31mMessageError\u001b[0m                              Traceback (most recent call last)",
      "\u001b[0;32m<ipython-input-1-d5df0069828e>\u001b[0m in \u001b[0;36m<cell line: 2>\u001b[0;34m()\u001b[0m\n\u001b[1;32m      1\u001b[0m \u001b[0;32mfrom\u001b[0m \u001b[0mgoogle\u001b[0m\u001b[0;34m.\u001b[0m\u001b[0mcolab\u001b[0m \u001b[0;32mimport\u001b[0m \u001b[0mdrive\u001b[0m\u001b[0;34m\u001b[0m\u001b[0;34m\u001b[0m\u001b[0m\n\u001b[0;32m----> 2\u001b[0;31m \u001b[0mdrive\u001b[0m\u001b[0;34m.\u001b[0m\u001b[0mmount\u001b[0m\u001b[0;34m(\u001b[0m\u001b[0;34m'/content/drive'\u001b[0m\u001b[0;34m)\u001b[0m\u001b[0;34m\u001b[0m\u001b[0;34m\u001b[0m\u001b[0m\n\u001b[0m",
      "\u001b[0;32m/usr/local/lib/python3.10/dist-packages/google/colab/drive.py\u001b[0m in \u001b[0;36mmount\u001b[0;34m(mountpoint, force_remount, timeout_ms, readonly)\u001b[0m\n\u001b[1;32m     98\u001b[0m \u001b[0;32mdef\u001b[0m \u001b[0mmount\u001b[0m\u001b[0;34m(\u001b[0m\u001b[0mmountpoint\u001b[0m\u001b[0;34m,\u001b[0m \u001b[0mforce_remount\u001b[0m\u001b[0;34m=\u001b[0m\u001b[0;32mFalse\u001b[0m\u001b[0;34m,\u001b[0m \u001b[0mtimeout_ms\u001b[0m\u001b[0;34m=\u001b[0m\u001b[0;36m120000\u001b[0m\u001b[0;34m,\u001b[0m \u001b[0mreadonly\u001b[0m\u001b[0;34m=\u001b[0m\u001b[0;32mFalse\u001b[0m\u001b[0;34m)\u001b[0m\u001b[0;34m:\u001b[0m\u001b[0;34m\u001b[0m\u001b[0;34m\u001b[0m\u001b[0m\n\u001b[1;32m     99\u001b[0m   \u001b[0;34m\"\"\"Mount your Google Drive at the specified mountpoint path.\"\"\"\u001b[0m\u001b[0;34m\u001b[0m\u001b[0;34m\u001b[0m\u001b[0m\n\u001b[0;32m--> 100\u001b[0;31m   return _mount(\n\u001b[0m\u001b[1;32m    101\u001b[0m       \u001b[0mmountpoint\u001b[0m\u001b[0;34m,\u001b[0m\u001b[0;34m\u001b[0m\u001b[0;34m\u001b[0m\u001b[0m\n\u001b[1;32m    102\u001b[0m       \u001b[0mforce_remount\u001b[0m\u001b[0;34m=\u001b[0m\u001b[0mforce_remount\u001b[0m\u001b[0;34m,\u001b[0m\u001b[0;34m\u001b[0m\u001b[0;34m\u001b[0m\u001b[0m\n",
      "\u001b[0;32m/usr/local/lib/python3.10/dist-packages/google/colab/drive.py\u001b[0m in \u001b[0;36m_mount\u001b[0;34m(mountpoint, force_remount, timeout_ms, ephemeral, readonly)\u001b[0m\n\u001b[1;32m    135\u001b[0m   )\n\u001b[1;32m    136\u001b[0m   \u001b[0;32mif\u001b[0m \u001b[0mephemeral\u001b[0m\u001b[0;34m:\u001b[0m\u001b[0;34m\u001b[0m\u001b[0;34m\u001b[0m\u001b[0m\n\u001b[0;32m--> 137\u001b[0;31m     _message.blocking_request(\n\u001b[0m\u001b[1;32m    138\u001b[0m         \u001b[0;34m'request_auth'\u001b[0m\u001b[0;34m,\u001b[0m\u001b[0;34m\u001b[0m\u001b[0;34m\u001b[0m\u001b[0m\n\u001b[1;32m    139\u001b[0m         \u001b[0mrequest\u001b[0m\u001b[0;34m=\u001b[0m\u001b[0;34m{\u001b[0m\u001b[0;34m'authType'\u001b[0m\u001b[0;34m:\u001b[0m \u001b[0;34m'dfs_ephemeral'\u001b[0m\u001b[0;34m}\u001b[0m\u001b[0;34m,\u001b[0m\u001b[0;34m\u001b[0m\u001b[0;34m\u001b[0m\u001b[0m\n",
      "\u001b[0;32m/usr/local/lib/python3.10/dist-packages/google/colab/_message.py\u001b[0m in \u001b[0;36mblocking_request\u001b[0;34m(request_type, request, timeout_sec, parent)\u001b[0m\n\u001b[1;32m    174\u001b[0m       \u001b[0mrequest_type\u001b[0m\u001b[0;34m,\u001b[0m \u001b[0mrequest\u001b[0m\u001b[0;34m,\u001b[0m \u001b[0mparent\u001b[0m\u001b[0;34m=\u001b[0m\u001b[0mparent\u001b[0m\u001b[0;34m,\u001b[0m \u001b[0mexpect_reply\u001b[0m\u001b[0;34m=\u001b[0m\u001b[0;32mTrue\u001b[0m\u001b[0;34m\u001b[0m\u001b[0;34m\u001b[0m\u001b[0m\n\u001b[1;32m    175\u001b[0m   )\n\u001b[0;32m--> 176\u001b[0;31m   \u001b[0;32mreturn\u001b[0m \u001b[0mread_reply_from_input\u001b[0m\u001b[0;34m(\u001b[0m\u001b[0mrequest_id\u001b[0m\u001b[0;34m,\u001b[0m \u001b[0mtimeout_sec\u001b[0m\u001b[0;34m)\u001b[0m\u001b[0;34m\u001b[0m\u001b[0;34m\u001b[0m\u001b[0m\n\u001b[0m",
      "\u001b[0;32m/usr/local/lib/python3.10/dist-packages/google/colab/_message.py\u001b[0m in \u001b[0;36mread_reply_from_input\u001b[0;34m(message_id, timeout_sec)\u001b[0m\n\u001b[1;32m    101\u001b[0m     ):\n\u001b[1;32m    102\u001b[0m       \u001b[0;32mif\u001b[0m \u001b[0;34m'error'\u001b[0m \u001b[0;32min\u001b[0m \u001b[0mreply\u001b[0m\u001b[0;34m:\u001b[0m\u001b[0;34m\u001b[0m\u001b[0;34m\u001b[0m\u001b[0m\n\u001b[0;32m--> 103\u001b[0;31m         \u001b[0;32mraise\u001b[0m \u001b[0mMessageError\u001b[0m\u001b[0;34m(\u001b[0m\u001b[0mreply\u001b[0m\u001b[0;34m[\u001b[0m\u001b[0;34m'error'\u001b[0m\u001b[0;34m]\u001b[0m\u001b[0;34m)\u001b[0m\u001b[0;34m\u001b[0m\u001b[0;34m\u001b[0m\u001b[0m\n\u001b[0m\u001b[1;32m    104\u001b[0m       \u001b[0;32mreturn\u001b[0m \u001b[0mreply\u001b[0m\u001b[0;34m.\u001b[0m\u001b[0mget\u001b[0m\u001b[0;34m(\u001b[0m\u001b[0;34m'data'\u001b[0m\u001b[0;34m,\u001b[0m \u001b[0;32mNone\u001b[0m\u001b[0;34m)\u001b[0m\u001b[0;34m\u001b[0m\u001b[0;34m\u001b[0m\u001b[0m\n\u001b[1;32m    105\u001b[0m \u001b[0;34m\u001b[0m\u001b[0m\n",
      "\u001b[0;31mMessageError\u001b[0m: Error: credential propagation was unsuccessful"
     ]
    }
   ],
   "source": [
    "from google.colab import drive\n",
    "drive.mount('/content/drive')"
   ]
  },
  {
   "cell_type": "code",
   "execution_count": null,
   "metadata": {
    "id": "JhVujnYp4TJe"
   },
   "outputs": [],
   "source": [
    "path = '/content/drive/MyDrive/project6/2/'"
   ]
  },
  {
   "cell_type": "markdown",
   "metadata": {
    "id": "6aFiucu6evl_"
   },
   "source": [
    "### (2) 라이브러리"
   ]
  },
  {
   "cell_type": "markdown",
   "metadata": {
    "id": "06pvZvQPG4TO"
   },
   "source": [
    "#### 1) 필요한 라이브러리 설치"
   ]
  },
  {
   "cell_type": "markdown",
   "metadata": {
    "id": "9yH0bcskIzI3"
   },
   "source": [
    "* requirements.txt 파일의 [경로 복사]를 한 후,\n",
    "* 아래 경로에 붙여 넣기"
   ]
  },
  {
   "cell_type": "code",
   "execution_count": null,
   "metadata": {
    "colab": {
     "base_uri": "https://localhost:8080/"
    },
    "executionInfo": {
     "elapsed": 6438,
     "status": "ok",
     "timestamp": 1731895290735,
     "user": {
      "displayName": "이예림 (겨울냥국)",
      "userId": "03592088159420229142"
     },
     "user_tz": -540
    },
    "id": "OQVcKO7iG38A",
    "outputId": "74ff8c56-7406-41e3-f44e-66ee9e23e260"
   },
   "outputs": [
    {
     "name": "stdout",
     "output_type": "stream",
     "text": [
      "Requirement already satisfied: openai in /usr/local/lib/python3.10/dist-packages (from -r /content/drive/MyDrive/project6/2/requirements.txt (line 1)) (1.54.4)\n",
      "Collecting datasets (from -r /content/drive/MyDrive/project6/2/requirements.txt (line 2))\n",
      "  Downloading datasets-3.1.0-py3-none-any.whl.metadata (20 kB)\n",
      "Collecting haversine (from -r /content/drive/MyDrive/project6/2/requirements.txt (line 3))\n",
      "  Downloading haversine-2.8.1-py2.py3-none-any.whl.metadata (5.9 kB)\n",
      "Requirement already satisfied: anyio<5,>=3.5.0 in /usr/local/lib/python3.10/dist-packages (from openai->-r /content/drive/MyDrive/project6/2/requirements.txt (line 1)) (3.7.1)\n",
      "Requirement already satisfied: distro<2,>=1.7.0 in /usr/local/lib/python3.10/dist-packages (from openai->-r /content/drive/MyDrive/project6/2/requirements.txt (line 1)) (1.9.0)\n",
      "Requirement already satisfied: httpx<1,>=0.23.0 in /usr/local/lib/python3.10/dist-packages (from openai->-r /content/drive/MyDrive/project6/2/requirements.txt (line 1)) (0.27.2)\n",
      "Requirement already satisfied: jiter<1,>=0.4.0 in /usr/local/lib/python3.10/dist-packages (from openai->-r /content/drive/MyDrive/project6/2/requirements.txt (line 1)) (0.7.1)\n",
      "Requirement already satisfied: pydantic<3,>=1.9.0 in /usr/local/lib/python3.10/dist-packages (from openai->-r /content/drive/MyDrive/project6/2/requirements.txt (line 1)) (2.9.2)\n",
      "Requirement already satisfied: sniffio in /usr/local/lib/python3.10/dist-packages (from openai->-r /content/drive/MyDrive/project6/2/requirements.txt (line 1)) (1.3.1)\n",
      "Requirement already satisfied: tqdm>4 in /usr/local/lib/python3.10/dist-packages (from openai->-r /content/drive/MyDrive/project6/2/requirements.txt (line 1)) (4.66.6)\n",
      "Requirement already satisfied: typing-extensions<5,>=4.11 in /usr/local/lib/python3.10/dist-packages (from openai->-r /content/drive/MyDrive/project6/2/requirements.txt (line 1)) (4.12.2)\n",
      "Requirement already satisfied: filelock in /usr/local/lib/python3.10/dist-packages (from datasets->-r /content/drive/MyDrive/project6/2/requirements.txt (line 2)) (3.16.1)\n",
      "Requirement already satisfied: numpy>=1.17 in /usr/local/lib/python3.10/dist-packages (from datasets->-r /content/drive/MyDrive/project6/2/requirements.txt (line 2)) (1.26.4)\n",
      "Requirement already satisfied: pyarrow>=15.0.0 in /usr/local/lib/python3.10/dist-packages (from datasets->-r /content/drive/MyDrive/project6/2/requirements.txt (line 2)) (17.0.0)\n",
      "Collecting dill<0.3.9,>=0.3.0 (from datasets->-r /content/drive/MyDrive/project6/2/requirements.txt (line 2))\n",
      "  Downloading dill-0.3.8-py3-none-any.whl.metadata (10 kB)\n",
      "Requirement already satisfied: pandas in /usr/local/lib/python3.10/dist-packages (from datasets->-r /content/drive/MyDrive/project6/2/requirements.txt (line 2)) (2.2.2)\n",
      "Requirement already satisfied: requests>=2.32.2 in /usr/local/lib/python3.10/dist-packages (from datasets->-r /content/drive/MyDrive/project6/2/requirements.txt (line 2)) (2.32.3)\n",
      "Collecting xxhash (from datasets->-r /content/drive/MyDrive/project6/2/requirements.txt (line 2))\n",
      "  Downloading xxhash-3.5.0-cp310-cp310-manylinux_2_17_x86_64.manylinux2014_x86_64.whl.metadata (12 kB)\n",
      "Collecting multiprocess<0.70.17 (from datasets->-r /content/drive/MyDrive/project6/2/requirements.txt (line 2))\n",
      "  Downloading multiprocess-0.70.16-py310-none-any.whl.metadata (7.2 kB)\n",
      "Collecting fsspec<=2024.9.0,>=2023.1.0 (from fsspec[http]<=2024.9.0,>=2023.1.0->datasets->-r /content/drive/MyDrive/project6/2/requirements.txt (line 2))\n",
      "  Downloading fsspec-2024.9.0-py3-none-any.whl.metadata (11 kB)\n",
      "Requirement already satisfied: aiohttp in /usr/local/lib/python3.10/dist-packages (from datasets->-r /content/drive/MyDrive/project6/2/requirements.txt (line 2)) (3.10.10)\n",
      "Requirement already satisfied: huggingface-hub>=0.23.0 in /usr/local/lib/python3.10/dist-packages (from datasets->-r /content/drive/MyDrive/project6/2/requirements.txt (line 2)) (0.26.2)\n",
      "Requirement already satisfied: packaging in /usr/local/lib/python3.10/dist-packages (from datasets->-r /content/drive/MyDrive/project6/2/requirements.txt (line 2)) (24.2)\n",
      "Requirement already satisfied: pyyaml>=5.1 in /usr/local/lib/python3.10/dist-packages (from datasets->-r /content/drive/MyDrive/project6/2/requirements.txt (line 2)) (6.0.2)\n",
      "Requirement already satisfied: idna>=2.8 in /usr/local/lib/python3.10/dist-packages (from anyio<5,>=3.5.0->openai->-r /content/drive/MyDrive/project6/2/requirements.txt (line 1)) (3.10)\n",
      "Requirement already satisfied: exceptiongroup in /usr/local/lib/python3.10/dist-packages (from anyio<5,>=3.5.0->openai->-r /content/drive/MyDrive/project6/2/requirements.txt (line 1)) (1.2.2)\n",
      "Requirement already satisfied: aiohappyeyeballs>=2.3.0 in /usr/local/lib/python3.10/dist-packages (from aiohttp->datasets->-r /content/drive/MyDrive/project6/2/requirements.txt (line 2)) (2.4.3)\n",
      "Requirement already satisfied: aiosignal>=1.1.2 in /usr/local/lib/python3.10/dist-packages (from aiohttp->datasets->-r /content/drive/MyDrive/project6/2/requirements.txt (line 2)) (1.3.1)\n",
      "Requirement already satisfied: attrs>=17.3.0 in /usr/local/lib/python3.10/dist-packages (from aiohttp->datasets->-r /content/drive/MyDrive/project6/2/requirements.txt (line 2)) (24.2.0)\n",
      "Requirement already satisfied: frozenlist>=1.1.1 in /usr/local/lib/python3.10/dist-packages (from aiohttp->datasets->-r /content/drive/MyDrive/project6/2/requirements.txt (line 2)) (1.5.0)\n",
      "Requirement already satisfied: multidict<7.0,>=4.5 in /usr/local/lib/python3.10/dist-packages (from aiohttp->datasets->-r /content/drive/MyDrive/project6/2/requirements.txt (line 2)) (6.1.0)\n",
      "Requirement already satisfied: yarl<2.0,>=1.12.0 in /usr/local/lib/python3.10/dist-packages (from aiohttp->datasets->-r /content/drive/MyDrive/project6/2/requirements.txt (line 2)) (1.17.1)\n",
      "Requirement already satisfied: async-timeout<5.0,>=4.0 in /usr/local/lib/python3.10/dist-packages (from aiohttp->datasets->-r /content/drive/MyDrive/project6/2/requirements.txt (line 2)) (4.0.3)\n",
      "Requirement already satisfied: certifi in /usr/local/lib/python3.10/dist-packages (from httpx<1,>=0.23.0->openai->-r /content/drive/MyDrive/project6/2/requirements.txt (line 1)) (2024.8.30)\n",
      "Requirement already satisfied: httpcore==1.* in /usr/local/lib/python3.10/dist-packages (from httpx<1,>=0.23.0->openai->-r /content/drive/MyDrive/project6/2/requirements.txt (line 1)) (1.0.6)\n",
      "Requirement already satisfied: h11<0.15,>=0.13 in /usr/local/lib/python3.10/dist-packages (from httpcore==1.*->httpx<1,>=0.23.0->openai->-r /content/drive/MyDrive/project6/2/requirements.txt (line 1)) (0.14.0)\n",
      "Requirement already satisfied: annotated-types>=0.6.0 in /usr/local/lib/python3.10/dist-packages (from pydantic<3,>=1.9.0->openai->-r /content/drive/MyDrive/project6/2/requirements.txt (line 1)) (0.7.0)\n",
      "Requirement already satisfied: pydantic-core==2.23.4 in /usr/local/lib/python3.10/dist-packages (from pydantic<3,>=1.9.0->openai->-r /content/drive/MyDrive/project6/2/requirements.txt (line 1)) (2.23.4)\n",
      "Requirement already satisfied: charset-normalizer<4,>=2 in /usr/local/lib/python3.10/dist-packages (from requests>=2.32.2->datasets->-r /content/drive/MyDrive/project6/2/requirements.txt (line 2)) (3.4.0)\n",
      "Requirement already satisfied: urllib3<3,>=1.21.1 in /usr/local/lib/python3.10/dist-packages (from requests>=2.32.2->datasets->-r /content/drive/MyDrive/project6/2/requirements.txt (line 2)) (2.2.3)\n",
      "Requirement already satisfied: python-dateutil>=2.8.2 in /usr/local/lib/python3.10/dist-packages (from pandas->datasets->-r /content/drive/MyDrive/project6/2/requirements.txt (line 2)) (2.8.2)\n",
      "Requirement already satisfied: pytz>=2020.1 in /usr/local/lib/python3.10/dist-packages (from pandas->datasets->-r /content/drive/MyDrive/project6/2/requirements.txt (line 2)) (2024.2)\n",
      "Requirement already satisfied: tzdata>=2022.7 in /usr/local/lib/python3.10/dist-packages (from pandas->datasets->-r /content/drive/MyDrive/project6/2/requirements.txt (line 2)) (2024.2)\n",
      "Requirement already satisfied: six>=1.5 in /usr/local/lib/python3.10/dist-packages (from python-dateutil>=2.8.2->pandas->datasets->-r /content/drive/MyDrive/project6/2/requirements.txt (line 2)) (1.16.0)\n",
      "Requirement already satisfied: propcache>=0.2.0 in /usr/local/lib/python3.10/dist-packages (from yarl<2.0,>=1.12.0->aiohttp->datasets->-r /content/drive/MyDrive/project6/2/requirements.txt (line 2)) (0.2.0)\n",
      "Downloading datasets-3.1.0-py3-none-any.whl (480 kB)\n",
      "\u001b[2K   \u001b[90m━━━━━━━━━━━━━━━━━━━━━━━━━━━━━━━━━━━━━━━━\u001b[0m \u001b[32m480.6/480.6 kB\u001b[0m \u001b[31m7.4 MB/s\u001b[0m eta \u001b[36m0:00:00\u001b[0m\n",
      "\u001b[?25hDownloading haversine-2.8.1-py2.py3-none-any.whl (7.7 kB)\n",
      "Downloading dill-0.3.8-py3-none-any.whl (116 kB)\n",
      "\u001b[2K   \u001b[90m━━━━━━━━━━━━━━━━━━━━━━━━━━━━━━━━━━━━━━━━\u001b[0m \u001b[32m116.3/116.3 kB\u001b[0m \u001b[31m8.3 MB/s\u001b[0m eta \u001b[36m0:00:00\u001b[0m\n",
      "\u001b[?25hDownloading fsspec-2024.9.0-py3-none-any.whl (179 kB)\n",
      "\u001b[2K   \u001b[90m━━━━━━━━━━━━━━━━━━━━━━━━━━━━━━━━━━━━━━━━\u001b[0m \u001b[32m179.3/179.3 kB\u001b[0m \u001b[31m14.4 MB/s\u001b[0m eta \u001b[36m0:00:00\u001b[0m\n",
      "\u001b[?25hDownloading multiprocess-0.70.16-py310-none-any.whl (134 kB)\n",
      "\u001b[2K   \u001b[90m━━━━━━━━━━━━━━━━━━━━━━━━━━━━━━━━━━━━━━━━\u001b[0m \u001b[32m134.8/134.8 kB\u001b[0m \u001b[31m11.7 MB/s\u001b[0m eta \u001b[36m0:00:00\u001b[0m\n",
      "\u001b[?25hDownloading xxhash-3.5.0-cp310-cp310-manylinux_2_17_x86_64.manylinux2014_x86_64.whl (194 kB)\n",
      "\u001b[2K   \u001b[90m━━━━━━━━━━━━━━━━━━━━━━━━━━━━━━━━━━━━━━━━\u001b[0m \u001b[32m194.1/194.1 kB\u001b[0m \u001b[31m13.9 MB/s\u001b[0m eta \u001b[36m0:00:00\u001b[0m\n",
      "\u001b[?25hInstalling collected packages: xxhash, haversine, fsspec, dill, multiprocess, datasets\n",
      "  Attempting uninstall: fsspec\n",
      "    Found existing installation: fsspec 2024.10.0\n",
      "    Uninstalling fsspec-2024.10.0:\n",
      "      Successfully uninstalled fsspec-2024.10.0\n",
      "\u001b[31mERROR: pip's dependency resolver does not currently take into account all the packages that are installed. This behaviour is the source of the following dependency conflicts.\n",
      "gcsfs 2024.10.0 requires fsspec==2024.10.0, but you have fsspec 2024.9.0 which is incompatible.\u001b[0m\u001b[31m\n",
      "\u001b[0mSuccessfully installed datasets-3.1.0 dill-0.3.8 fsspec-2024.9.0 haversine-2.8.1 multiprocess-0.70.16 xxhash-3.5.0\n"
     ]
    }
   ],
   "source": [
    "# 경로 : /content/drive/MyDrive/project6_2/requirements.txt\n",
    "# 경로가 다른 경우 아래 코드의 경로 부분을 수정하세요.\n",
    "\n",
    "!pip install -r /content/drive/MyDrive/project6/2/requirements.txt"
   ]
  },
  {
   "cell_type": "markdown",
   "metadata": {
    "id": "xpXTO7gP4vyQ"
   },
   "source": [
    "#### 2) 라이브러리 로딩"
   ]
  },
  {
   "cell_type": "code",
   "execution_count": null,
   "metadata": {
    "id": "_bx5a2MBfAt2"
   },
   "outputs": [],
   "source": [
    "#필요한 라이브러리 설치 및 불러우기\n",
    "import os\n",
    "import requests\n",
    "import xml.etree.ElementTree as ET\n",
    "import pandas as pd\n",
    "import matplotlib.pyplot as plt\n",
    "import openai\n",
    "from openai import OpenAI\n",
    "import json\n",
    "\n",
    "# 더 필요한 라이브러리 추가 -------------\n",
    "\n",
    "\n"
   ]
  },
  {
   "cell_type": "markdown",
   "metadata": {
    "id": "PS5BhycUFUMI"
   },
   "source": [
    "### (3) OpenAI API Key 환경 변수 설정\n",
    "\n",
    "* 제공받은 open ai api key를 **api_key.txt** 파일에 저장합니다.\n",
    "    * (제공받은 api_key.txt 파일은 비어 있습니다.)"
   ]
  },
  {
   "cell_type": "markdown",
   "metadata": {
    "id": "KtujOwq45NgQ"
   },
   "source": [
    "* 다음 코드를 통해 환경변수로 등록 합니다."
   ]
  },
  {
   "cell_type": "code",
   "execution_count": null,
   "metadata": {
    "id": "AaZBGfeWNMRE"
   },
   "outputs": [],
   "source": [
    "def load_file(filepath):\n",
    "    with open(filepath, 'r') as file:\n",
    "        return file.readline().strip()\n",
    "\n",
    "# API 키 로드 및 환경변수 설정\n",
    "openai.api_key = load_file(path + 'api_key.txt')\n",
    "os.environ['OPENAI_API_KEY'] = openai.api_key"
   ]
  },
  {
   "cell_type": "markdown",
   "metadata": {
    "id": "0G1kftQbTuTc"
   },
   "source": [
    "* ⚠️ 아래 코드셀은, 실행해서 key가 제대로 보이는지 확인하고 결과는 삭제하세요."
   ]
  },
  {
   "cell_type": "code",
   "execution_count": null,
   "metadata": {
    "id": "GqSUhiv8wKxh"
   },
   "outputs": [],
   "source": [
    "print(os.environ['OPENAI_API_KEY'])"
   ]
  },
  {
   "cell_type": "markdown",
   "metadata": {
    "id": "emY7TgJFwrmf"
   },
   "source": [
    "## **2.  STT**"
   ]
  },
  {
   "cell_type": "markdown",
   "metadata": {
    "id": "l4VEqdiaS6_K"
   },
   "source": [
    "### (1) 제공된 데이터 변환\n",
    "* 세부사항\n",
    "    * 사용 모델 : whisper-1\n",
    "    * 제공 받은 오디오 파일을 읽어서 텍스트로 변환시켜 봅시다.\n",
    "        * 반복문을 통해 파일 하나씩 읽어서 텍스트 변환\n",
    "        * 변환된 텍스트를 데이터 프레임에 추가\n",
    "\n",
    "|filename|text|\n",
    "|----|----|\n",
    "|audio3.mp3|어쩌구 저쩌구...급해요.|"
   ]
  },
  {
   "cell_type": "markdown",
   "metadata": {
    "id": "m82RFeKaYrn3"
   },
   "source": [
    "* 음성파일 변환"
   ]
  },
  {
   "cell_type": "code",
   "execution_count": null,
   "metadata": {
    "id": "noE0mrUkAhkW"
   },
   "outputs": [],
   "source": [
    "# 음성파일 경로 지정\n",
    "audio_path = '/content/drive/MyDrive/project6/2/audio/'"
   ]
  },
  {
   "cell_type": "code",
   "execution_count": null,
   "metadata": {
    "collapsed": true,
    "id": "KHRaSiTgMYMt"
   },
   "outputs": [],
   "source": [
    "# OpenAI 클라이언트 생성\n",
    "client = OpenAI()"
   ]
  },
  {
   "cell_type": "code",
   "execution_count": null,
   "metadata": {
    "colab": {
     "base_uri": "https://localhost:8080/"
    },
    "executionInfo": {
     "elapsed": 1898,
     "status": "ok",
     "timestamp": 1731895495137,
     "user": {
      "displayName": "이예림 (겨울냥국)",
      "userId": "03592088159420229142"
     },
     "user_tz": -540
    },
    "id": "ibnwMAkKNdH8",
    "outputId": "dd8dc77a-a143-4593-a4d1-52870585104d"
   },
   "outputs": [
    {
     "name": "stdout",
     "output_type": "stream",
     "text": [
      "119죠. 제가 지금 열이 열이 올랐어요. 몇 도냐면은 38도 정도 돼요. 머리가 아프고 좀 띵한 것 같아요. 우한이 좀 들어요. 어떻게 해야 할까요?\n",
      " <class 'str'>\n"
     ]
    }
   ],
   "source": [
    "# 위스퍼 모델 사용 : 제공된 음성파일 중 1개를 텍스트로 변환해보기\n",
    "filename = 'audio2.mp3'\n",
    "audio_file = open(audio_path + filename, \"rb\")\n",
    "transcript = client.audio.transcriptions.create(\n",
    "    file=audio_file,\n",
    "    model=\"whisper-1\",\n",
    "    language=\"ko\",\n",
    "    response_format=\"text\",\n",
    ")\n",
    "\n",
    "print(transcript, type(transcript))"
   ]
  },
  {
   "cell_type": "markdown",
   "metadata": {
    "id": "5Aey07RNYuKg"
   },
   "source": [
    "* 음성파일 변환 함수 생성"
   ]
  },
  {
   "cell_type": "code",
   "execution_count": null,
   "metadata": {
    "id": "WKxHnEVcGpDd"
   },
   "outputs": [],
   "source": [
    "def audio_to_text(audio_path, filename):\n",
    "    client = OpenAI()\n",
    "\n",
    "    # 오디오 파일을 읽어서, 위스퍼를 사용한 변환\n",
    "    with open(audio_path + filename, \"rb\") as audio_file:\n",
    "        transcript = client.audio.transcriptions.create(\n",
    "            file=audio_file,\n",
    "            model=\"whisper-1\",\n",
    "            language=\"ko\",\n",
    "            response_format=\"text\",\n",
    "        )\n",
    "\n",
    "    # transcript 확인\n",
    "    # print(transcript, type(transcript))\n",
    "\n",
    "    # transcript에서 개행 문자 제거\n",
    "    transcript = transcript.strip()  # 양쪽 끝의 공백 및 개행 문자 제거\n",
    "\n",
    "    return transcript"
   ]
  },
  {
   "cell_type": "code",
   "execution_count": null,
   "metadata": {
    "colab": {
     "base_uri": "https://localhost:8080/",
     "height": 35
    },
    "executionInfo": {
     "elapsed": 1644,
     "status": "ok",
     "timestamp": 1731898550463,
     "user": {
      "displayName": "이예림 (겨울냥국)",
      "userId": "03592088159420229142"
     },
     "user_tz": -540
    },
    "id": "8Ouep4inBhv1",
    "outputId": "48f0176e-d6dc-4fa5-8b0f-76bad459e742"
   },
   "outputs": [
    {
     "data": {
      "application/vnd.google.colaboratory.intrinsic+json": {
       "type": "string"
      },
      "text/plain": [
       "'119죠. 제가 지금 열이 열이 올랐어요. 몇 도냐면은 38도 정도 돼요. 머리가 아프고 좀 띵한 것 같아요. 우한이 좀 들어요. 어떻게 해야 할까요?'"
      ]
     },
     "execution_count": 70,
     "metadata": {},
     "output_type": "execute_result"
    }
   ],
   "source": [
    "audio_to_text(audio_path, 'audio2.mp3')"
   ]
  },
  {
   "cell_type": "code",
   "execution_count": null,
   "metadata": {
    "colab": {
     "base_uri": "https://localhost:8080/"
    },
    "executionInfo": {
     "elapsed": 286,
     "status": "ok",
     "timestamp": 1731908242580,
     "user": {
      "displayName": "이예림 (겨울냥국)",
      "userId": "03592088159420229142"
     },
     "user_tz": -540
    },
    "id": "I0wH7MxQTTWV",
    "outputId": "c9750904-dc2b-48de-9771-7d0e88a9c0db"
   },
   "outputs": [
    {
     "name": "stdout",
     "output_type": "stream",
     "text": [
      "['audio1.mp3', 'audio5.mp3', 'audio3.mp3', 'audio2.mp3', 'audio4.mp3', 'audio06.mp3', 'audio07.mp3', 'audio10.mp3', 'audio09.mp3', 'audio11.mp3', 'audio08.mp3', 'audio12.mp3', 'audio14.mp3', 'audio13.mp3', 'audio15.mp3']\n"
     ]
    }
   ],
   "source": [
    "# 음성파일 이름을 리스트에 담기\n",
    "file_names = [f for f in os.listdir(audio_path) if os.path.isfile(os.path.join(audio_path, f))]\n",
    "print(file_names)"
   ]
  },
  {
   "cell_type": "code",
   "execution_count": null,
   "metadata": {
    "colab": {
     "base_uri": "https://localhost:8080/"
    },
    "executionInfo": {
     "elapsed": 29648,
     "status": "ok",
     "timestamp": 1731912245312,
     "user": {
      "displayName": "이예림 (겨울냥국)",
      "userId": "03592088159420229142"
     },
     "user_tz": -540
    },
    "id": "2CZZovDCSmNc",
    "outputId": "1de34ed2-b5e4-480a-f789-5e68ac0c389a"
   },
   "outputs": [
    {
     "name": "stdout",
     "output_type": "stream",
     "text": [
      "       filename  \\\n",
      "0    audio1.mp3   \n",
      "1    audio5.mp3   \n",
      "2    audio3.mp3   \n",
      "3    audio2.mp3   \n",
      "4    audio4.mp3   \n",
      "5   audio06.mp3   \n",
      "6   audio07.mp3   \n",
      "7   audio10.mp3   \n",
      "8   audio09.mp3   \n",
      "9   audio11.mp3   \n",
      "10  audio08.mp3   \n",
      "11  audio12.mp3   \n",
      "12  audio14.mp3   \n",
      "13  audio13.mp3   \n",
      "14  audio15.mp3   \n",
      "\n",
      "                                                                                                                                                                                                                                     transcript  \n",
      "0                                                                                지금 아빠가 넘어졌어요. 머리에서 피가 나는데 숨은 쉬고 있어요. 지금 막 일어났어요. 근데 조금 어지럽다고 하네요. 네네 계단에서 굴렀어요. 지금은 물 마시고 있는데 이거 응급실로 가봐야 할까요? 피도 지금 머졌어요. 네네 나이는 마흔아홉 살 이세요. 어떻게 해야 할지 모르겠어요.  \n",
      "1                                                                                                                                                                             화장실에서 미끄러워서 엉덩방아를 찍었어요. 그러고 꼬리뼈가 계속 아파요. 점점 아픈 것 같은데 응급실을 가야 할까요?  \n",
      "2                                                                                                                                                               동생이 콩 가지고 놀다가 코에 들어가서 한쪽 코가 막혔어요. 아무리 빼보려 해도 안 빠져요. 어떻게 해야 할까요? 동생이 너무 힘들어 하네요.  \n",
      "3                                                                                                                                                          119죠. 제가 지금 열이 열이 올랐어요. 몇 도냐면은 38도 정도 돼요. 머리가 아프고 좀 띵한 것 같아요. 우한이 좀 들어요. 어떻게 해야 할까요?  \n",
      "4                                                                                                                                                                    아까 가다가 머리를 박았는데, 처음에는 괜찮다가, 지금 3시간 정도 지났는데, 머리가 어지럽고 속이 매스꺼워요. 어떻게 해야 할까요?  \n",
      "5                                                                                                             갑자기 심각한 알레르기 반응이 왔어요 저희 신랑이 갑자기 두드러기와 호흡 곤란을 보이고 있어요 얼굴과 입술이 부풀어 오르고 있고 숨을 쉬기 힘들어 합니다 저희 집 주소는 영종도 온서역 근처이며 알레르기 원인은 오이 입니다 도와주세요  \n",
      "6                                                                                                  여기는 분당로 42번 길입니다. 지금 교통사고가 발생했습니다. 빨간옷을 입은 여자가 차에 치여서 심하게 다쳤고 다리에서 대량으로 출혈이 나고 있습니다. 의식이 없는 것 같고 심각한 상태입니다. 출혈이 멈추지 않고 있어요. 어떻게 해야 할지 알려주세요.  \n",
      "7                                                                                                      안녕하세요. 지금 전철 안에 50대 여성이 심각한 증상을 보이고 있습니다. 고열이 나고 기침과 가래가 심하게 나오고 있어요. 체온은 39도 이상이고 숨쉬는 것도 힘들어합니다. 저희 위치는 5호선 구분다리역입니다. 제발 즉시 응급차를 보내주세요.  \n",
      "8                                                                                                 지금 지나가는 등산객 30대 남성이 심각한 부상을 입었습니다. 야생 동물에게 다친 것으로 보이는 깊은 상처에서 드랭으로 출혈이 나고 있어요. 의식이 흐릿하고 피가 계속 쏟아 지고 있습니다. 저희 위치는 제주도 우도입니다. 제발 빨리 응급차를 보내주세요.  \n",
      "9                                                                                                          안녕하세요. 긴급상황입니다. 지금 10대 남학생이 골절을 당했습니다. 다리가 심하게 부러져있고 통증이 너무 심해 움직일 수 없습니다. 부위가 부풀어 오르고 있습니다. 저희 위치는 태전고등학교 운동장입니다. 제발 빨리 응급차를 보내주세요.  \n",
      "10                   긴급상황입니다. 전기차에 불이 났어요. 운전자가 화상을 입었습니다. 운전자는 50대 남자로 보여요. 화상 정도가 심각해요. 피부가 크게 벗겨지고 통증이 너무 심해 의식이 혼미해져 있습니다. 화상 부위는 팔과 가슴 쪽입니다. 저희 위치는 강원도 양양입니다. 제발 즉시 응급차를 보내주세요. 화상이 너무 심각해서 바로 치료가 필요합니다. 어떤 조치를 취해야 할지 빨리 알려주세요. 부탁드립니다.  \n",
      "11                                                  안녕하세요. 어린이집 아동이 소아 불량과 가벼운 복통을 겪고 있습니다. 증상이 심각하지는 않지만 복통이 계속해서 불편해하고 있습니다. 식사 후에 증상이 더 나아지지 않고 있습니다. 저희 위치는 부산 엄마사랑어린이집입니다. 이 상황에서 어떤 조치를 취해야 할지 조언을 부탁드립니다. 필요하다면 병원 방문을 고려하고 있습니다. 감사합니다.  \n",
      "12                                                            버스 운전 기사 50대 남성이 고혈압 관리 때문에 고민이라 신고합니다. 최근에 혈압이 140 슬래시 90 정도로 올라갔고 평소보다 약간의 두통이 있습니다. 이 상태가 며칠째 지속되고 있답니다. 현재 특별한 증상은 없지만 어떻게 대처해야 할지 조언을 부탁드립니다. 저희 위치는 대전 중구 은행동 성심당 본점 근처입니다.  \n",
      "13  안녕하세요. 지금 초등학교 여학생이 경미한 눈에 자극을 겪고 있습니다. 3학년 정도로 보여요. 눈에 가려움에 붉어지고 약간의 눈물과 결막에 부기가 있습니다. 특히 햇빛이나 밝은 빛에 민감해져서 불편해하고 있습니다. 증상이 심각하지는 않지만 며칠째 계속되고 있어 걱정입니다. 저희 위치는 영경초등학교입니다. 이 상황에서 어떤 조치를 취해야 할지 조언을 부탁드립니다. 필요한 경우 병원 방문도 고려하고 있습니다. 감사합니다.  \n",
      "14                                                                                저는 30대 남성입니다. 경주 진현동의 불국사 근처에서 스트레스로 인해 불안감과 우울감이 심해지고 있습니다. 특히 잠을 잘 자지 못하고 일상생활에 영향을 받고 있어요. 현재 심각한 자해 생각은 없지만 도움이 필요하다고 느끼고 있습니다. 지약이 문제인 걸까요? 이사를 고려 중입니다.  \n"
     ]
    }
   ],
   "source": [
    "# 반복문을 통해, 파일 하나씩 읽어서 텍스트 변환, 변환된 텍스트를 데이터 프레임에 추가\n",
    "\n",
    "# 빈 데이터프레임 선언\n",
    "audio_df = pd.DataFrame(columns=[\"filename\", \"transcript\"])\n",
    "\n",
    "# 반복문 수행하면서 오디오 변환\n",
    "for filename in file_names:\n",
    "    try:\n",
    "        transcript = audio_to_text(audio_path, filename)\n",
    "        # 데이터프레임에 추가\n",
    "        audio_df = pd.concat([audio_df, pd.DataFrame({\"filename\": [filename], \"transcript\": [transcript]})], ignore_index=True)\n",
    "    except Exception as e:\n",
    "        print(f\"Error processing {filename}: {e}\")\n",
    "\n",
    "# 데이터프레임 결과 조회\n",
    "print(audio_df)\n"
   ]
  },
  {
   "cell_type": "markdown",
   "metadata": {
    "id": "IUa74E7ZfQQ_"
   },
   "source": [
    "### (2) 오디오 데이터 추가 수집(제작) 및 변환\n",
    "\n",
    "* 세부사항\n",
    "    * 응급 상황에 맞는 음성 녹음하기\n",
    "        * 응급 등급별 1개 이상씩(총 5개 이상)\n",
    "    * 반복문을 통해 모든 음성 파일 데이터 변환 : STT\n",
    "        * 변환 내용은 위에서 저장한 데이터프레임에 추가\n",
    "    * 변환 후 음성 내용과 변환 결과를 비교\n"
   ]
  },
  {
   "cell_type": "code",
   "execution_count": null,
   "metadata": {
    "id": "lTEKap9IfQnL"
   },
   "outputs": [],
   "source": []
  },
  {
   "cell_type": "markdown",
   "metadata": {
    "id": "GL1VaDQxNT4B"
   },
   "source": [
    "## **3. Summary**"
   ]
  },
  {
   "cell_type": "markdown",
   "metadata": {
    "id": "7G7sHQ3rgVvQ"
   },
   "source": [
    "* 세부사항\n",
    "    * 문서요약 예제 파일을 참조하여 테스트 해 봅니다.\n",
    "    * 코드를 참조하여, 원하는 형식에 맞게 요약이 되도록 프롬프트를 구성합니다.\n",
    "        * 요약 시 중요 키워드들이 함께 도출되도록 합니다.\n",
    "        * 가능하다면, 요약 문장 길이에 제한을 둡시다.\n",
    "    * 반복문을 통해 요약하고, 결과를 데이터프레임에 추가합니다.\n",
    "        * summary 열을 추가하고, 요약 결과를 입력\n",
    "            * 요약결과와 키워드는 하나의 문자열로 붙여서 summary열에 추가"
   ]
  },
  {
   "cell_type": "markdown",
   "metadata": {
    "id": "sSI7l5O2yBj_"
   },
   "source": [
    "### (1) 문서 요약"
   ]
  },
  {
   "cell_type": "markdown",
   "metadata": {
    "id": "5Ihl3Snslpcs"
   },
   "source": [
    "* 문서 요약 예제"
   ]
  },
  {
   "cell_type": "code",
   "execution_count": null,
   "metadata": {
    "colab": {
     "base_uri": "https://localhost:8080/"
    },
    "executionInfo": {
     "elapsed": 3531,
     "status": "ok",
     "timestamp": 1731896736409,
     "user": {
      "displayName": "이예림 (겨울냥국)",
      "userId": "03592088159420229142"
     },
     "user_tz": -540
    },
    "id": "3J6nqyp0jQ2q",
    "outputId": "37c9d37f-a49a-4da4-8446-be05733a6b42"
   },
   "outputs": [
    {
     "name": "stdout",
     "output_type": "stream",
     "text": [
      "{\"summary\": \"한국은행 총재는 올해 성장률이 기존 전망치보다 낮아질 가능성이 크다고 밝히며 2.2∼2.3%로 전망치가 조정될 것으로 예상했다. 수출 감소가 주요 이유로 손을 든 배경을 분석하며 미국 대선, 달러 가격 변동 등을 고려하여 다음 달의 기준금리 결정 방향을 결정할 것이라고 밝혔다.\"}\n"
     ]
    }
   ],
   "source": [
    "input_text = '''\n",
    "한국은행 총재가 \"올해 성장률이 기존 전망치 2.4%보다 낮아질 가능성이 크다\"며 \"2.2∼2.3% 정도로 떨어지지 않을까 생각한다\"고 밝혔습니다.\n",
    "이 총재는 오늘(29일) 국회 기획재정위원회 국정감사에 출석해 한은의 전망을 크게 밑돈 3분기 성장률을 바탕으로 올해 성장률 전망치가 조정될 가능성에 대해 이렇게 말했습니다.\n",
    "성장률 하락의 가장 큰 요인인 수출 감소의 배경에 대해 이 총재는 \"금액 기준으로 봐서는 수출이 안 떨어졌는데, 수량을 기준으로 떨어졌다\"며 \"자동차 파업 등 일시적 요인과 화학제품·반도체의 중국과 경쟁 등으로 수량이 안 늘어나는 것 같은데, 원인을 더 분석해봐야 할 사안\"이라고 진단했습니다.\n",
    "다음 달 28일 열릴 기준금리 결정 방향에 대해서는 \"금리 결정할 때 하나의 변수만 보지 않고 종합적으로 보는데, 우선 미국 대선과 연방준비제도 금리 결정으로 경제 상황이 어떻게 변할지 보겠다\"고 밝혔습니다.\n",
    "또 \"아울러 이후 달러가 어떻게 될지, 수출 등 내년 경제 전망과 거시안전성 정책이 부동산·가계부채에 미치는 영향 등도 고려해 결정하겠다\"고 말했습니다.\n",
    "'''\n",
    "\n",
    "system_role = '''당신은 신문기사에서 핵심을 요약하는 어시스턴트입니다.\n",
    "응답은 다음의 형식을 지켜주세요\n",
    "{\"summary\": \\\"텍스트 요약\\\"}\n",
    "'''\n",
    "\n",
    "response = client.chat.completions.create(\n",
    "    model=\"gpt-3.5-turbo\",\n",
    "    messages=[\n",
    "        {\n",
    "            \"role\": \"system\",\n",
    "            \"content\": system_role\n",
    "        },\n",
    "        {\n",
    "            \"role\": \"user\",\n",
    "            \"content\": input_text\n",
    "        }\n",
    "    ]\n",
    ")\n",
    "\n",
    "# 답변\n",
    "answer = response.choices[0].message.content\n",
    "print(answer)"
   ]
  },
  {
   "cell_type": "markdown",
   "metadata": {
    "id": "4-tmXUmNZ7Iq"
   },
   "source": [
    "* 문서 요약 함수로 생성"
   ]
  },
  {
   "cell_type": "code",
   "execution_count": null,
   "metadata": {
    "id": "ioE75KH2Z9ES"
   },
   "outputs": [],
   "source": [
    "def text_summary(input_text):\n",
    "    # OpenAI 클라이언트 생성\n",
    "\n",
    "\n",
    "    # 시스템 역할과 응답 형식 지정\n",
    "\n",
    "\n",
    "\n",
    "\n",
    "    # 입력데이터를 GPT-3.5-turbo에 전달하고 답변 받아오기\n",
    "    response = client.chat.completions.create(\n",
    "        model=\"gpt-3.5-turbo\",\n",
    "        messages=[\n",
    "            {\n",
    "                \"role\": \"system\",\n",
    "                \"content\": system_role\n",
    "            },\n",
    "            {\n",
    "                \"role\": \"user\",\n",
    "                \"content\": input_text\n",
    "            }\n",
    "        ]\n",
    "    )\n",
    "\n",
    "    # 응답 받기\n",
    "\n",
    "\n",
    "    # 응답형식을 정리하고 return\n",
    "\n"
   ]
  },
  {
   "cell_type": "code",
   "execution_count": null,
   "metadata": {
    "id": "S69nngnsI_6M"
   },
   "outputs": [],
   "source": [
    "def text_summary(input_text):\n",
    "    # OpenAI 클라이언트 생성\n",
    "    client = OpenAI()\n",
    "\n",
    "#  요약 결과로 KTAS 5등급에 따라 응급실 방문 여부를 판단해서 요약 내용에 붙여주세요.\n",
    "    # 시스템 역할과 응답 형식 지정\n",
    "    system_role = '''당신은 응급실에서 신고를 요약해서 전달하는 간호사입니다.\n",
    "    응답은 다음의 형식을 지켜주세요: {\"summary\": \"텍스트 요약\", \"keywords\": [\"키워드1\", \"키워드2\", ...]}\n",
    "    환자의 인적 정보와 증상을 육하원칙에 따라 정리해서 응답해야 합니다. 총 길이는 60자 이내입니다.\n",
    "    예를 들면 * 중요 키워드 : 우도, 등산객, 상처, 출혈, 의식 흐림, 응급차, * 내용 요약 : 우도 등산객, 다친 깊은 상처 출혈. 의식 흐림, 지속 출혈. 응급차 요청 중.\n",
    "    * 중요 키워드 : 아버지, 마흔아홉, 넘어짐, 피출혈, 어지러움, 응급실, * 내용 요약 : 마흔아홉 살 아버지가 계단에서 넘어져 머리에서 피가 나며 어지러움을 호소 중. 응급실 방문 고려 요망.\n",
    "    이런식으로 결과가 나와야 합니다.'''\n",
    "\n",
    "    # 입력데이터를 GPT-3.5-turbo에 전달하고 답변 받아오기\n",
    "    response = client.chat.completions.create(\n",
    "        model=\"gpt-3.5-turbo\",\n",
    "        messages=[\n",
    "            {\n",
    "                \"role\": \"system\",\n",
    "                \"content\": system_role\n",
    "            },\n",
    "            {\n",
    "                \"role\": \"user\",\n",
    "                \"content\": input_text\n",
    "            }\n",
    "        ]\n",
    "    )\n",
    "\n",
    "    # 응답 받기\n",
    "    answer = response.choices[0].message.content\n",
    "\n",
    "    # 응답 형식 정리\n",
    "    # 예: {\"summary\": \"요약문\", \"keywords\": [\"키워드1\", \"키워드2\"]}\n",
    "    result = eval(answer)  # JSON 형식으로 변환\n",
    "    # result = json.loads(answer)\n",
    "    return result['summary'], result['keywords']"
   ]
  },
  {
   "cell_type": "markdown",
   "metadata": {
    "id": "o2Sd6mjtlsZl"
   },
   "source": [
    "* 저장된 text를 하나씩 불러와서 요약하고 다시 저장하기"
   ]
  },
  {
   "cell_type": "code",
   "execution_count": null,
   "metadata": {
    "id": "Lx0Ltwcyx-n4"
   },
   "outputs": [],
   "source": [
    "# summary 열 추가\n",
    "audio_df['summary'] = None  # 요약 결과를 저장할 열 생성\n",
    "\n",
    "# 각 transcript를 요약하여 summary 열에 추가\n",
    "for index, row in audio_df.iterrows():\n",
    "    transcript = row['transcript']\n",
    "    summary, keywords = text_summary(transcript)\n",
    "    # 형식 변경: 중요 키워드 : keywords, 내용 요약 : summary\n",
    "    summary_with_keywords = f\"* 중요 키워드 : {', '.join(keywords)}, * 내용 요약 : {summary}\"\n",
    "    audio_df.at[index, 'summary'] = summary_with_keywords\n"
   ]
  },
  {
   "cell_type": "code",
   "execution_count": null,
   "metadata": {
    "colab": {
     "base_uri": "https://localhost:8080/",
     "height": 1000
    },
    "executionInfo": {
     "elapsed": 294,
     "status": "ok",
     "timestamp": 1731912688463,
     "user": {
      "displayName": "이예림 (겨울냥국)",
      "userId": "03592088159420229142"
     },
     "user_tz": -540
    },
    "id": "PehAt7ALyW_E",
    "outputId": "eebc3d30-ccf7-447a-8d67-df3bf7f174ed"
   },
   "outputs": [
    {
     "data": {
      "application/vnd.google.colaboratory.intrinsic+json": {
       "summary": "{\n  \"name\": \"audio_df\",\n  \"rows\": 15,\n  \"fields\": [\n    {\n      \"column\": \"filename\",\n      \"properties\": {\n        \"dtype\": \"string\",\n        \"num_unique_values\": 15,\n        \"samples\": [\n          \"audio11.mp3\",\n          \"audio12.mp3\",\n          \"audio1.mp3\"\n        ],\n        \"semantic_type\": \"\",\n        \"description\": \"\"\n      }\n    },\n    {\n      \"column\": \"transcript\",\n      \"properties\": {\n        \"dtype\": \"string\",\n        \"num_unique_values\": 15,\n        \"samples\": [\n          \"\\uc548\\ub155\\ud558\\uc138\\uc694. \\uae34\\uae09\\uc0c1\\ud669\\uc785\\ub2c8\\ub2e4. \\uc9c0\\uae08 10\\ub300 \\ub0a8\\ud559\\uc0dd\\uc774 \\uace8\\uc808\\uc744 \\ub2f9\\ud588\\uc2b5\\ub2c8\\ub2e4. \\ub2e4\\ub9ac\\uac00 \\uc2ec\\ud558\\uac8c \\ubd80\\ub7ec\\uc838\\uc788\\uace0 \\ud1b5\\uc99d\\uc774 \\ub108\\ubb34 \\uc2ec\\ud574 \\uc6c0\\uc9c1\\uc77c \\uc218 \\uc5c6\\uc2b5\\ub2c8\\ub2e4. \\ubd80\\uc704\\uac00 \\ubd80\\ud480\\uc5b4 \\uc624\\ub974\\uace0 \\uc788\\uc2b5\\ub2c8\\ub2e4. \\uc800\\ud76c \\uc704\\uce58\\ub294 \\ud0dc\\uc804\\uace0\\ub4f1\\ud559\\uad50 \\uc6b4\\ub3d9\\uc7a5\\uc785\\ub2c8\\ub2e4. \\uc81c\\ubc1c \\ube68\\ub9ac \\uc751\\uae09\\ucc28\\ub97c \\ubcf4\\ub0b4\\uc8fc\\uc138\\uc694.\",\n          \"\\uc548\\ub155\\ud558\\uc138\\uc694. \\uc5b4\\ub9b0\\uc774\\uc9d1 \\uc544\\ub3d9\\uc774 \\uc18c\\uc544 \\ubd88\\ub7c9\\uacfc \\uac00\\ubcbc\\uc6b4 \\ubcf5\\ud1b5\\uc744 \\uacaa\\uace0 \\uc788\\uc2b5\\ub2c8\\ub2e4. \\uc99d\\uc0c1\\uc774 \\uc2ec\\uac01\\ud558\\uc9c0\\ub294 \\uc54a\\uc9c0\\ub9cc \\ubcf5\\ud1b5\\uc774 \\uacc4\\uc18d\\ud574\\uc11c \\ubd88\\ud3b8\\ud574\\ud558\\uace0 \\uc788\\uc2b5\\ub2c8\\ub2e4. \\uc2dd\\uc0ac \\ud6c4\\uc5d0 \\uc99d\\uc0c1\\uc774 \\ub354 \\ub098\\uc544\\uc9c0\\uc9c0 \\uc54a\\uace0 \\uc788\\uc2b5\\ub2c8\\ub2e4. \\uc800\\ud76c \\uc704\\uce58\\ub294 \\ubd80\\uc0b0 \\uc5c4\\ub9c8\\uc0ac\\ub791\\uc5b4\\ub9b0\\uc774\\uc9d1\\uc785\\ub2c8\\ub2e4. \\uc774 \\uc0c1\\ud669\\uc5d0\\uc11c \\uc5b4\\ub5a4 \\uc870\\uce58\\ub97c \\ucde8\\ud574\\uc57c \\ud560\\uc9c0 \\uc870\\uc5b8\\uc744 \\ubd80\\ud0c1\\ub4dc\\ub9bd\\ub2c8\\ub2e4. \\ud544\\uc694\\ud558\\ub2e4\\uba74 \\ubcd1\\uc6d0 \\ubc29\\ubb38\\uc744 \\uace0\\ub824\\ud558\\uace0 \\uc788\\uc2b5\\ub2c8\\ub2e4. \\uac10\\uc0ac\\ud569\\ub2c8\\ub2e4.\",\n          \"\\uc9c0\\uae08 \\uc544\\ube60\\uac00 \\ub118\\uc5b4\\uc84c\\uc5b4\\uc694. \\uba38\\ub9ac\\uc5d0\\uc11c \\ud53c\\uac00 \\ub098\\ub294\\ub370 \\uc228\\uc740 \\uc26c\\uace0 \\uc788\\uc5b4\\uc694. \\uc9c0\\uae08 \\ub9c9 \\uc77c\\uc5b4\\ub0ac\\uc5b4\\uc694. \\uadfc\\ub370 \\uc870\\uae08 \\uc5b4\\uc9c0\\ub7fd\\ub2e4\\uace0 \\ud558\\ub124\\uc694. \\ub124\\ub124 \\uacc4\\ub2e8\\uc5d0\\uc11c \\uad74\\ub800\\uc5b4\\uc694. \\uc9c0\\uae08\\uc740 \\ubb3c \\ub9c8\\uc2dc\\uace0 \\uc788\\ub294\\ub370 \\uc774\\uac70 \\uc751\\uae09\\uc2e4\\ub85c \\uac00\\ubd10\\uc57c \\ud560\\uae4c\\uc694? \\ud53c\\ub3c4 \\uc9c0\\uae08 \\uba38\\uc84c\\uc5b4\\uc694. \\ub124\\ub124 \\ub098\\uc774\\ub294 \\ub9c8\\ud754\\uc544\\ud649 \\uc0b4 \\uc774\\uc138\\uc694. \\uc5b4\\ub5bb\\uac8c \\ud574\\uc57c \\ud560\\uc9c0 \\ubaa8\\ub974\\uaca0\\uc5b4\\uc694.\"\n        ],\n        \"semantic_type\": \"\",\n        \"description\": \"\"\n      }\n    },\n    {\n      \"column\": \"summary\",\n      \"properties\": {\n        \"dtype\": \"string\",\n        \"num_unique_values\": 15,\n        \"samples\": [\n          \"* \\uc911\\uc694 \\ud0a4\\uc6cc\\ub4dc : \\ud0dc\\uc804\\uace0\\ub4f1\\ud559\\uad50, \\uc6b4\\ub3d9\\uc7a5, \\uace8\\uc808, \\ud1b5\\uc99d, \\ubd80\\ud480\\uc5b4 \\uc624\\ub984, \\uc751\\uae09\\ucc28, * \\ub0b4\\uc6a9 \\uc694\\uc57d : \\ud0dc\\uc804\\uace0\\ub4f1\\ud559\\uad50 \\uc6b4\\ub3d9\\uc7a5\\uc5d0\\uc11c \\ub2e4\\ub9ac \\uace8\\uc808, \\uc2ec\\ud55c \\ud1b5\\uc99d\\uc73c\\ub85c \\uc6c0\\uc9c1\\uc77c \\uc218 \\uc5c6\\uc74c. \\ubd80\\uc704 \\ubd80\\ud480\\uc5b4 \\uc624\\ub984. \\uc751\\uae09\\ucc28 \\uc694\\uccad \\uc911.\",\n          \"* \\uc911\\uc694 \\ud0a4\\uc6cc\\ub4dc : \\ubd80\\uc0b0 \\uc5c4\\ub9c8\\uc0ac\\ub791\\uc5b4\\ub9b0\\uc774\\uc9d1, \\uc544\\ub3d9, \\uc18c\\uc544 \\ubd88\\ub7c9, \\ubcf5\\ud1b5, \\uc2dd\\uc0ac \\ud6c4, \\ubcd1\\uc6d0 \\ubc29\\ubb38, * \\ub0b4\\uc6a9 \\uc694\\uc57d : \\ubd80\\uc0b0 \\uc5c4\\ub9c8\\uc0ac\\ub791\\uc5b4\\ub9b0\\uc774\\uc9d1 \\uc544\\ub3d9, \\uc18c\\uc544 \\ubd88\\ub7c9\\uacfc \\uac00\\ubcbc\\uc6b4 \\ubcf5\\ud1b5. \\uc2dd\\uc0ac \\ud6c4 \\uacc4\\uc18d \\ubd88\\ud3b8. \\ubcd1\\uc6d0 \\ubc29\\ubb38\\uc744 \\uace0\\ub824 \\uc911.\",\n          \"* \\uc911\\uc694 \\ud0a4\\uc6cc\\ub4dc : \\uc544\\ubc84\\uc9c0, \\ub9c8\\ud754\\uc544\\ud649, \\ub118\\uc5b4\\uc9d0, \\ud53c\\ucd9c\\ud608, \\uc5b4\\uc9c0\\ub7ec\\uc6c0, \\uc751\\uae09\\uc2e4, * \\ub0b4\\uc6a9 \\uc694\\uc57d : \\ub9c8\\ud754\\uc544\\ud649 \\uc0b4 \\uc544\\ubc84\\uc9c0\\uac00 \\uacc4\\ub2e8\\uc5d0\\uc11c \\ub118\\uc5b4\\uc838 \\uba38\\ub9ac \\ud53c\\ucd9c\\ud608\\ub85c \\uc5b4\\uc9c0\\ub7ec\\uc6c0 \\ud638\\uc18c \\uc911. \\uc751\\uae09\\uc2e4 \\ubc29\\ubb38 \\uace0\\ub824 \\uc694\\ub9dd.\"\n        ],\n        \"semantic_type\": \"\",\n        \"description\": \"\"\n      }\n    }\n  ]\n}",
       "type": "dataframe",
       "variable_name": "audio_df"
      },
      "text/html": [
       "\n",
       "  <div id=\"df-8bb18050-592f-49c6-a163-3080e29fb520\" class=\"colab-df-container\">\n",
       "    <div>\n",
       "<style scoped>\n",
       "    .dataframe tbody tr th:only-of-type {\n",
       "        vertical-align: middle;\n",
       "    }\n",
       "\n",
       "    .dataframe tbody tr th {\n",
       "        vertical-align: top;\n",
       "    }\n",
       "\n",
       "    .dataframe thead th {\n",
       "        text-align: right;\n",
       "    }\n",
       "</style>\n",
       "<table border=\"1\" class=\"dataframe\">\n",
       "  <thead>\n",
       "    <tr style=\"text-align: right;\">\n",
       "      <th></th>\n",
       "      <th>filename</th>\n",
       "      <th>transcript</th>\n",
       "      <th>summary</th>\n",
       "    </tr>\n",
       "  </thead>\n",
       "  <tbody>\n",
       "    <tr>\n",
       "      <th>0</th>\n",
       "      <td>audio1.mp3</td>\n",
       "      <td>지금 아빠가 넘어졌어요. 머리에서 피가 나는데 숨은 쉬고 있어요. 지금 막 일어났어요. 근데 조금 어지럽다고 하네요. 네네 계단에서 굴렀어요. 지금은 물 마시고 있는데 이거 응급실로 가봐야 할까요? 피도 지금 머졌어요. 네네 나이는 마흔아홉 살 이세요. 어떻게 해야 할지 모르겠어요.</td>\n",
       "      <td>* 중요 키워드 : 아버지, 마흔아홉, 넘어짐, 피출혈, 어지러움, 응급실, * 내용 요약 : 마흔아홉 살 아버지가 계단에서 넘어져 머리 피출혈로 어지러움 호소 중. 응급실 방문 고려 요망.</td>\n",
       "    </tr>\n",
       "    <tr>\n",
       "      <th>1</th>\n",
       "      <td>audio5.mp3</td>\n",
       "      <td>화장실에서 미끄러워서 엉덩방아를 찍었어요. 그러고 꼬리뼈가 계속 아파요. 점점 아픈 것 같은데 응급실을 가야 할까요?</td>\n",
       "      <td>* 중요 키워드 : 미끄러짐, 엉덩방아, 꼬리뼈, 아픔, 응급실, * 내용 요약 : 화장실에서 미끄러져 엉덩방아 찍고 꼬리뼈 계속 아픔. 응급실 방문 고려 요망</td>\n",
       "    </tr>\n",
       "    <tr>\n",
       "      <th>2</th>\n",
       "      <td>audio3.mp3</td>\n",
       "      <td>동생이 콩 가지고 놀다가 코에 들어가서 한쪽 코가 막혔어요. 아무리 빼보려 해도 안 빠져요. 어떻게 해야 할까요? 동생이 너무 힘들어 하네요.</td>\n",
       "      <td>* 중요 키워드 : 콩, 코막힘, 동생, 응급실, * 내용 요약 : 콩으로 한쪽 코 막힘. 제거 불가. 응급실 방문 고려.</td>\n",
       "    </tr>\n",
       "    <tr>\n",
       "      <th>3</th>\n",
       "      <td>audio2.mp3</td>\n",
       "      <td>119죠. 제가 지금 열이 열이 올랐어요. 몇 도냐면은 38도 정도 돼요. 머리가 아프고 좀 띵한 것 같아요. 우한이 좀 들어요. 어떻게 해야 할까요?</td>\n",
       "      <td>* 중요 키워드 : 38도, 머리 통증, 어지러움, 열, 수액, * 내용 요약 : 38도 열이 나며 머리 통증, 어지러움 호소 중. 응급 상황 아님. 쉬면서 수액 섭취 권고.</td>\n",
       "    </tr>\n",
       "    <tr>\n",
       "      <th>4</th>\n",
       "      <td>audio4.mp3</td>\n",
       "      <td>아까 가다가 머리를 박았는데, 처음에는 괜찮다가, 지금 3시간 정도 지났는데, 머리가 어지럽고 속이 매스꺼워요. 어떻게 해야 할까요?</td>\n",
       "      <td>* 중요 키워드 : 머리 박음, 어지러움, 속 메스꺼움, 응급실, * 내용 요약 : 머리를 박은 후 3시간이 지나 머리 어지럽고 속 메스꺼움. 응급실 방문 권장됨.</td>\n",
       "    </tr>\n",
       "    <tr>\n",
       "      <th>5</th>\n",
       "      <td>audio06.mp3</td>\n",
       "      <td>갑자기 심각한 알레르기 반응이 왔어요 저희 신랑이 갑자기 두드러기와 호흡 곤란을 보이고 있어요 얼굴과 입술이 부풀어 오르고 있고 숨을 쉬기 힘들어 합니다 저희 집 주소는 영종도 온서역 근처이며 알레르기 원인은 오이 입니다 도와주세요</td>\n",
       "      <td>* 중요 키워드 : 알레르기 반응, 호흡 곤란, 두드러기, 오이, 영종도, 온서역, * 내용 요약 : 신랑이 오이에 대한 심각한 알레르기 반응, 두드러기, 호흡 곤란, 부어오른 얼굴과 입술, 온서역 주변. 응급 신고 중.</td>\n",
       "    </tr>\n",
       "    <tr>\n",
       "      <th>6</th>\n",
       "      <td>audio07.mp3</td>\n",
       "      <td>여기는 분당로 42번 길입니다. 지금 교통사고가 발생했습니다. 빨간옷을 입은 여자가 차에 치여서 심하게 다쳤고 다리에서 대량으로 출혈이 나고 있습니다. 의식이 없는 것 같고 심각한 상태입니다. 출혈이 멈추지 않고 있어요. 어떻게 해야 할지 알려주세요.</td>\n",
       "      <td>* 중요 키워드 : 분당로 42번 길, 교통사고, 빨간옷 여자, 출혈, 의식 없음, * 내용 요약 : 길에서 빨간옷 여자 차에 치여 다쳐 출혈 중인 상황. 의식 없음. 출혈 멈추지 않음.</td>\n",
       "    </tr>\n",
       "    <tr>\n",
       "      <th>7</th>\n",
       "      <td>audio10.mp3</td>\n",
       "      <td>안녕하세요. 지금 전철 안에 50대 여성이 심각한 증상을 보이고 있습니다. 고열이 나고 기침과 가래가 심하게 나오고 있어요. 체온은 39도 이상이고 숨쉬는 것도 힘들어합니다. 저희 위치는 5호선 구분다리역입니다. 제발 즉시 응급차를 보내주세요.</td>\n",
       "      <td>* 중요 키워드 : 5호선, 고열, 호흡곤란, 50대 여성, 응급차, * 내용 요약 : 5호선 구분다리역에서 고열과 호흡곤란을 호소하는 50대 여성 발견. 긴급 응급차 요청</td>\n",
       "    </tr>\n",
       "    <tr>\n",
       "      <th>8</th>\n",
       "      <td>audio09.mp3</td>\n",
       "      <td>지금 지나가는 등산객 30대 남성이 심각한 부상을 입었습니다. 야생 동물에게 다친 것으로 보이는 깊은 상처에서 드랭으로 출혈이 나고 있어요. 의식이 흐릿하고 피가 계속 쏟아 지고 있습니다. 저희 위치는 제주도 우도입니다. 제발 빨리 응급차를 보내주세요.</td>\n",
       "      <td>* 중요 키워드 : 우도, 등산객, 깊은 상처, 출혈, 의식 흐림, 응급차, * 내용 요약 : 우도 등산객, 다친 깊은 상처 출혈. 의식 흐림, 지속 출혈. 응급차 요청 중.</td>\n",
       "    </tr>\n",
       "    <tr>\n",
       "      <th>9</th>\n",
       "      <td>audio11.mp3</td>\n",
       "      <td>안녕하세요. 긴급상황입니다. 지금 10대 남학생이 골절을 당했습니다. 다리가 심하게 부러져있고 통증이 너무 심해 움직일 수 없습니다. 부위가 부풀어 오르고 있습니다. 저희 위치는 태전고등학교 운동장입니다. 제발 빨리 응급차를 보내주세요.</td>\n",
       "      <td>* 중요 키워드 : 태전고등학교, 운동장, 골절, 통증, 부풀어 오름, 응급차, * 내용 요약 : 태전고등학교 운동장에서 다리 골절, 심한 통증으로 움직일 수 없음. 부위 부풀어 오름. 응급차 요청 중.</td>\n",
       "    </tr>\n",
       "    <tr>\n",
       "      <th>10</th>\n",
       "      <td>audio08.mp3</td>\n",
       "      <td>긴급상황입니다. 전기차에 불이 났어요. 운전자가 화상을 입었습니다. 운전자는 50대 남자로 보여요. 화상 정도가 심각해요. 피부가 크게 벗겨지고 통증이 너무 심해 의식이 혼미해져 있습니다. 화상 부위는 팔과 가슴 쪽입니다. 저희 위치는 강원도 양양입니다. 제발 즉시 응급차를 보내주세요. 화상이 너무 심각해서 바로 치료가 필요합니다. 어떤 조치를 취해야 할지 빨리 알려주세요. 부탁드립니다.</td>\n",
       "      <td>* 중요 키워드 : 50대, 남성, 운전자, 전기차, 화재, 화상, 의식 혼미, 통증, 팔, 가슴, 강원도 양양, 응급차, * 내용 요약 : 50대 남성 운전자, 전기차 화재로 심각 화상. 의식 혼미, 통증. 팔과 가슴 화상. 응급차 요청, 즉각 치료 필요</td>\n",
       "    </tr>\n",
       "    <tr>\n",
       "      <th>11</th>\n",
       "      <td>audio12.mp3</td>\n",
       "      <td>안녕하세요. 어린이집 아동이 소아 불량과 가벼운 복통을 겪고 있습니다. 증상이 심각하지는 않지만 복통이 계속해서 불편해하고 있습니다. 식사 후에 증상이 더 나아지지 않고 있습니다. 저희 위치는 부산 엄마사랑어린이집입니다. 이 상황에서 어떤 조치를 취해야 할지 조언을 부탁드립니다. 필요하다면 병원 방문을 고려하고 있습니다. 감사합니다.</td>\n",
       "      <td>* 중요 키워드 : 부산 엄마사랑어린이집, 아동, 소아 불량, 복통, 식사 후, 병원 방문, * 내용 요약 : 부산 엄마사랑어린이집 아동, 소아 불량과 가벼운 복통. 식사 후 계속 불편. 병원 방문을 고려 중.</td>\n",
       "    </tr>\n",
       "    <tr>\n",
       "      <th>12</th>\n",
       "      <td>audio14.mp3</td>\n",
       "      <td>버스 운전 기사 50대 남성이 고혈압 관리 때문에 고민이라 신고합니다. 최근에 혈압이 140 슬래시 90 정도로 올라갔고 평소보다 약간의 두통이 있습니다. 이 상태가 며칠째 지속되고 있답니다. 현재 특별한 증상은 없지만 어떻게 대처해야 할지 조언을 부탁드립니다. 저희 위치는 대전 중구 은행동 성심당 본점 근처입니다.</td>\n",
       "      <td>* 중요 키워드 : 50대, 고혈압, 혈압, 두통, 대처, 대전, 성심당, * 내용 요약 : 50대 고혈압 운전기사, 혈압 140/90, 두통. 특별증상X. 응급상황X. 대전 중구 은행동 성심당 근무.</td>\n",
       "    </tr>\n",
       "    <tr>\n",
       "      <th>13</th>\n",
       "      <td>audio13.mp3</td>\n",
       "      <td>안녕하세요. 지금 초등학교 여학생이 경미한 눈에 자극을 겪고 있습니다. 3학년 정도로 보여요. 눈에 가려움에 붉어지고 약간의 눈물과 결막에 부기가 있습니다. 특히 햇빛이나 밝은 빛에 민감해져서 불편해하고 있습니다. 증상이 심각하지는 않지만 며칠째 계속되고 있어 걱정입니다. 저희 위치는 영경초등학교입니다. 이 상황에서 어떤 조치를 취해야 할지 조언을 부탁드립니다. 필요한 경우 병원 방문도 고려하고 있습니다. 감사합니다.</td>\n",
       "      <td>* 중요 키워드 : 영경초등학교, 여학생, 눈 자극, 부풀음, 민감, 의사 방문, * 내용 요약 : 영경초등학교 여학생, 눈에 자극 경미한 부기, 눈물, 결막 부풀음 있음. 강한 빛에 민감. 증상은 경미하지만 며칠째 지속. 병원 방문 현재 고려 중.</td>\n",
       "    </tr>\n",
       "    <tr>\n",
       "      <th>14</th>\n",
       "      <td>audio15.mp3</td>\n",
       "      <td>저는 30대 남성입니다. 경주 진현동의 불국사 근처에서 스트레스로 인해 불안감과 우울감이 심해지고 있습니다. 특히 잠을 잘 자지 못하고 일상생활에 영향을 받고 있어요. 현재 심각한 자해 생각은 없지만 도움이 필요하다고 느끼고 있습니다. 지약이 문제인 걸까요? 이사를 고려 중입니다.</td>\n",
       "      <td>* 중요 키워드 : 30대, 남성, 불국사, 스트레스, 불안감, 우울감, 잠 부족, 도움 필요, 이사, * 내용 요약 : 30대 남성, 불국사 근처에서 스트레스로 불안과 우울 증세. 잠 부족, 일상 영향. 자해 생각은 없으나 도움 필요. 이사도 검토 중.</td>\n",
       "    </tr>\n",
       "  </tbody>\n",
       "</table>\n",
       "</div>\n",
       "    <div class=\"colab-df-buttons\">\n",
       "\n",
       "  <div class=\"colab-df-container\">\n",
       "    <button class=\"colab-df-convert\" onclick=\"convertToInteractive('df-8bb18050-592f-49c6-a163-3080e29fb520')\"\n",
       "            title=\"Convert this dataframe to an interactive table.\"\n",
       "            style=\"display:none;\">\n",
       "\n",
       "  <svg xmlns=\"http://www.w3.org/2000/svg\" height=\"24px\" viewBox=\"0 -960 960 960\">\n",
       "    <path d=\"M120-120v-720h720v720H120Zm60-500h600v-160H180v160Zm220 220h160v-160H400v160Zm0 220h160v-160H400v160ZM180-400h160v-160H180v160Zm440 0h160v-160H620v160ZM180-180h160v-160H180v160Zm440 0h160v-160H620v160Z\"/>\n",
       "  </svg>\n",
       "    </button>\n",
       "\n",
       "  <style>\n",
       "    .colab-df-container {\n",
       "      display:flex;\n",
       "      gap: 12px;\n",
       "    }\n",
       "\n",
       "    .colab-df-convert {\n",
       "      background-color: #E8F0FE;\n",
       "      border: none;\n",
       "      border-radius: 50%;\n",
       "      cursor: pointer;\n",
       "      display: none;\n",
       "      fill: #1967D2;\n",
       "      height: 32px;\n",
       "      padding: 0 0 0 0;\n",
       "      width: 32px;\n",
       "    }\n",
       "\n",
       "    .colab-df-convert:hover {\n",
       "      background-color: #E2EBFA;\n",
       "      box-shadow: 0px 1px 2px rgba(60, 64, 67, 0.3), 0px 1px 3px 1px rgba(60, 64, 67, 0.15);\n",
       "      fill: #174EA6;\n",
       "    }\n",
       "\n",
       "    .colab-df-buttons div {\n",
       "      margin-bottom: 4px;\n",
       "    }\n",
       "\n",
       "    [theme=dark] .colab-df-convert {\n",
       "      background-color: #3B4455;\n",
       "      fill: #D2E3FC;\n",
       "    }\n",
       "\n",
       "    [theme=dark] .colab-df-convert:hover {\n",
       "      background-color: #434B5C;\n",
       "      box-shadow: 0px 1px 3px 1px rgba(0, 0, 0, 0.15);\n",
       "      filter: drop-shadow(0px 1px 2px rgba(0, 0, 0, 0.3));\n",
       "      fill: #FFFFFF;\n",
       "    }\n",
       "  </style>\n",
       "\n",
       "    <script>\n",
       "      const buttonEl =\n",
       "        document.querySelector('#df-8bb18050-592f-49c6-a163-3080e29fb520 button.colab-df-convert');\n",
       "      buttonEl.style.display =\n",
       "        google.colab.kernel.accessAllowed ? 'block' : 'none';\n",
       "\n",
       "      async function convertToInteractive(key) {\n",
       "        const element = document.querySelector('#df-8bb18050-592f-49c6-a163-3080e29fb520');\n",
       "        const dataTable =\n",
       "          await google.colab.kernel.invokeFunction('convertToInteractive',\n",
       "                                                    [key], {});\n",
       "        if (!dataTable) return;\n",
       "\n",
       "        const docLinkHtml = 'Like what you see? Visit the ' +\n",
       "          '<a target=\"_blank\" href=https://colab.research.google.com/notebooks/data_table.ipynb>data table notebook</a>'\n",
       "          + ' to learn more about interactive tables.';\n",
       "        element.innerHTML = '';\n",
       "        dataTable['output_type'] = 'display_data';\n",
       "        await google.colab.output.renderOutput(dataTable, element);\n",
       "        const docLink = document.createElement('div');\n",
       "        docLink.innerHTML = docLinkHtml;\n",
       "        element.appendChild(docLink);\n",
       "      }\n",
       "    </script>\n",
       "  </div>\n",
       "\n",
       "\n",
       "<div id=\"df-e298e515-c9a6-4389-9ce8-bd6a3d208210\">\n",
       "  <button class=\"colab-df-quickchart\" onclick=\"quickchart('df-e298e515-c9a6-4389-9ce8-bd6a3d208210')\"\n",
       "            title=\"Suggest charts\"\n",
       "            style=\"display:none;\">\n",
       "\n",
       "<svg xmlns=\"http://www.w3.org/2000/svg\" height=\"24px\"viewBox=\"0 0 24 24\"\n",
       "     width=\"24px\">\n",
       "    <g>\n",
       "        <path d=\"M19 3H5c-1.1 0-2 .9-2 2v14c0 1.1.9 2 2 2h14c1.1 0 2-.9 2-2V5c0-1.1-.9-2-2-2zM9 17H7v-7h2v7zm4 0h-2V7h2v10zm4 0h-2v-4h2v4z\"/>\n",
       "    </g>\n",
       "</svg>\n",
       "  </button>\n",
       "\n",
       "<style>\n",
       "  .colab-df-quickchart {\n",
       "      --bg-color: #E8F0FE;\n",
       "      --fill-color: #1967D2;\n",
       "      --hover-bg-color: #E2EBFA;\n",
       "      --hover-fill-color: #174EA6;\n",
       "      --disabled-fill-color: #AAA;\n",
       "      --disabled-bg-color: #DDD;\n",
       "  }\n",
       "\n",
       "  [theme=dark] .colab-df-quickchart {\n",
       "      --bg-color: #3B4455;\n",
       "      --fill-color: #D2E3FC;\n",
       "      --hover-bg-color: #434B5C;\n",
       "      --hover-fill-color: #FFFFFF;\n",
       "      --disabled-bg-color: #3B4455;\n",
       "      --disabled-fill-color: #666;\n",
       "  }\n",
       "\n",
       "  .colab-df-quickchart {\n",
       "    background-color: var(--bg-color);\n",
       "    border: none;\n",
       "    border-radius: 50%;\n",
       "    cursor: pointer;\n",
       "    display: none;\n",
       "    fill: var(--fill-color);\n",
       "    height: 32px;\n",
       "    padding: 0;\n",
       "    width: 32px;\n",
       "  }\n",
       "\n",
       "  .colab-df-quickchart:hover {\n",
       "    background-color: var(--hover-bg-color);\n",
       "    box-shadow: 0 1px 2px rgba(60, 64, 67, 0.3), 0 1px 3px 1px rgba(60, 64, 67, 0.15);\n",
       "    fill: var(--button-hover-fill-color);\n",
       "  }\n",
       "\n",
       "  .colab-df-quickchart-complete:disabled,\n",
       "  .colab-df-quickchart-complete:disabled:hover {\n",
       "    background-color: var(--disabled-bg-color);\n",
       "    fill: var(--disabled-fill-color);\n",
       "    box-shadow: none;\n",
       "  }\n",
       "\n",
       "  .colab-df-spinner {\n",
       "    border: 2px solid var(--fill-color);\n",
       "    border-color: transparent;\n",
       "    border-bottom-color: var(--fill-color);\n",
       "    animation:\n",
       "      spin 1s steps(1) infinite;\n",
       "  }\n",
       "\n",
       "  @keyframes spin {\n",
       "    0% {\n",
       "      border-color: transparent;\n",
       "      border-bottom-color: var(--fill-color);\n",
       "      border-left-color: var(--fill-color);\n",
       "    }\n",
       "    20% {\n",
       "      border-color: transparent;\n",
       "      border-left-color: var(--fill-color);\n",
       "      border-top-color: var(--fill-color);\n",
       "    }\n",
       "    30% {\n",
       "      border-color: transparent;\n",
       "      border-left-color: var(--fill-color);\n",
       "      border-top-color: var(--fill-color);\n",
       "      border-right-color: var(--fill-color);\n",
       "    }\n",
       "    40% {\n",
       "      border-color: transparent;\n",
       "      border-right-color: var(--fill-color);\n",
       "      border-top-color: var(--fill-color);\n",
       "    }\n",
       "    60% {\n",
       "      border-color: transparent;\n",
       "      border-right-color: var(--fill-color);\n",
       "    }\n",
       "    80% {\n",
       "      border-color: transparent;\n",
       "      border-right-color: var(--fill-color);\n",
       "      border-bottom-color: var(--fill-color);\n",
       "    }\n",
       "    90% {\n",
       "      border-color: transparent;\n",
       "      border-bottom-color: var(--fill-color);\n",
       "    }\n",
       "  }\n",
       "</style>\n",
       "\n",
       "  <script>\n",
       "    async function quickchart(key) {\n",
       "      const quickchartButtonEl =\n",
       "        document.querySelector('#' + key + ' button');\n",
       "      quickchartButtonEl.disabled = true;  // To prevent multiple clicks.\n",
       "      quickchartButtonEl.classList.add('colab-df-spinner');\n",
       "      try {\n",
       "        const charts = await google.colab.kernel.invokeFunction(\n",
       "            'suggestCharts', [key], {});\n",
       "      } catch (error) {\n",
       "        console.error('Error during call to suggestCharts:', error);\n",
       "      }\n",
       "      quickchartButtonEl.classList.remove('colab-df-spinner');\n",
       "      quickchartButtonEl.classList.add('colab-df-quickchart-complete');\n",
       "    }\n",
       "    (() => {\n",
       "      let quickchartButtonEl =\n",
       "        document.querySelector('#df-e298e515-c9a6-4389-9ce8-bd6a3d208210 button');\n",
       "      quickchartButtonEl.style.display =\n",
       "        google.colab.kernel.accessAllowed ? 'block' : 'none';\n",
       "    })();\n",
       "  </script>\n",
       "</div>\n",
       "\n",
       "  <div id=\"id_2991d77e-374d-4953-9b7d-fe8a672b286e\">\n",
       "    <style>\n",
       "      .colab-df-generate {\n",
       "        background-color: #E8F0FE;\n",
       "        border: none;\n",
       "        border-radius: 50%;\n",
       "        cursor: pointer;\n",
       "        display: none;\n",
       "        fill: #1967D2;\n",
       "        height: 32px;\n",
       "        padding: 0 0 0 0;\n",
       "        width: 32px;\n",
       "      }\n",
       "\n",
       "      .colab-df-generate:hover {\n",
       "        background-color: #E2EBFA;\n",
       "        box-shadow: 0px 1px 2px rgba(60, 64, 67, 0.3), 0px 1px 3px 1px rgba(60, 64, 67, 0.15);\n",
       "        fill: #174EA6;\n",
       "      }\n",
       "\n",
       "      [theme=dark] .colab-df-generate {\n",
       "        background-color: #3B4455;\n",
       "        fill: #D2E3FC;\n",
       "      }\n",
       "\n",
       "      [theme=dark] .colab-df-generate:hover {\n",
       "        background-color: #434B5C;\n",
       "        box-shadow: 0px 1px 3px 1px rgba(0, 0, 0, 0.15);\n",
       "        filter: drop-shadow(0px 1px 2px rgba(0, 0, 0, 0.3));\n",
       "        fill: #FFFFFF;\n",
       "      }\n",
       "    </style>\n",
       "    <button class=\"colab-df-generate\" onclick=\"generateWithVariable('audio_df')\"\n",
       "            title=\"Generate code using this dataframe.\"\n",
       "            style=\"display:none;\">\n",
       "\n",
       "  <svg xmlns=\"http://www.w3.org/2000/svg\" height=\"24px\"viewBox=\"0 0 24 24\"\n",
       "       width=\"24px\">\n",
       "    <path d=\"M7,19H8.4L18.45,9,17,7.55,7,17.6ZM5,21V16.75L18.45,3.32a2,2,0,0,1,2.83,0l1.4,1.43a1.91,1.91,0,0,1,.58,1.4,1.91,1.91,0,0,1-.58,1.4L9.25,21ZM18.45,9,17,7.55Zm-12,3A5.31,5.31,0,0,0,4.9,8.1,5.31,5.31,0,0,0,1,6.5,5.31,5.31,0,0,0,4.9,4.9,5.31,5.31,0,0,0,6.5,1,5.31,5.31,0,0,0,8.1,4.9,5.31,5.31,0,0,0,12,6.5,5.46,5.46,0,0,0,6.5,12Z\"/>\n",
       "  </svg>\n",
       "    </button>\n",
       "    <script>\n",
       "      (() => {\n",
       "      const buttonEl =\n",
       "        document.querySelector('#id_2991d77e-374d-4953-9b7d-fe8a672b286e button.colab-df-generate');\n",
       "      buttonEl.style.display =\n",
       "        google.colab.kernel.accessAllowed ? 'block' : 'none';\n",
       "\n",
       "      buttonEl.onclick = () => {\n",
       "        google.colab.notebook.generateWithVariable('audio_df');\n",
       "      }\n",
       "      })();\n",
       "    </script>\n",
       "  </div>\n",
       "\n",
       "    </div>\n",
       "  </div>\n"
      ],
      "text/plain": [
       "       filename  \\\n",
       "0    audio1.mp3   \n",
       "1    audio5.mp3   \n",
       "2    audio3.mp3   \n",
       "3    audio2.mp3   \n",
       "4    audio4.mp3   \n",
       "5   audio06.mp3   \n",
       "6   audio07.mp3   \n",
       "7   audio10.mp3   \n",
       "8   audio09.mp3   \n",
       "9   audio11.mp3   \n",
       "10  audio08.mp3   \n",
       "11  audio12.mp3   \n",
       "12  audio14.mp3   \n",
       "13  audio13.mp3   \n",
       "14  audio15.mp3   \n",
       "\n",
       "                                                                                                                                                                                                                                     transcript  \\\n",
       "0                                                                                지금 아빠가 넘어졌어요. 머리에서 피가 나는데 숨은 쉬고 있어요. 지금 막 일어났어요. 근데 조금 어지럽다고 하네요. 네네 계단에서 굴렀어요. 지금은 물 마시고 있는데 이거 응급실로 가봐야 할까요? 피도 지금 머졌어요. 네네 나이는 마흔아홉 살 이세요. 어떻게 해야 할지 모르겠어요.   \n",
       "1                                                                                                                                                                             화장실에서 미끄러워서 엉덩방아를 찍었어요. 그러고 꼬리뼈가 계속 아파요. 점점 아픈 것 같은데 응급실을 가야 할까요?   \n",
       "2                                                                                                                                                               동생이 콩 가지고 놀다가 코에 들어가서 한쪽 코가 막혔어요. 아무리 빼보려 해도 안 빠져요. 어떻게 해야 할까요? 동생이 너무 힘들어 하네요.   \n",
       "3                                                                                                                                                          119죠. 제가 지금 열이 열이 올랐어요. 몇 도냐면은 38도 정도 돼요. 머리가 아프고 좀 띵한 것 같아요. 우한이 좀 들어요. 어떻게 해야 할까요?   \n",
       "4                                                                                                                                                                    아까 가다가 머리를 박았는데, 처음에는 괜찮다가, 지금 3시간 정도 지났는데, 머리가 어지럽고 속이 매스꺼워요. 어떻게 해야 할까요?   \n",
       "5                                                                                                             갑자기 심각한 알레르기 반응이 왔어요 저희 신랑이 갑자기 두드러기와 호흡 곤란을 보이고 있어요 얼굴과 입술이 부풀어 오르고 있고 숨을 쉬기 힘들어 합니다 저희 집 주소는 영종도 온서역 근처이며 알레르기 원인은 오이 입니다 도와주세요   \n",
       "6                                                                                                  여기는 분당로 42번 길입니다. 지금 교통사고가 발생했습니다. 빨간옷을 입은 여자가 차에 치여서 심하게 다쳤고 다리에서 대량으로 출혈이 나고 있습니다. 의식이 없는 것 같고 심각한 상태입니다. 출혈이 멈추지 않고 있어요. 어떻게 해야 할지 알려주세요.   \n",
       "7                                                                                                      안녕하세요. 지금 전철 안에 50대 여성이 심각한 증상을 보이고 있습니다. 고열이 나고 기침과 가래가 심하게 나오고 있어요. 체온은 39도 이상이고 숨쉬는 것도 힘들어합니다. 저희 위치는 5호선 구분다리역입니다. 제발 즉시 응급차를 보내주세요.   \n",
       "8                                                                                                 지금 지나가는 등산객 30대 남성이 심각한 부상을 입었습니다. 야생 동물에게 다친 것으로 보이는 깊은 상처에서 드랭으로 출혈이 나고 있어요. 의식이 흐릿하고 피가 계속 쏟아 지고 있습니다. 저희 위치는 제주도 우도입니다. 제발 빨리 응급차를 보내주세요.   \n",
       "9                                                                                                          안녕하세요. 긴급상황입니다. 지금 10대 남학생이 골절을 당했습니다. 다리가 심하게 부러져있고 통증이 너무 심해 움직일 수 없습니다. 부위가 부풀어 오르고 있습니다. 저희 위치는 태전고등학교 운동장입니다. 제발 빨리 응급차를 보내주세요.   \n",
       "10                   긴급상황입니다. 전기차에 불이 났어요. 운전자가 화상을 입었습니다. 운전자는 50대 남자로 보여요. 화상 정도가 심각해요. 피부가 크게 벗겨지고 통증이 너무 심해 의식이 혼미해져 있습니다. 화상 부위는 팔과 가슴 쪽입니다. 저희 위치는 강원도 양양입니다. 제발 즉시 응급차를 보내주세요. 화상이 너무 심각해서 바로 치료가 필요합니다. 어떤 조치를 취해야 할지 빨리 알려주세요. 부탁드립니다.   \n",
       "11                                                  안녕하세요. 어린이집 아동이 소아 불량과 가벼운 복통을 겪고 있습니다. 증상이 심각하지는 않지만 복통이 계속해서 불편해하고 있습니다. 식사 후에 증상이 더 나아지지 않고 있습니다. 저희 위치는 부산 엄마사랑어린이집입니다. 이 상황에서 어떤 조치를 취해야 할지 조언을 부탁드립니다. 필요하다면 병원 방문을 고려하고 있습니다. 감사합니다.   \n",
       "12                                                            버스 운전 기사 50대 남성이 고혈압 관리 때문에 고민이라 신고합니다. 최근에 혈압이 140 슬래시 90 정도로 올라갔고 평소보다 약간의 두통이 있습니다. 이 상태가 며칠째 지속되고 있답니다. 현재 특별한 증상은 없지만 어떻게 대처해야 할지 조언을 부탁드립니다. 저희 위치는 대전 중구 은행동 성심당 본점 근처입니다.   \n",
       "13  안녕하세요. 지금 초등학교 여학생이 경미한 눈에 자극을 겪고 있습니다. 3학년 정도로 보여요. 눈에 가려움에 붉어지고 약간의 눈물과 결막에 부기가 있습니다. 특히 햇빛이나 밝은 빛에 민감해져서 불편해하고 있습니다. 증상이 심각하지는 않지만 며칠째 계속되고 있어 걱정입니다. 저희 위치는 영경초등학교입니다. 이 상황에서 어떤 조치를 취해야 할지 조언을 부탁드립니다. 필요한 경우 병원 방문도 고려하고 있습니다. 감사합니다.   \n",
       "14                                                                                저는 30대 남성입니다. 경주 진현동의 불국사 근처에서 스트레스로 인해 불안감과 우울감이 심해지고 있습니다. 특히 잠을 잘 자지 못하고 일상생활에 영향을 받고 있어요. 현재 심각한 자해 생각은 없지만 도움이 필요하다고 느끼고 있습니다. 지약이 문제인 걸까요? 이사를 고려 중입니다.   \n",
       "\n",
       "                                                                                                                                            summary  \n",
       "0                                        * 중요 키워드 : 아버지, 마흔아홉, 넘어짐, 피출혈, 어지러움, 응급실, * 내용 요약 : 마흔아홉 살 아버지가 계단에서 넘어져 머리 피출혈로 어지러움 호소 중. 응급실 방문 고려 요망.  \n",
       "1                                                         * 중요 키워드 : 미끄러짐, 엉덩방아, 꼬리뼈, 아픔, 응급실, * 내용 요약 : 화장실에서 미끄러져 엉덩방아 찍고 꼬리뼈 계속 아픔. 응급실 방문 고려 요망  \n",
       "2                                                                              * 중요 키워드 : 콩, 코막힘, 동생, 응급실, * 내용 요약 : 콩으로 한쪽 코 막힘. 제거 불가. 응급실 방문 고려.  \n",
       "3                                                 * 중요 키워드 : 38도, 머리 통증, 어지러움, 열, 수액, * 내용 요약 : 38도 열이 나며 머리 통증, 어지러움 호소 중. 응급 상황 아님. 쉬면서 수액 섭취 권고.  \n",
       "4                                                       * 중요 키워드 : 머리 박음, 어지러움, 속 메스꺼움, 응급실, * 내용 요약 : 머리를 박은 후 3시간이 지나 머리 어지럽고 속 메스꺼움. 응급실 방문 권장됨.  \n",
       "5                       * 중요 키워드 : 알레르기 반응, 호흡 곤란, 두드러기, 오이, 영종도, 온서역, * 내용 요약 : 신랑이 오이에 대한 심각한 알레르기 반응, 두드러기, 호흡 곤란, 부어오른 얼굴과 입술, 온서역 주변. 응급 신고 중.  \n",
       "6                                          * 중요 키워드 : 분당로 42번 길, 교통사고, 빨간옷 여자, 출혈, 의식 없음, * 내용 요약 : 길에서 빨간옷 여자 차에 치여 다쳐 출혈 중인 상황. 의식 없음. 출혈 멈추지 않음.  \n",
       "7                                                  * 중요 키워드 : 5호선, 고열, 호흡곤란, 50대 여성, 응급차, * 내용 요약 : 5호선 구분다리역에서 고열과 호흡곤란을 호소하는 50대 여성 발견. 긴급 응급차 요청  \n",
       "8                                                 * 중요 키워드 : 우도, 등산객, 깊은 상처, 출혈, 의식 흐림, 응급차, * 내용 요약 : 우도 등산객, 다친 깊은 상처 출혈. 의식 흐림, 지속 출혈. 응급차 요청 중.  \n",
       "9                                 * 중요 키워드 : 태전고등학교, 운동장, 골절, 통증, 부풀어 오름, 응급차, * 내용 요약 : 태전고등학교 운동장에서 다리 골절, 심한 통증으로 움직일 수 없음. 부위 부풀어 오름. 응급차 요청 중.  \n",
       "10  * 중요 키워드 : 50대, 남성, 운전자, 전기차, 화재, 화상, 의식 혼미, 통증, 팔, 가슴, 강원도 양양, 응급차, * 내용 요약 : 50대 남성 운전자, 전기차 화재로 심각 화상. 의식 혼미, 통증. 팔과 가슴 화상. 응급차 요청, 즉각 치료 필요  \n",
       "11                            * 중요 키워드 : 부산 엄마사랑어린이집, 아동, 소아 불량, 복통, 식사 후, 병원 방문, * 내용 요약 : 부산 엄마사랑어린이집 아동, 소아 불량과 가벼운 복통. 식사 후 계속 불편. 병원 방문을 고려 중.  \n",
       "12                                 * 중요 키워드 : 50대, 고혈압, 혈압, 두통, 대처, 대전, 성심당, * 내용 요약 : 50대 고혈압 운전기사, 혈압 140/90, 두통. 특별증상X. 응급상황X. 대전 중구 은행동 성심당 근무.  \n",
       "13      * 중요 키워드 : 영경초등학교, 여학생, 눈 자극, 부풀음, 민감, 의사 방문, * 내용 요약 : 영경초등학교 여학생, 눈에 자극 경미한 부기, 눈물, 결막 부풀음 있음. 강한 빛에 민감. 증상은 경미하지만 며칠째 지속. 병원 방문 현재 고려 중.  \n",
       "14   * 중요 키워드 : 30대, 남성, 불국사, 스트레스, 불안감, 우울감, 잠 부족, 도움 필요, 이사, * 내용 요약 : 30대 남성, 불국사 근처에서 스트레스로 불안과 우울 증세. 잠 부족, 일상 영향. 자해 생각은 없으나 도움 필요. 이사도 검토 중.  "
      ]
     },
     "execution_count": 150,
     "metadata": {},
     "output_type": "execute_result"
    }
   ],
   "source": [
    "# 결과 출력\n",
    "audio_df"
   ]
  },
  {
   "cell_type": "code",
   "execution_count": null,
   "metadata": {
    "colab": {
     "base_uri": "https://localhost:8080/",
     "height": 293
    },
    "executionInfo": {
     "elapsed": 4,
     "status": "ok",
     "timestamp": 1731898081359,
     "user": {
      "displayName": "이예림 (겨울냥국)",
      "userId": "03592088159420229142"
     },
     "user_tz": -540
    },
    "id": "l9wMP_XyvTXF",
    "outputId": "d0fc18b5-4d7c-4b22-de84-07e2519b77b5"
   },
   "outputs": [
    {
     "data": {
      "application/vnd.google.colaboratory.intrinsic+json": {
       "summary": "{\n  \"name\": \"df\",\n  \"rows\": 5,\n  \"fields\": [\n    {\n      \"column\": \"filename\",\n      \"properties\": {\n        \"dtype\": \"string\",\n        \"num_unique_values\": 5,\n        \"samples\": [\n          \"audio5.mp3\",\n          \"audio4.mp3\",\n          \"audio3.mp3\"\n        ],\n        \"semantic_type\": \"\",\n        \"description\": \"\"\n      }\n    },\n    {\n      \"column\": \"transcript\",\n      \"properties\": {\n        \"dtype\": \"string\",\n        \"num_unique_values\": 5,\n        \"samples\": [\n          \"\\ud654\\uc7a5\\uc2e4\\uc5d0\\uc11c \\ubbf8\\ub044\\ub7ec\\uc6cc\\uc11c \\uc5c9\\ub369\\ubc29\\uc544\\ub97c \\ucc0d\\uc5c8\\uc5b4\\uc694. \\uadf8\\ub7ec\\uace0 \\uaf2c\\ub9ac\\ubf08\\uac00 \\uacc4\\uc18d \\uc544\\ud30c\\uc694. \\uc810\\uc810 \\uc544\\ud508 \\uac83 \\uac19\\uc740\\ub370 \\uc751\\uae09\\uc2e4\\uc744 \\uac00\\uc57c \\ud560\\uae4c\\uc694?\\n\",\n          \"\\uc544\\uae4c \\uac00\\ub2e4\\uac00 \\uba38\\ub9ac\\ub97c \\ubc15\\uc558\\ub294\\ub370, \\ucc98\\uc74c\\uc5d0\\ub294 \\uad1c\\ucc2e\\ub2e4\\uac00, \\uc9c0\\uae08 3\\uc2dc\\uac04 \\uc815\\ub3c4 \\uc9c0\\ub0ac\\ub294\\ub370, \\uba38\\ub9ac\\uac00 \\uc5b4\\uc9c0\\ub7fd\\uace0 \\uc18d\\uc774 \\ub9e4\\uc2a4\\uaebc\\uc6cc\\uc694. \\uc5b4\\ub5bb\\uac8c \\ud574\\uc57c \\ud560\\uae4c\\uc694?\\n\",\n          \"\\ub3d9\\uc0dd\\uc774 \\ucf69 \\uac00\\uc9c0\\uace0 \\ub180\\ub2e4\\uac00 \\ucf54\\uc5d0 \\ub4e4\\uc5b4\\uac00\\uc11c \\ud55c\\ucabd \\ucf54\\uac00 \\ub9c9\\ud614\\uc5b4\\uc694. \\uc544\\ubb34\\ub9ac \\ube7c\\ubcf4\\ub824 \\ud574\\ub3c4 \\uc548 \\ube60\\uc838\\uc694. \\uc5b4\\ub5bb\\uac8c \\ud574\\uc57c \\ud560\\uae4c\\uc694? \\ub3d9\\uc0dd\\uc774 \\ub108\\ubb34 \\ud798\\ub4e4\\uc5b4 \\ud558\\ub124\\uc694.\\n\"\n        ],\n        \"semantic_type\": \"\",\n        \"description\": \"\"\n      }\n    },\n    {\n      \"column\": \"summary\",\n      \"properties\": {\n        \"dtype\": \"string\",\n        \"num_unique_values\": 5,\n        \"samples\": [\n          \"\\ud654\\uc7a5\\uc2e4\\uc5d0\\uc11c \\ubbf8\\ub044\\ub7ec\\uc838 \\uaf2c\\ub9ac\\ubf08\\uac00 \\uc544\\ud504\\uace0 \\uc810\\uc810 \\ub354 \\uc544\\ud504\\ub2e4\\uace0 \\ud568. (\\ud0a4\\uc6cc\\ub4dc: \\ubbf8\\ub044\\ub7ec\\uc9d0, \\uc5c9\\ub369\\ubc29\\uc544, \\uaf2c\\ub9ac\\ubf08, \\uc544\\ud514, \\uc751\\uae09\\uc2e4)\",\n          \"\\uba38\\ub9ac\\ub97c \\ubc15\\uace0 3\\uc2dc\\uac04\\uc774 \\uc9c0\\ub098\\ub3c4 \\uc5b4\\uc9c0\\ub7ec\\uc6c0\\uacfc \\uba54\\uc2a4\\uaebc\\uc6c0\\uc774 \\uacc4\\uc18d\\ub418\\uace0 \\uc788\\uc74c. (\\ud0a4\\uc6cc\\ub4dc: \\uba38\\ub9ac \\ubd80\\ub52a\\ud798, \\uc5b4\\uc9c0\\ub7ec\\uc6c0, \\uba54\\uc2a4\\uaebc\\uc6c0, \\uc751\\uae09\\ucc98\\uce58 \\ud544\\uc694)\",\n          \"\\ub3d9\\uc0dd\\uc774 \\ucf54\\uc5d0 \\ucf69\\uc774 \\uac78\\ub824 \\ud638\\ud761\\uace4\\ub780, \\uc751\\uae09\\uc2e4 \\ubc29\\ubb38\\uc774 \\ud544\\uc694\\ud569\\ub2c8\\ub2e4. (\\ud0a4\\uc6cc\\ub4dc: \\ucf54\\uc5d0 \\ucf69, \\ud638\\ud761\\uace4\\ub780, \\uc751\\uae09\\uc2e4)\"\n        ],\n        \"semantic_type\": \"\",\n        \"description\": \"\"\n      }\n    }\n  ]\n}",
       "type": "dataframe",
       "variable_name": "df"
      },
      "text/html": [
       "\n",
       "  <div id=\"df-ae7fb31e-147c-4b48-8c53-cca2737a8ce3\" class=\"colab-df-container\">\n",
       "    <div>\n",
       "<style scoped>\n",
       "    .dataframe tbody tr th:only-of-type {\n",
       "        vertical-align: middle;\n",
       "    }\n",
       "\n",
       "    .dataframe tbody tr th {\n",
       "        vertical-align: top;\n",
       "    }\n",
       "\n",
       "    .dataframe thead th {\n",
       "        text-align: right;\n",
       "    }\n",
       "</style>\n",
       "<table border=\"1\" class=\"dataframe\">\n",
       "  <thead>\n",
       "    <tr style=\"text-align: right;\">\n",
       "      <th></th>\n",
       "      <th>filename</th>\n",
       "      <th>transcript</th>\n",
       "      <th>summary</th>\n",
       "    </tr>\n",
       "  </thead>\n",
       "  <tbody>\n",
       "    <tr>\n",
       "      <th>0</th>\n",
       "      <td>audio1.mp3</td>\n",
       "      <td>지금 아빠가 넘어졌어요. 머리에서 피가 나는데 숨은 쉬고 있어요. 지금 막 일어났어요. 근데 조금 어지럽다고 하네요. 네네 계단에서 굴렀어요. 지금은 물 마시고 있는데 이거 응급실로 가봐야 할까요? 피도 지금 머졌어요. 네네 나이는 마흔아홉 살 이세요. 어떻게 해야 할지 모르겠어요.\\n</td>\n",
       "      <td>아빠가 계단에서 넘어져 머리에서 피가 나고 어리작거리는 중. 응급실 방문이 시급합니다. (키워드: 넘어짐, 머리부상, 응급실)</td>\n",
       "    </tr>\n",
       "    <tr>\n",
       "      <th>1</th>\n",
       "      <td>audio5.mp3</td>\n",
       "      <td>화장실에서 미끄러워서 엉덩방아를 찍었어요. 그러고 꼬리뼈가 계속 아파요. 점점 아픈 것 같은데 응급실을 가야 할까요?\\n</td>\n",
       "      <td>화장실에서 미끄러져 꼬리뼈가 아프고 점점 더 아프다고 함. (키워드: 미끄러짐, 엉덩방아, 꼬리뼈, 아픔, 응급실)</td>\n",
       "    </tr>\n",
       "    <tr>\n",
       "      <th>2</th>\n",
       "      <td>audio3.mp3</td>\n",
       "      <td>동생이 콩 가지고 놀다가 코에 들어가서 한쪽 코가 막혔어요. 아무리 빼보려 해도 안 빠져요. 어떻게 해야 할까요? 동생이 너무 힘들어 하네요.\\n</td>\n",
       "      <td>동생이 코에 콩이 걸려 호흡곤란, 응급실 방문이 필요합니다. (키워드: 코에 콩, 호흡곤란, 응급실)</td>\n",
       "    </tr>\n",
       "    <tr>\n",
       "      <th>3</th>\n",
       "      <td>audio2.mp3</td>\n",
       "      <td>119죠. 제가 지금 열이 열이 올랐어요. 몇 도냐면은 38도 정도 돼요. 머리가 아프고 좀 띵한 것 같아요. 우한이 좀 들어요. 어떻게 해야 할까요?\\n</td>\n",
       "      <td>도수 38도, 머리 아픔과 띵함으로 응급 상황 발생. 즉시 병원 방문 권장 (키워드: 열, 머리 아픔, 의식 변화, 응급)</td>\n",
       "    </tr>\n",
       "    <tr>\n",
       "      <th>4</th>\n",
       "      <td>audio4.mp3</td>\n",
       "      <td>아까 가다가 머리를 박았는데, 처음에는 괜찮다가, 지금 3시간 정도 지났는데, 머리가 어지럽고 속이 매스꺼워요. 어떻게 해야 할까요?\\n</td>\n",
       "      <td>머리를 박고 3시간이 지나도 어지러움과 메스꺼움이 계속되고 있음. (키워드: 머리 부딪힘, 어지러움, 메스꺼움, 응급처치 필요)</td>\n",
       "    </tr>\n",
       "  </tbody>\n",
       "</table>\n",
       "</div>\n",
       "    <div class=\"colab-df-buttons\">\n",
       "\n",
       "  <div class=\"colab-df-container\">\n",
       "    <button class=\"colab-df-convert\" onclick=\"convertToInteractive('df-ae7fb31e-147c-4b48-8c53-cca2737a8ce3')\"\n",
       "            title=\"Convert this dataframe to an interactive table.\"\n",
       "            style=\"display:none;\">\n",
       "\n",
       "  <svg xmlns=\"http://www.w3.org/2000/svg\" height=\"24px\" viewBox=\"0 -960 960 960\">\n",
       "    <path d=\"M120-120v-720h720v720H120Zm60-500h600v-160H180v160Zm220 220h160v-160H400v160Zm0 220h160v-160H400v160ZM180-400h160v-160H180v160Zm440 0h160v-160H620v160ZM180-180h160v-160H180v160Zm440 0h160v-160H620v160Z\"/>\n",
       "  </svg>\n",
       "    </button>\n",
       "\n",
       "  <style>\n",
       "    .colab-df-container {\n",
       "      display:flex;\n",
       "      gap: 12px;\n",
       "    }\n",
       "\n",
       "    .colab-df-convert {\n",
       "      background-color: #E8F0FE;\n",
       "      border: none;\n",
       "      border-radius: 50%;\n",
       "      cursor: pointer;\n",
       "      display: none;\n",
       "      fill: #1967D2;\n",
       "      height: 32px;\n",
       "      padding: 0 0 0 0;\n",
       "      width: 32px;\n",
       "    }\n",
       "\n",
       "    .colab-df-convert:hover {\n",
       "      background-color: #E2EBFA;\n",
       "      box-shadow: 0px 1px 2px rgba(60, 64, 67, 0.3), 0px 1px 3px 1px rgba(60, 64, 67, 0.15);\n",
       "      fill: #174EA6;\n",
       "    }\n",
       "\n",
       "    .colab-df-buttons div {\n",
       "      margin-bottom: 4px;\n",
       "    }\n",
       "\n",
       "    [theme=dark] .colab-df-convert {\n",
       "      background-color: #3B4455;\n",
       "      fill: #D2E3FC;\n",
       "    }\n",
       "\n",
       "    [theme=dark] .colab-df-convert:hover {\n",
       "      background-color: #434B5C;\n",
       "      box-shadow: 0px 1px 3px 1px rgba(0, 0, 0, 0.15);\n",
       "      filter: drop-shadow(0px 1px 2px rgba(0, 0, 0, 0.3));\n",
       "      fill: #FFFFFF;\n",
       "    }\n",
       "  </style>\n",
       "\n",
       "    <script>\n",
       "      const buttonEl =\n",
       "        document.querySelector('#df-ae7fb31e-147c-4b48-8c53-cca2737a8ce3 button.colab-df-convert');\n",
       "      buttonEl.style.display =\n",
       "        google.colab.kernel.accessAllowed ? 'block' : 'none';\n",
       "\n",
       "      async function convertToInteractive(key) {\n",
       "        const element = document.querySelector('#df-ae7fb31e-147c-4b48-8c53-cca2737a8ce3');\n",
       "        const dataTable =\n",
       "          await google.colab.kernel.invokeFunction('convertToInteractive',\n",
       "                                                    [key], {});\n",
       "        if (!dataTable) return;\n",
       "\n",
       "        const docLinkHtml = 'Like what you see? Visit the ' +\n",
       "          '<a target=\"_blank\" href=https://colab.research.google.com/notebooks/data_table.ipynb>data table notebook</a>'\n",
       "          + ' to learn more about interactive tables.';\n",
       "        element.innerHTML = '';\n",
       "        dataTable['output_type'] = 'display_data';\n",
       "        await google.colab.output.renderOutput(dataTable, element);\n",
       "        const docLink = document.createElement('div');\n",
       "        docLink.innerHTML = docLinkHtml;\n",
       "        element.appendChild(docLink);\n",
       "      }\n",
       "    </script>\n",
       "  </div>\n",
       "\n",
       "\n",
       "<div id=\"df-e9481592-529b-44ea-9770-811b0bb26458\">\n",
       "  <button class=\"colab-df-quickchart\" onclick=\"quickchart('df-e9481592-529b-44ea-9770-811b0bb26458')\"\n",
       "            title=\"Suggest charts\"\n",
       "            style=\"display:none;\">\n",
       "\n",
       "<svg xmlns=\"http://www.w3.org/2000/svg\" height=\"24px\"viewBox=\"0 0 24 24\"\n",
       "     width=\"24px\">\n",
       "    <g>\n",
       "        <path d=\"M19 3H5c-1.1 0-2 .9-2 2v14c0 1.1.9 2 2 2h14c1.1 0 2-.9 2-2V5c0-1.1-.9-2-2-2zM9 17H7v-7h2v7zm4 0h-2V7h2v10zm4 0h-2v-4h2v4z\"/>\n",
       "    </g>\n",
       "</svg>\n",
       "  </button>\n",
       "\n",
       "<style>\n",
       "  .colab-df-quickchart {\n",
       "      --bg-color: #E8F0FE;\n",
       "      --fill-color: #1967D2;\n",
       "      --hover-bg-color: #E2EBFA;\n",
       "      --hover-fill-color: #174EA6;\n",
       "      --disabled-fill-color: #AAA;\n",
       "      --disabled-bg-color: #DDD;\n",
       "  }\n",
       "\n",
       "  [theme=dark] .colab-df-quickchart {\n",
       "      --bg-color: #3B4455;\n",
       "      --fill-color: #D2E3FC;\n",
       "      --hover-bg-color: #434B5C;\n",
       "      --hover-fill-color: #FFFFFF;\n",
       "      --disabled-bg-color: #3B4455;\n",
       "      --disabled-fill-color: #666;\n",
       "  }\n",
       "\n",
       "  .colab-df-quickchart {\n",
       "    background-color: var(--bg-color);\n",
       "    border: none;\n",
       "    border-radius: 50%;\n",
       "    cursor: pointer;\n",
       "    display: none;\n",
       "    fill: var(--fill-color);\n",
       "    height: 32px;\n",
       "    padding: 0;\n",
       "    width: 32px;\n",
       "  }\n",
       "\n",
       "  .colab-df-quickchart:hover {\n",
       "    background-color: var(--hover-bg-color);\n",
       "    box-shadow: 0 1px 2px rgba(60, 64, 67, 0.3), 0 1px 3px 1px rgba(60, 64, 67, 0.15);\n",
       "    fill: var(--button-hover-fill-color);\n",
       "  }\n",
       "\n",
       "  .colab-df-quickchart-complete:disabled,\n",
       "  .colab-df-quickchart-complete:disabled:hover {\n",
       "    background-color: var(--disabled-bg-color);\n",
       "    fill: var(--disabled-fill-color);\n",
       "    box-shadow: none;\n",
       "  }\n",
       "\n",
       "  .colab-df-spinner {\n",
       "    border: 2px solid var(--fill-color);\n",
       "    border-color: transparent;\n",
       "    border-bottom-color: var(--fill-color);\n",
       "    animation:\n",
       "      spin 1s steps(1) infinite;\n",
       "  }\n",
       "\n",
       "  @keyframes spin {\n",
       "    0% {\n",
       "      border-color: transparent;\n",
       "      border-bottom-color: var(--fill-color);\n",
       "      border-left-color: var(--fill-color);\n",
       "    }\n",
       "    20% {\n",
       "      border-color: transparent;\n",
       "      border-left-color: var(--fill-color);\n",
       "      border-top-color: var(--fill-color);\n",
       "    }\n",
       "    30% {\n",
       "      border-color: transparent;\n",
       "      border-left-color: var(--fill-color);\n",
       "      border-top-color: var(--fill-color);\n",
       "      border-right-color: var(--fill-color);\n",
       "    }\n",
       "    40% {\n",
       "      border-color: transparent;\n",
       "      border-right-color: var(--fill-color);\n",
       "      border-top-color: var(--fill-color);\n",
       "    }\n",
       "    60% {\n",
       "      border-color: transparent;\n",
       "      border-right-color: var(--fill-color);\n",
       "    }\n",
       "    80% {\n",
       "      border-color: transparent;\n",
       "      border-right-color: var(--fill-color);\n",
       "      border-bottom-color: var(--fill-color);\n",
       "    }\n",
       "    90% {\n",
       "      border-color: transparent;\n",
       "      border-bottom-color: var(--fill-color);\n",
       "    }\n",
       "  }\n",
       "</style>\n",
       "\n",
       "  <script>\n",
       "    async function quickchart(key) {\n",
       "      const quickchartButtonEl =\n",
       "        document.querySelector('#' + key + ' button');\n",
       "      quickchartButtonEl.disabled = true;  // To prevent multiple clicks.\n",
       "      quickchartButtonEl.classList.add('colab-df-spinner');\n",
       "      try {\n",
       "        const charts = await google.colab.kernel.invokeFunction(\n",
       "            'suggestCharts', [key], {});\n",
       "      } catch (error) {\n",
       "        console.error('Error during call to suggestCharts:', error);\n",
       "      }\n",
       "      quickchartButtonEl.classList.remove('colab-df-spinner');\n",
       "      quickchartButtonEl.classList.add('colab-df-quickchart-complete');\n",
       "    }\n",
       "    (() => {\n",
       "      let quickchartButtonEl =\n",
       "        document.querySelector('#df-e9481592-529b-44ea-9770-811b0bb26458 button');\n",
       "      quickchartButtonEl.style.display =\n",
       "        google.colab.kernel.accessAllowed ? 'block' : 'none';\n",
       "    })();\n",
       "  </script>\n",
       "</div>\n",
       "\n",
       "  <div id=\"id_b31ab498-275d-41a4-8b92-2ceedb275b77\">\n",
       "    <style>\n",
       "      .colab-df-generate {\n",
       "        background-color: #E8F0FE;\n",
       "        border: none;\n",
       "        border-radius: 50%;\n",
       "        cursor: pointer;\n",
       "        display: none;\n",
       "        fill: #1967D2;\n",
       "        height: 32px;\n",
       "        padding: 0 0 0 0;\n",
       "        width: 32px;\n",
       "      }\n",
       "\n",
       "      .colab-df-generate:hover {\n",
       "        background-color: #E2EBFA;\n",
       "        box-shadow: 0px 1px 2px rgba(60, 64, 67, 0.3), 0px 1px 3px 1px rgba(60, 64, 67, 0.15);\n",
       "        fill: #174EA6;\n",
       "      }\n",
       "\n",
       "      [theme=dark] .colab-df-generate {\n",
       "        background-color: #3B4455;\n",
       "        fill: #D2E3FC;\n",
       "      }\n",
       "\n",
       "      [theme=dark] .colab-df-generate:hover {\n",
       "        background-color: #434B5C;\n",
       "        box-shadow: 0px 1px 3px 1px rgba(0, 0, 0, 0.15);\n",
       "        filter: drop-shadow(0px 1px 2px rgba(0, 0, 0, 0.3));\n",
       "        fill: #FFFFFF;\n",
       "      }\n",
       "    </style>\n",
       "    <button class=\"colab-df-generate\" onclick=\"generateWithVariable('df')\"\n",
       "            title=\"Generate code using this dataframe.\"\n",
       "            style=\"display:none;\">\n",
       "\n",
       "  <svg xmlns=\"http://www.w3.org/2000/svg\" height=\"24px\"viewBox=\"0 0 24 24\"\n",
       "       width=\"24px\">\n",
       "    <path d=\"M7,19H8.4L18.45,9,17,7.55,7,17.6ZM5,21V16.75L18.45,3.32a2,2,0,0,1,2.83,0l1.4,1.43a1.91,1.91,0,0,1,.58,1.4,1.91,1.91,0,0,1-.58,1.4L9.25,21ZM18.45,9,17,7.55Zm-12,3A5.31,5.31,0,0,0,4.9,8.1,5.31,5.31,0,0,0,1,6.5,5.31,5.31,0,0,0,4.9,4.9,5.31,5.31,0,0,0,6.5,1,5.31,5.31,0,0,0,8.1,4.9,5.31,5.31,0,0,0,12,6.5,5.46,5.46,0,0,0,6.5,12Z\"/>\n",
       "  </svg>\n",
       "    </button>\n",
       "    <script>\n",
       "      (() => {\n",
       "      const buttonEl =\n",
       "        document.querySelector('#id_b31ab498-275d-41a4-8b92-2ceedb275b77 button.colab-df-generate');\n",
       "      buttonEl.style.display =\n",
       "        google.colab.kernel.accessAllowed ? 'block' : 'none';\n",
       "\n",
       "      buttonEl.onclick = () => {\n",
       "        google.colab.notebook.generateWithVariable('df');\n",
       "      }\n",
       "      })();\n",
       "    </script>\n",
       "  </div>\n",
       "\n",
       "    </div>\n",
       "  </div>\n"
      ],
      "text/plain": [
       "     filename  \\\n",
       "0  audio1.mp3   \n",
       "1  audio5.mp3   \n",
       "2  audio3.mp3   \n",
       "3  audio2.mp3   \n",
       "4  audio4.mp3   \n",
       "\n",
       "                                                                                                                                                         transcript  \\\n",
       "0  지금 아빠가 넘어졌어요. 머리에서 피가 나는데 숨은 쉬고 있어요. 지금 막 일어났어요. 근데 조금 어지럽다고 하네요. 네네 계단에서 굴렀어요. 지금은 물 마시고 있는데 이거 응급실로 가봐야 할까요? 피도 지금 머졌어요. 네네 나이는 마흔아홉 살 이세요. 어떻게 해야 할지 모르겠어요.\\n   \n",
       "1                                                                                               화장실에서 미끄러워서 엉덩방아를 찍었어요. 그러고 꼬리뼈가 계속 아파요. 점점 아픈 것 같은데 응급실을 가야 할까요?\\n   \n",
       "2                                                                                 동생이 콩 가지고 놀다가 코에 들어가서 한쪽 코가 막혔어요. 아무리 빼보려 해도 안 빠져요. 어떻게 해야 할까요? 동생이 너무 힘들어 하네요.\\n   \n",
       "3                                                                            119죠. 제가 지금 열이 열이 올랐어요. 몇 도냐면은 38도 정도 돼요. 머리가 아프고 좀 띵한 것 같아요. 우한이 좀 들어요. 어떻게 해야 할까요?\\n   \n",
       "4                                                                                      아까 가다가 머리를 박았는데, 처음에는 괜찮다가, 지금 3시간 정도 지났는데, 머리가 어지럽고 속이 매스꺼워요. 어떻게 해야 할까요?\\n   \n",
       "\n",
       "                                                                   summary  \n",
       "0   아빠가 계단에서 넘어져 머리에서 피가 나고 어리작거리는 중. 응급실 방문이 시급합니다. (키워드: 넘어짐, 머리부상, 응급실)  \n",
       "1         화장실에서 미끄러져 꼬리뼈가 아프고 점점 더 아프다고 함. (키워드: 미끄러짐, 엉덩방아, 꼬리뼈, 아픔, 응급실)  \n",
       "2                 동생이 코에 콩이 걸려 호흡곤란, 응급실 방문이 필요합니다. (키워드: 코에 콩, 호흡곤란, 응급실)  \n",
       "3     도수 38도, 머리 아픔과 띵함으로 응급 상황 발생. 즉시 병원 방문 권장 (키워드: 열, 머리 아픔, 의식 변화, 응급)  \n",
       "4  머리를 박고 3시간이 지나도 어지러움과 메스꺼움이 계속되고 있음. (키워드: 머리 부딪힘, 어지러움, 메스꺼움, 응급처치 필요)  "
      ]
     },
     "execution_count": 60,
     "metadata": {},
     "output_type": "execute_result"
    }
   ],
   "source": [
    "# 모든 열을 출력할 수 있도록 설정\n",
    "pd.set_option('display.max_columns', None)  # 모든 열 표시\n",
    "pd.set_option('display.max_colwidth', None)  # 모든 열의 너비 제한 해제\n",
    "pd.set_option('display.expand_frame_repr', True)  # 줄 바꿈 없이 한 줄로 표시\n",
    "\n",
    "# 데이터프레임 출력\n",
    "df"
   ]
  },
  {
   "cell_type": "markdown",
   "metadata": {
    "id": "vVVzpn1M5XsI"
   },
   "source": [
    "### (2) 전국 병원 응급실 정보 수집\n",
    "\n"
   ]
  },
  {
   "cell_type": "markdown",
   "metadata": {
    "id": "iRho5oBx5uRC"
   },
   "source": [
    "#### 1) 인증키 발급"
   ]
  },
  {
   "cell_type": "markdown",
   "metadata": {
    "id": "2dmWFlN95xWD"
   },
   "source": [
    "* 인증키 발급 절차\n",
    "    * 1) data.go.kr 회원가입\n",
    "    * 2) 국립중앙의료원_전국 응급의료기관 정보 조회 서비스\n",
    "https://www.data.go.kr/data/15000563/openapi.do 로 이동\n",
    "    * 3) 활용신청\n",
    "        * 활용목적 : 기타(개인 학습 용도)\n",
    "        * 상세 기능선택\n",
    "            * 응급의료기관 목록정보 조회\n",
    "            * 응급의료기관 위치정보 조회\n",
    "            * 응급의료기관 기본정보 조회\n",
    "    * 4) 인증키 확인\n",
    "        * 마이페이지 > Open API > 활용신청현황\n",
    "        * [승인] 국립중앙의료원_전국 응급의료기관 정보 조회 서비스\n",
    "        * 일반 인증키(Decoding) 이용"
   ]
  },
  {
   "cell_type": "markdown",
   "metadata": {
    "id": "XgO1G8WL5yQC"
   },
   "source": [
    "#### 2) 데이터 수집"
   ]
  },
  {
   "cell_type": "code",
   "execution_count": null,
   "metadata": {
    "colab": {
     "base_uri": "https://localhost:8080/",
     "height": 35
    },
    "executionInfo": {
     "elapsed": 269,
     "status": "ok",
     "timestamp": 1731899271926,
     "user": {
      "displayName": "이예림 (겨울냥국)",
      "userId": "03592088159420229142"
     },
     "user_tz": -540
    },
    "id": "ci_IVQdx1wqP",
    "outputId": "0d164e45-5610-4dd1-dbd9-62ac849003b0"
   },
   "outputs": [
    {
     "data": {
      "application/vnd.google.colaboratory.intrinsic+json": {
       "type": "string"
      },
      "text/plain": [
       "'/content/drive/MyDrive/project6/2/'"
      ]
     },
     "execution_count": 96,
     "metadata": {},
     "output_type": "execute_result"
    }
   ],
   "source": [
    "# path 확인\n",
    "path"
   ]
  },
  {
   "cell_type": "code",
   "execution_count": null,
   "metadata": {
    "colab": {
     "base_uri": "https://localhost:8080/"
    },
    "executionInfo": {
     "elapsed": 1891,
     "status": "ok",
     "timestamp": 1731910009377,
     "user": {
      "displayName": "이예림 (겨울냥국)",
      "userId": "03592088159420229142"
     },
     "user_tz": -540
    },
    "id": "cB8B-nv75XsI",
    "outputId": "11e43b28-b949-4aa0-813e-72c993398eec"
   },
   "outputs": [
    {
     "name": "stdout",
     "output_type": "stream",
     "text": [
      "<Response [200]>\n"
     ]
    }
   ],
   "source": [
    "# 응급실 데이터 수집하기\n",
    "\n",
    "url = 'http://apis.data.go.kr/B552657/ErmctInfoInqireService/getEgytListInfoInqire'\n",
    "serviceKey = '9XqCM96n/WN49HmtWjrLlK357OuTZgjcQlRy2ab5Y9udIquvcqUeZhOixc2XJ4s63kU0h2xDUwbjCaUnbGPLcg==' # 여러분의 일반 인증키(Decoding)\n",
    "\n",
    "params = {\n",
    "    'serviceKey': serviceKey,\n",
    "    'pageNo': '1', 'numOfRows': '1000',  # 전체 응급실 수가 500여개 됨. 1000개면 충분\n",
    "    'format': 'xml'\n",
    "}\n",
    "\n",
    "response = requests.get(url, params = params)\n",
    "\n",
    "# 정상 수행 되었다면 200\n",
    "print(response)"
   ]
  },
  {
   "cell_type": "code",
   "execution_count": null,
   "metadata": {
    "id": "XF55TTaP3ivP"
   },
   "outputs": [],
   "source": [
    "# response xml에서 주요 정보 찾기\n",
    "root = ET.fromstring(response.text)\n",
    "\n",
    "data = []\n",
    "\n",
    "for item in root. findall('.//item'):\n",
    "\n",
    "    duty_name = item.findtext('dutyName')\n",
    "    duty_addr = item.findtext('dutyAddr')\n",
    "    latitude = item.findtext('wgs84Lat') # 위도\n",
    "    longitude = item.findtext('wgs84Lon') # 경도\n",
    "\n",
    "    # 필요한 정보 추가\n",
    "\n",
    "    # 빈 리스트 data에 딕시너리 형태({'칼럼이름':값, ...})로 저장(추가)\n",
    "    # 딕셔너리 형태로 데이터 추가\n",
    "    data.append({\n",
    "        'dutyName': duty_name,\n",
    "        'dutyAddr': duty_addr,\n",
    "        'latitude' : latitude,\n",
    "        'longitude' : longitude\n",
    "\n",
    "    })\n",
    "\n",
    "# 'item' 요소의 세부 정보 출력\n",
    "# for item in root.findall('.//item'):\n",
    "#     for subitem in item:\n",
    "#         print(f\"{subitem.tag}: {subitem.text}\")\n",
    "\n",
    "# 데이터프레임으로 변환\n",
    "df = pd.DataFrame(data)\n",
    "\n"
   ]
  },
  {
   "cell_type": "code",
   "execution_count": null,
   "metadata": {
    "colab": {
     "base_uri": "https://localhost:8080/",
     "height": 424
    },
    "executionInfo": {
     "elapsed": 260,
     "status": "ok",
     "timestamp": 1731910606572,
     "user": {
      "displayName": "이예림 (겨울냥국)",
      "userId": "03592088159420229142"
     },
     "user_tz": -540
    },
    "id": "cqRwGFJu2r_f",
    "outputId": "9edff0bf-115d-48dc-edaf-449633f801ec"
   },
   "outputs": [
    {
     "data": {
      "application/vnd.google.colaboratory.intrinsic+json": {
       "summary": "{\n  \"name\": \"df\",\n  \"rows\": 526,\n  \"fields\": [\n    {\n      \"column\": \"dutyName\",\n      \"properties\": {\n        \"dtype\": \"string\",\n        \"num_unique_values\": 522,\n        \"samples\": [\n          \"\\uc9c4\\ub3c4\\ud55c\\uad6d\\ubcd1\\uc6d0\",\n          \"\\ucc28\\uc758\\uacfc\\ud559\\ub300\\ud559\\uad50\\ubd84\\ub2f9\\ucc28\\ubcd1\\uc6d0\",\n          \"KS\\ubcd1\\uc6d0\"\n        ],\n        \"semantic_type\": \"\",\n        \"description\": \"\"\n      }\n    },\n    {\n      \"column\": \"dutyAddr\",\n      \"properties\": {\n        \"dtype\": \"string\",\n        \"num_unique_values\": 525,\n        \"samples\": [\n          \"\\uacbd\\uae30\\ub3c4 \\ud3c9\\ud0dd\\uc2dc \\ud3c9\\ud0dd2\\ub85c20\\ubc88\\uae38 3 (\\ud3c9\\ud0dd\\ub3d9)\",\n          \"\\uc11c\\uc6b8\\ud2b9\\ubcc4\\uc2dc \\uc591\\ucc9c\\uad6c \\uc548\\uc591\\ucc9c\\ub85c 1071 (\\ubaa9\\ub3d9)\",\n          \"\\uad11\\uc8fc\\uad11\\uc5ed\\uc2dc \\uad11\\uc0b0\\uad6c \\uc655\\ubc84\\ub4e4\\ub85c 220 (\\uc218\\uc644\\ub3d9)\"\n        ],\n        \"semantic_type\": \"\",\n        \"description\": \"\"\n      }\n    },\n    {\n      \"column\": \"latitude\",\n      \"properties\": {\n        \"dtype\": \"string\",\n        \"num_unique_values\": 526,\n        \"samples\": [\n          \"36.99308383421509\",\n          \"37.6485812672986\",\n          \"35.197963178976366\"\n        ],\n        \"semantic_type\": \"\",\n        \"description\": \"\"\n      }\n    },\n    {\n      \"column\": \"longitude\",\n      \"properties\": {\n        \"dtype\": \"string\",\n        \"num_unique_values\": 526,\n        \"samples\": [\n          \"127.08907896026507\",\n          \"127.06311619032102\",\n          \"126.83322475289853\"\n        ],\n        \"semantic_type\": \"\",\n        \"description\": \"\"\n      }\n    }\n  ]\n}",
       "type": "dataframe",
       "variable_name": "df"
      },
      "text/html": [
       "\n",
       "  <div id=\"df-ec8770da-adc1-473c-84e1-33dcc89063d9\" class=\"colab-df-container\">\n",
       "    <div>\n",
       "<style scoped>\n",
       "    .dataframe tbody tr th:only-of-type {\n",
       "        vertical-align: middle;\n",
       "    }\n",
       "\n",
       "    .dataframe tbody tr th {\n",
       "        vertical-align: top;\n",
       "    }\n",
       "\n",
       "    .dataframe thead th {\n",
       "        text-align: right;\n",
       "    }\n",
       "</style>\n",
       "<table border=\"1\" class=\"dataframe\">\n",
       "  <thead>\n",
       "    <tr style=\"text-align: right;\">\n",
       "      <th></th>\n",
       "      <th>dutyName</th>\n",
       "      <th>dutyAddr</th>\n",
       "      <th>latitude</th>\n",
       "      <th>longitude</th>\n",
       "    </tr>\n",
       "  </thead>\n",
       "  <tbody>\n",
       "    <tr>\n",
       "      <th>0</th>\n",
       "      <td>(의)내경의료재단울산제일병원</td>\n",
       "      <td>울산광역시 남구 남산로354번길 26 (신정동)</td>\n",
       "      <td>35.54823820112527</td>\n",
       "      <td>129.30701143429678</td>\n",
       "    </tr>\n",
       "    <tr>\n",
       "      <th>1</th>\n",
       "      <td>(의)서일의료재단기장병원</td>\n",
       "      <td>부산광역시 기장군 기장읍 대청로72번길 6</td>\n",
       "      <td>35.23602946449906</td>\n",
       "      <td>129.21649161387128</td>\n",
       "    </tr>\n",
       "    <tr>\n",
       "      <th>2</th>\n",
       "      <td>(의)성세의료재단 뉴성민병원</td>\n",
       "      <td>인천광역시 서구 칠천왕로33번길 17 (석남동, 신석로 70(석남1동, 성민병원))</td>\n",
       "      <td>37.5089936801167</td>\n",
       "      <td>126.669478649026</td>\n",
       "    </tr>\n",
       "    <tr>\n",
       "      <th>3</th>\n",
       "      <td>(의)영문의료재단다보스병원</td>\n",
       "      <td>경기도 용인시 처인구 백옥대로1082번길 18, 다보스종합병원 (김량장동)</td>\n",
       "      <td>37.234641294534285</td>\n",
       "      <td>127.21049868474802</td>\n",
       "    </tr>\n",
       "    <tr>\n",
       "      <th>4</th>\n",
       "      <td>(의)효심의료재단용인서울병원</td>\n",
       "      <td>경기도 용인시 처인구 고림로 81 (고림동)</td>\n",
       "      <td>37.240316373</td>\n",
       "      <td>127.2144914405</td>\n",
       "    </tr>\n",
       "    <tr>\n",
       "      <th>...</th>\n",
       "      <td>...</td>\n",
       "      <td>...</td>\n",
       "      <td>...</td>\n",
       "      <td>...</td>\n",
       "    </tr>\n",
       "    <tr>\n",
       "      <th>521</th>\n",
       "      <td>효산의료재단안양샘병원</td>\n",
       "      <td>경기도 안양시 만안구 삼덕로 9 (안양동, 안양샘병원)</td>\n",
       "      <td>37.39340413136221</td>\n",
       "      <td>126.92447734066778</td>\n",
       "    </tr>\n",
       "    <tr>\n",
       "      <th>522</th>\n",
       "      <td>효산의료재단지샘병원</td>\n",
       "      <td>경기도 군포시 군포로 591 (당동, (G샘병원)군포샘병원)</td>\n",
       "      <td>37.35864464913468</td>\n",
       "      <td>126.94735972779895</td>\n",
       "    </tr>\n",
       "    <tr>\n",
       "      <th>523</th>\n",
       "      <td>효성시티병원</td>\n",
       "      <td>부산광역시 해운대구 해운대로 135 (재송동)</td>\n",
       "      <td>35.18541271514478</td>\n",
       "      <td>129.12145899191526</td>\n",
       "    </tr>\n",
       "    <tr>\n",
       "      <th>524</th>\n",
       "      <td>흑룡의원</td>\n",
       "      <td>인천광역시 옹진군 백령면 백령로 831</td>\n",
       "      <td>37.959524356</td>\n",
       "      <td>124.6654985764</td>\n",
       "    </tr>\n",
       "    <tr>\n",
       "      <th>525</th>\n",
       "      <td>희명병원</td>\n",
       "      <td>서울특별시 금천구 시흥대로 244 (시흥동)</td>\n",
       "      <td>37.45567063464179</td>\n",
       "      <td>126.90056251863875</td>\n",
       "    </tr>\n",
       "  </tbody>\n",
       "</table>\n",
       "<p>526 rows × 4 columns</p>\n",
       "</div>\n",
       "    <div class=\"colab-df-buttons\">\n",
       "\n",
       "  <div class=\"colab-df-container\">\n",
       "    <button class=\"colab-df-convert\" onclick=\"convertToInteractive('df-ec8770da-adc1-473c-84e1-33dcc89063d9')\"\n",
       "            title=\"Convert this dataframe to an interactive table.\"\n",
       "            style=\"display:none;\">\n",
       "\n",
       "  <svg xmlns=\"http://www.w3.org/2000/svg\" height=\"24px\" viewBox=\"0 -960 960 960\">\n",
       "    <path d=\"M120-120v-720h720v720H120Zm60-500h600v-160H180v160Zm220 220h160v-160H400v160Zm0 220h160v-160H400v160ZM180-400h160v-160H180v160Zm440 0h160v-160H620v160ZM180-180h160v-160H180v160Zm440 0h160v-160H620v160Z\"/>\n",
       "  </svg>\n",
       "    </button>\n",
       "\n",
       "  <style>\n",
       "    .colab-df-container {\n",
       "      display:flex;\n",
       "      gap: 12px;\n",
       "    }\n",
       "\n",
       "    .colab-df-convert {\n",
       "      background-color: #E8F0FE;\n",
       "      border: none;\n",
       "      border-radius: 50%;\n",
       "      cursor: pointer;\n",
       "      display: none;\n",
       "      fill: #1967D2;\n",
       "      height: 32px;\n",
       "      padding: 0 0 0 0;\n",
       "      width: 32px;\n",
       "    }\n",
       "\n",
       "    .colab-df-convert:hover {\n",
       "      background-color: #E2EBFA;\n",
       "      box-shadow: 0px 1px 2px rgba(60, 64, 67, 0.3), 0px 1px 3px 1px rgba(60, 64, 67, 0.15);\n",
       "      fill: #174EA6;\n",
       "    }\n",
       "\n",
       "    .colab-df-buttons div {\n",
       "      margin-bottom: 4px;\n",
       "    }\n",
       "\n",
       "    [theme=dark] .colab-df-convert {\n",
       "      background-color: #3B4455;\n",
       "      fill: #D2E3FC;\n",
       "    }\n",
       "\n",
       "    [theme=dark] .colab-df-convert:hover {\n",
       "      background-color: #434B5C;\n",
       "      box-shadow: 0px 1px 3px 1px rgba(0, 0, 0, 0.15);\n",
       "      filter: drop-shadow(0px 1px 2px rgba(0, 0, 0, 0.3));\n",
       "      fill: #FFFFFF;\n",
       "    }\n",
       "  </style>\n",
       "\n",
       "    <script>\n",
       "      const buttonEl =\n",
       "        document.querySelector('#df-ec8770da-adc1-473c-84e1-33dcc89063d9 button.colab-df-convert');\n",
       "      buttonEl.style.display =\n",
       "        google.colab.kernel.accessAllowed ? 'block' : 'none';\n",
       "\n",
       "      async function convertToInteractive(key) {\n",
       "        const element = document.querySelector('#df-ec8770da-adc1-473c-84e1-33dcc89063d9');\n",
       "        const dataTable =\n",
       "          await google.colab.kernel.invokeFunction('convertToInteractive',\n",
       "                                                    [key], {});\n",
       "        if (!dataTable) return;\n",
       "\n",
       "        const docLinkHtml = 'Like what you see? Visit the ' +\n",
       "          '<a target=\"_blank\" href=https://colab.research.google.com/notebooks/data_table.ipynb>data table notebook</a>'\n",
       "          + ' to learn more about interactive tables.';\n",
       "        element.innerHTML = '';\n",
       "        dataTable['output_type'] = 'display_data';\n",
       "        await google.colab.output.renderOutput(dataTable, element);\n",
       "        const docLink = document.createElement('div');\n",
       "        docLink.innerHTML = docLinkHtml;\n",
       "        element.appendChild(docLink);\n",
       "      }\n",
       "    </script>\n",
       "  </div>\n",
       "\n",
       "\n",
       "<div id=\"df-6123cdda-1f0e-43c2-80c3-6052221de9eb\">\n",
       "  <button class=\"colab-df-quickchart\" onclick=\"quickchart('df-6123cdda-1f0e-43c2-80c3-6052221de9eb')\"\n",
       "            title=\"Suggest charts\"\n",
       "            style=\"display:none;\">\n",
       "\n",
       "<svg xmlns=\"http://www.w3.org/2000/svg\" height=\"24px\"viewBox=\"0 0 24 24\"\n",
       "     width=\"24px\">\n",
       "    <g>\n",
       "        <path d=\"M19 3H5c-1.1 0-2 .9-2 2v14c0 1.1.9 2 2 2h14c1.1 0 2-.9 2-2V5c0-1.1-.9-2-2-2zM9 17H7v-7h2v7zm4 0h-2V7h2v10zm4 0h-2v-4h2v4z\"/>\n",
       "    </g>\n",
       "</svg>\n",
       "  </button>\n",
       "\n",
       "<style>\n",
       "  .colab-df-quickchart {\n",
       "      --bg-color: #E8F0FE;\n",
       "      --fill-color: #1967D2;\n",
       "      --hover-bg-color: #E2EBFA;\n",
       "      --hover-fill-color: #174EA6;\n",
       "      --disabled-fill-color: #AAA;\n",
       "      --disabled-bg-color: #DDD;\n",
       "  }\n",
       "\n",
       "  [theme=dark] .colab-df-quickchart {\n",
       "      --bg-color: #3B4455;\n",
       "      --fill-color: #D2E3FC;\n",
       "      --hover-bg-color: #434B5C;\n",
       "      --hover-fill-color: #FFFFFF;\n",
       "      --disabled-bg-color: #3B4455;\n",
       "      --disabled-fill-color: #666;\n",
       "  }\n",
       "\n",
       "  .colab-df-quickchart {\n",
       "    background-color: var(--bg-color);\n",
       "    border: none;\n",
       "    border-radius: 50%;\n",
       "    cursor: pointer;\n",
       "    display: none;\n",
       "    fill: var(--fill-color);\n",
       "    height: 32px;\n",
       "    padding: 0;\n",
       "    width: 32px;\n",
       "  }\n",
       "\n",
       "  .colab-df-quickchart:hover {\n",
       "    background-color: var(--hover-bg-color);\n",
       "    box-shadow: 0 1px 2px rgba(60, 64, 67, 0.3), 0 1px 3px 1px rgba(60, 64, 67, 0.15);\n",
       "    fill: var(--button-hover-fill-color);\n",
       "  }\n",
       "\n",
       "  .colab-df-quickchart-complete:disabled,\n",
       "  .colab-df-quickchart-complete:disabled:hover {\n",
       "    background-color: var(--disabled-bg-color);\n",
       "    fill: var(--disabled-fill-color);\n",
       "    box-shadow: none;\n",
       "  }\n",
       "\n",
       "  .colab-df-spinner {\n",
       "    border: 2px solid var(--fill-color);\n",
       "    border-color: transparent;\n",
       "    border-bottom-color: var(--fill-color);\n",
       "    animation:\n",
       "      spin 1s steps(1) infinite;\n",
       "  }\n",
       "\n",
       "  @keyframes spin {\n",
       "    0% {\n",
       "      border-color: transparent;\n",
       "      border-bottom-color: var(--fill-color);\n",
       "      border-left-color: var(--fill-color);\n",
       "    }\n",
       "    20% {\n",
       "      border-color: transparent;\n",
       "      border-left-color: var(--fill-color);\n",
       "      border-top-color: var(--fill-color);\n",
       "    }\n",
       "    30% {\n",
       "      border-color: transparent;\n",
       "      border-left-color: var(--fill-color);\n",
       "      border-top-color: var(--fill-color);\n",
       "      border-right-color: var(--fill-color);\n",
       "    }\n",
       "    40% {\n",
       "      border-color: transparent;\n",
       "      border-right-color: var(--fill-color);\n",
       "      border-top-color: var(--fill-color);\n",
       "    }\n",
       "    60% {\n",
       "      border-color: transparent;\n",
       "      border-right-color: var(--fill-color);\n",
       "    }\n",
       "    80% {\n",
       "      border-color: transparent;\n",
       "      border-right-color: var(--fill-color);\n",
       "      border-bottom-color: var(--fill-color);\n",
       "    }\n",
       "    90% {\n",
       "      border-color: transparent;\n",
       "      border-bottom-color: var(--fill-color);\n",
       "    }\n",
       "  }\n",
       "</style>\n",
       "\n",
       "  <script>\n",
       "    async function quickchart(key) {\n",
       "      const quickchartButtonEl =\n",
       "        document.querySelector('#' + key + ' button');\n",
       "      quickchartButtonEl.disabled = true;  // To prevent multiple clicks.\n",
       "      quickchartButtonEl.classList.add('colab-df-spinner');\n",
       "      try {\n",
       "        const charts = await google.colab.kernel.invokeFunction(\n",
       "            'suggestCharts', [key], {});\n",
       "      } catch (error) {\n",
       "        console.error('Error during call to suggestCharts:', error);\n",
       "      }\n",
       "      quickchartButtonEl.classList.remove('colab-df-spinner');\n",
       "      quickchartButtonEl.classList.add('colab-df-quickchart-complete');\n",
       "    }\n",
       "    (() => {\n",
       "      let quickchartButtonEl =\n",
       "        document.querySelector('#df-6123cdda-1f0e-43c2-80c3-6052221de9eb button');\n",
       "      quickchartButtonEl.style.display =\n",
       "        google.colab.kernel.accessAllowed ? 'block' : 'none';\n",
       "    })();\n",
       "  </script>\n",
       "</div>\n",
       "\n",
       "  <div id=\"id_90e94149-e349-4cdf-a2b6-bd2c3b165b22\">\n",
       "    <style>\n",
       "      .colab-df-generate {\n",
       "        background-color: #E8F0FE;\n",
       "        border: none;\n",
       "        border-radius: 50%;\n",
       "        cursor: pointer;\n",
       "        display: none;\n",
       "        fill: #1967D2;\n",
       "        height: 32px;\n",
       "        padding: 0 0 0 0;\n",
       "        width: 32px;\n",
       "      }\n",
       "\n",
       "      .colab-df-generate:hover {\n",
       "        background-color: #E2EBFA;\n",
       "        box-shadow: 0px 1px 2px rgba(60, 64, 67, 0.3), 0px 1px 3px 1px rgba(60, 64, 67, 0.15);\n",
       "        fill: #174EA6;\n",
       "      }\n",
       "\n",
       "      [theme=dark] .colab-df-generate {\n",
       "        background-color: #3B4455;\n",
       "        fill: #D2E3FC;\n",
       "      }\n",
       "\n",
       "      [theme=dark] .colab-df-generate:hover {\n",
       "        background-color: #434B5C;\n",
       "        box-shadow: 0px 1px 3px 1px rgba(0, 0, 0, 0.15);\n",
       "        filter: drop-shadow(0px 1px 2px rgba(0, 0, 0, 0.3));\n",
       "        fill: #FFFFFF;\n",
       "      }\n",
       "    </style>\n",
       "    <button class=\"colab-df-generate\" onclick=\"generateWithVariable('df')\"\n",
       "            title=\"Generate code using this dataframe.\"\n",
       "            style=\"display:none;\">\n",
       "\n",
       "  <svg xmlns=\"http://www.w3.org/2000/svg\" height=\"24px\"viewBox=\"0 0 24 24\"\n",
       "       width=\"24px\">\n",
       "    <path d=\"M7,19H8.4L18.45,9,17,7.55,7,17.6ZM5,21V16.75L18.45,3.32a2,2,0,0,1,2.83,0l1.4,1.43a1.91,1.91,0,0,1,.58,1.4,1.91,1.91,0,0,1-.58,1.4L9.25,21ZM18.45,9,17,7.55Zm-12,3A5.31,5.31,0,0,0,4.9,8.1,5.31,5.31,0,0,0,1,6.5,5.31,5.31,0,0,0,4.9,4.9,5.31,5.31,0,0,0,6.5,1,5.31,5.31,0,0,0,8.1,4.9,5.31,5.31,0,0,0,12,6.5,5.46,5.46,0,0,0,6.5,12Z\"/>\n",
       "  </svg>\n",
       "    </button>\n",
       "    <script>\n",
       "      (() => {\n",
       "      const buttonEl =\n",
       "        document.querySelector('#id_90e94149-e349-4cdf-a2b6-bd2c3b165b22 button.colab-df-generate');\n",
       "      buttonEl.style.display =\n",
       "        google.colab.kernel.accessAllowed ? 'block' : 'none';\n",
       "\n",
       "      buttonEl.onclick = () => {\n",
       "        google.colab.notebook.generateWithVariable('df');\n",
       "      }\n",
       "      })();\n",
       "    </script>\n",
       "  </div>\n",
       "\n",
       "    </div>\n",
       "  </div>\n"
      ],
      "text/plain": [
       "            dutyName                                        dutyAddr  \\\n",
       "0    (의)내경의료재단울산제일병원                      울산광역시 남구 남산로354번길 26 (신정동)   \n",
       "1      (의)서일의료재단기장병원                         부산광역시 기장군 기장읍 대청로72번길 6   \n",
       "2    (의)성세의료재단 뉴성민병원  인천광역시 서구 칠천왕로33번길 17 (석남동, 신석로 70(석남1동, 성민병원))   \n",
       "3     (의)영문의료재단다보스병원       경기도 용인시 처인구 백옥대로1082번길 18, 다보스종합병원 (김량장동)   \n",
       "4    (의)효심의료재단용인서울병원                        경기도 용인시 처인구 고림로 81 (고림동)   \n",
       "..               ...                                             ...   \n",
       "521      효산의료재단안양샘병원                  경기도 안양시 만안구 삼덕로 9 (안양동, 안양샘병원)   \n",
       "522       효산의료재단지샘병원               경기도 군포시 군포로 591 (당동, (G샘병원)군포샘병원)   \n",
       "523           효성시티병원                       부산광역시 해운대구 해운대로 135 (재송동)   \n",
       "524             흑룡의원                           인천광역시 옹진군 백령면 백령로 831   \n",
       "525             희명병원                        서울특별시 금천구 시흥대로 244 (시흥동)   \n",
       "\n",
       "               latitude           longitude  \n",
       "0     35.54823820112527  129.30701143429678  \n",
       "1     35.23602946449906  129.21649161387128  \n",
       "2      37.5089936801167    126.669478649026  \n",
       "3    37.234641294534285  127.21049868474802  \n",
       "4          37.240316373      127.2144914405  \n",
       "..                  ...                 ...  \n",
       "521   37.39340413136221  126.92447734066778  \n",
       "522   37.35864464913468  126.94735972779895  \n",
       "523   35.18541271514478  129.12145899191526  \n",
       "524        37.959524356      124.6654985764  \n",
       "525   37.45567063464179  126.90056251863875  \n",
       "\n",
       "[526 rows x 4 columns]"
      ]
     },
     "execution_count": 127,
     "metadata": {},
     "output_type": "execute_result"
    }
   ],
   "source": [
    "df"
   ]
  },
  {
   "cell_type": "code",
   "execution_count": null,
   "metadata": {
    "id": "eUrjW3ilrr_v"
   },
   "outputs": [],
   "source": [
    "# csv 파일로 저장(인덱스 제외)\n",
    "df.to_csv('./emergency_room.csv', index=False, encoding='utf-8-sig')"
   ]
  }
 ],
 "metadata": {
  "colab": {
   "provenance": []
  },
  "kernelspec": {
   "display_name": "Python 3",
   "name": "python3"
  },
  "language_info": {
   "name": "python"
  }
 },
 "nbformat": 4,
 "nbformat_minor": 0
}
