{
 "cells": [
  {
   "cell_type": "markdown",
   "metadata": {
    "id": "4p06IPOk5xil"
   },
   "source": [
    "# **응급상황 자동 인식 및 응급실 연계 서비스**\n",
    "# 단계2 : 파인튜닝"
   ]
  },
  {
   "cell_type": "markdown",
   "metadata": {
    "id": "E3JyF0p7upms"
   },
   "source": [
    "### (1) 미션1\n",
    "사전 학습된 한국어 BERT 모델을 다운받아, 파인튜닝을 시도. 이를 위해 먼저 적절한 데이터를 수집\n",
    "\n",
    "* 학습 데이터 준비\n",
    "    * 등급별 50개씩 샘플 데이터를 제공합니다.\n",
    "    * **응급상황 등급(1~5) 별 최소 100건씩** 데이터를 추가로 수집(제작)하세요.\n",
    "        * 중증도 카테고리 파일에 있는 키워드 참조\n",
    "        * 제작시 GPT를 적극 활용해 봅시다.\n",
    "    * 총 데이터 크기 : 600건\n",
    "        * 제공데이터 100건(20건씩 5개 등급)\n",
    "        * 추가 제작 500건(100건씩 5개 등급)\n",
    "\n",
    "|text|label|\n",
    "|----|----|\n",
    "|GPT모델의 출력 형태. 응급상황 내용 | 응급등급(1~5)|\n",
    "\n"
   ]
  },
  {
   "cell_type": "code",
   "execution_count": 2,
   "metadata": {
    "colab": {
     "base_uri": "https://localhost:8080/"
    },
    "executionInfo": {
     "elapsed": 35557,
     "status": "ok",
     "timestamp": 1731979353966,
     "user": {
      "displayName": "이예림 (겨울냥국)",
      "userId": "03592088159420229142"
     },
     "user_tz": -540
    },
    "id": "wZPGgz9l-WhH",
    "outputId": "f66eab02-084b-4afc-e53a-55b135be425b"
   },
   "outputs": [
    {
     "name": "stdout",
     "output_type": "stream",
     "text": [
      "Mounted at /content/drive\n",
      "Requirement already satisfied: openai in /usr/local/lib/python3.10/dist-packages (from -r /content/drive/MyDrive/project6/2/requirements.txt (line 1)) (1.54.4)\n",
      "Collecting datasets (from -r /content/drive/MyDrive/project6/2/requirements.txt (line 2))\n",
      "  Downloading datasets-3.1.0-py3-none-any.whl.metadata (20 kB)\n",
      "Collecting haversine (from -r /content/drive/MyDrive/project6/2/requirements.txt (line 3))\n",
      "  Downloading haversine-2.8.1-py2.py3-none-any.whl.metadata (5.9 kB)\n",
      "Requirement already satisfied: anyio<5,>=3.5.0 in /usr/local/lib/python3.10/dist-packages (from openai->-r /content/drive/MyDrive/project6/2/requirements.txt (line 1)) (3.7.1)\n",
      "Requirement already satisfied: distro<2,>=1.7.0 in /usr/local/lib/python3.10/dist-packages (from openai->-r /content/drive/MyDrive/project6/2/requirements.txt (line 1)) (1.9.0)\n",
      "Requirement already satisfied: httpx<1,>=0.23.0 in /usr/local/lib/python3.10/dist-packages (from openai->-r /content/drive/MyDrive/project6/2/requirements.txt (line 1)) (0.27.2)\n",
      "Requirement already satisfied: jiter<1,>=0.4.0 in /usr/local/lib/python3.10/dist-packages (from openai->-r /content/drive/MyDrive/project6/2/requirements.txt (line 1)) (0.7.1)\n",
      "Requirement already satisfied: pydantic<3,>=1.9.0 in /usr/local/lib/python3.10/dist-packages (from openai->-r /content/drive/MyDrive/project6/2/requirements.txt (line 1)) (2.9.2)\n",
      "Requirement already satisfied: sniffio in /usr/local/lib/python3.10/dist-packages (from openai->-r /content/drive/MyDrive/project6/2/requirements.txt (line 1)) (1.3.1)\n",
      "Requirement already satisfied: tqdm>4 in /usr/local/lib/python3.10/dist-packages (from openai->-r /content/drive/MyDrive/project6/2/requirements.txt (line 1)) (4.66.6)\n",
      "Requirement already satisfied: typing-extensions<5,>=4.11 in /usr/local/lib/python3.10/dist-packages (from openai->-r /content/drive/MyDrive/project6/2/requirements.txt (line 1)) (4.12.2)\n",
      "Requirement already satisfied: filelock in /usr/local/lib/python3.10/dist-packages (from datasets->-r /content/drive/MyDrive/project6/2/requirements.txt (line 2)) (3.16.1)\n",
      "Requirement already satisfied: numpy>=1.17 in /usr/local/lib/python3.10/dist-packages (from datasets->-r /content/drive/MyDrive/project6/2/requirements.txt (line 2)) (1.26.4)\n",
      "Requirement already satisfied: pyarrow>=15.0.0 in /usr/local/lib/python3.10/dist-packages (from datasets->-r /content/drive/MyDrive/project6/2/requirements.txt (line 2)) (17.0.0)\n",
      "Collecting dill<0.3.9,>=0.3.0 (from datasets->-r /content/drive/MyDrive/project6/2/requirements.txt (line 2))\n",
      "  Downloading dill-0.3.8-py3-none-any.whl.metadata (10 kB)\n",
      "Requirement already satisfied: pandas in /usr/local/lib/python3.10/dist-packages (from datasets->-r /content/drive/MyDrive/project6/2/requirements.txt (line 2)) (2.2.2)\n",
      "Requirement already satisfied: requests>=2.32.2 in /usr/local/lib/python3.10/dist-packages (from datasets->-r /content/drive/MyDrive/project6/2/requirements.txt (line 2)) (2.32.3)\n",
      "Collecting xxhash (from datasets->-r /content/drive/MyDrive/project6/2/requirements.txt (line 2))\n",
      "  Downloading xxhash-3.5.0-cp310-cp310-manylinux_2_17_x86_64.manylinux2014_x86_64.whl.metadata (12 kB)\n",
      "Collecting multiprocess<0.70.17 (from datasets->-r /content/drive/MyDrive/project6/2/requirements.txt (line 2))\n",
      "  Downloading multiprocess-0.70.16-py310-none-any.whl.metadata (7.2 kB)\n",
      "Collecting fsspec<=2024.9.0,>=2023.1.0 (from fsspec[http]<=2024.9.0,>=2023.1.0->datasets->-r /content/drive/MyDrive/project6/2/requirements.txt (line 2))\n",
      "  Downloading fsspec-2024.9.0-py3-none-any.whl.metadata (11 kB)\n",
      "Requirement already satisfied: aiohttp in /usr/local/lib/python3.10/dist-packages (from datasets->-r /content/drive/MyDrive/project6/2/requirements.txt (line 2)) (3.11.1)\n",
      "Requirement already satisfied: huggingface-hub>=0.23.0 in /usr/local/lib/python3.10/dist-packages (from datasets->-r /content/drive/MyDrive/project6/2/requirements.txt (line 2)) (0.26.2)\n",
      "Requirement already satisfied: packaging in /usr/local/lib/python3.10/dist-packages (from datasets->-r /content/drive/MyDrive/project6/2/requirements.txt (line 2)) (24.2)\n",
      "Requirement already satisfied: pyyaml>=5.1 in /usr/local/lib/python3.10/dist-packages (from datasets->-r /content/drive/MyDrive/project6/2/requirements.txt (line 2)) (6.0.2)\n",
      "Requirement already satisfied: idna>=2.8 in /usr/local/lib/python3.10/dist-packages (from anyio<5,>=3.5.0->openai->-r /content/drive/MyDrive/project6/2/requirements.txt (line 1)) (3.10)\n",
      "Requirement already satisfied: exceptiongroup in /usr/local/lib/python3.10/dist-packages (from anyio<5,>=3.5.0->openai->-r /content/drive/MyDrive/project6/2/requirements.txt (line 1)) (1.2.2)\n",
      "Requirement already satisfied: aiohappyeyeballs>=2.3.0 in /usr/local/lib/python3.10/dist-packages (from aiohttp->datasets->-r /content/drive/MyDrive/project6/2/requirements.txt (line 2)) (2.4.3)\n",
      "Requirement already satisfied: aiosignal>=1.1.2 in /usr/local/lib/python3.10/dist-packages (from aiohttp->datasets->-r /content/drive/MyDrive/project6/2/requirements.txt (line 2)) (1.3.1)\n",
      "Requirement already satisfied: attrs>=17.3.0 in /usr/local/lib/python3.10/dist-packages (from aiohttp->datasets->-r /content/drive/MyDrive/project6/2/requirements.txt (line 2)) (24.2.0)\n",
      "Requirement already satisfied: frozenlist>=1.1.1 in /usr/local/lib/python3.10/dist-packages (from aiohttp->datasets->-r /content/drive/MyDrive/project6/2/requirements.txt (line 2)) (1.5.0)\n",
      "Requirement already satisfied: multidict<7.0,>=4.5 in /usr/local/lib/python3.10/dist-packages (from aiohttp->datasets->-r /content/drive/MyDrive/project6/2/requirements.txt (line 2)) (6.1.0)\n",
      "Requirement already satisfied: propcache>=0.2.0 in /usr/local/lib/python3.10/dist-packages (from aiohttp->datasets->-r /content/drive/MyDrive/project6/2/requirements.txt (line 2)) (0.2.0)\n",
      "Requirement already satisfied: yarl<2.0,>=1.17.0 in /usr/local/lib/python3.10/dist-packages (from aiohttp->datasets->-r /content/drive/MyDrive/project6/2/requirements.txt (line 2)) (1.17.1)\n",
      "Requirement already satisfied: async-timeout<6.0,>=4.0 in /usr/local/lib/python3.10/dist-packages (from aiohttp->datasets->-r /content/drive/MyDrive/project6/2/requirements.txt (line 2)) (4.0.3)\n",
      "Requirement already satisfied: certifi in /usr/local/lib/python3.10/dist-packages (from httpx<1,>=0.23.0->openai->-r /content/drive/MyDrive/project6/2/requirements.txt (line 1)) (2024.8.30)\n",
      "Requirement already satisfied: httpcore==1.* in /usr/local/lib/python3.10/dist-packages (from httpx<1,>=0.23.0->openai->-r /content/drive/MyDrive/project6/2/requirements.txt (line 1)) (1.0.6)\n",
      "Requirement already satisfied: h11<0.15,>=0.13 in /usr/local/lib/python3.10/dist-packages (from httpcore==1.*->httpx<1,>=0.23.0->openai->-r /content/drive/MyDrive/project6/2/requirements.txt (line 1)) (0.14.0)\n",
      "Requirement already satisfied: annotated-types>=0.6.0 in /usr/local/lib/python3.10/dist-packages (from pydantic<3,>=1.9.0->openai->-r /content/drive/MyDrive/project6/2/requirements.txt (line 1)) (0.7.0)\n",
      "Requirement already satisfied: pydantic-core==2.23.4 in /usr/local/lib/python3.10/dist-packages (from pydantic<3,>=1.9.0->openai->-r /content/drive/MyDrive/project6/2/requirements.txt (line 1)) (2.23.4)\n",
      "Requirement already satisfied: charset-normalizer<4,>=2 in /usr/local/lib/python3.10/dist-packages (from requests>=2.32.2->datasets->-r /content/drive/MyDrive/project6/2/requirements.txt (line 2)) (3.4.0)\n",
      "Requirement already satisfied: urllib3<3,>=1.21.1 in /usr/local/lib/python3.10/dist-packages (from requests>=2.32.2->datasets->-r /content/drive/MyDrive/project6/2/requirements.txt (line 2)) (2.2.3)\n",
      "Requirement already satisfied: python-dateutil>=2.8.2 in /usr/local/lib/python3.10/dist-packages (from pandas->datasets->-r /content/drive/MyDrive/project6/2/requirements.txt (line 2)) (2.8.2)\n",
      "Requirement already satisfied: pytz>=2020.1 in /usr/local/lib/python3.10/dist-packages (from pandas->datasets->-r /content/drive/MyDrive/project6/2/requirements.txt (line 2)) (2024.2)\n",
      "Requirement already satisfied: tzdata>=2022.7 in /usr/local/lib/python3.10/dist-packages (from pandas->datasets->-r /content/drive/MyDrive/project6/2/requirements.txt (line 2)) (2024.2)\n",
      "Requirement already satisfied: six>=1.5 in /usr/local/lib/python3.10/dist-packages (from python-dateutil>=2.8.2->pandas->datasets->-r /content/drive/MyDrive/project6/2/requirements.txt (line 2)) (1.16.0)\n",
      "Downloading datasets-3.1.0-py3-none-any.whl (480 kB)\n",
      "\u001b[2K   \u001b[90m━━━━━━━━━━━━━━━━━━━━━━━━━━━━━━━━━━━━━━━━\u001b[0m \u001b[32m480.6/480.6 kB\u001b[0m \u001b[31m16.7 MB/s\u001b[0m eta \u001b[36m0:00:00\u001b[0m\n",
      "\u001b[?25hDownloading haversine-2.8.1-py2.py3-none-any.whl (7.7 kB)\n",
      "Downloading dill-0.3.8-py3-none-any.whl (116 kB)\n",
      "\u001b[2K   \u001b[90m━━━━━━━━━━━━━━━━━━━━━━━━━━━━━━━━━━━━━━━━\u001b[0m \u001b[32m116.3/116.3 kB\u001b[0m \u001b[31m8.4 MB/s\u001b[0m eta \u001b[36m0:00:00\u001b[0m\n",
      "\u001b[?25hDownloading fsspec-2024.9.0-py3-none-any.whl (179 kB)\n",
      "\u001b[2K   \u001b[90m━━━━━━━━━━━━━━━━━━━━━━━━━━━━━━━━━━━━━━━━\u001b[0m \u001b[32m179.3/179.3 kB\u001b[0m \u001b[31m12.9 MB/s\u001b[0m eta \u001b[36m0:00:00\u001b[0m\n",
      "\u001b[?25hDownloading multiprocess-0.70.16-py310-none-any.whl (134 kB)\n",
      "\u001b[2K   \u001b[90m━━━━━━━━━━━━━━━━━━━━━━━━━━━━━━━━━━━━━━━━\u001b[0m \u001b[32m134.8/134.8 kB\u001b[0m \u001b[31m11.7 MB/s\u001b[0m eta \u001b[36m0:00:00\u001b[0m\n",
      "\u001b[?25hDownloading xxhash-3.5.0-cp310-cp310-manylinux_2_17_x86_64.manylinux2014_x86_64.whl (194 kB)\n",
      "\u001b[2K   \u001b[90m━━━━━━━━━━━━━━━━━━━━━━━━━━━━━━━━━━━━━━━━\u001b[0m \u001b[32m194.1/194.1 kB\u001b[0m \u001b[31m15.7 MB/s\u001b[0m eta \u001b[36m0:00:00\u001b[0m\n",
      "\u001b[?25hInstalling collected packages: xxhash, haversine, fsspec, dill, multiprocess, datasets\n",
      "  Attempting uninstall: fsspec\n",
      "    Found existing installation: fsspec 2024.10.0\n",
      "    Uninstalling fsspec-2024.10.0:\n",
      "      Successfully uninstalled fsspec-2024.10.0\n",
      "\u001b[31mERROR: pip's dependency resolver does not currently take into account all the packages that are installed. This behaviour is the source of the following dependency conflicts.\n",
      "gcsfs 2024.10.0 requires fsspec==2024.10.0, but you have fsspec 2024.9.0 which is incompatible.\u001b[0m\u001b[31m\n",
      "\u001b[0mSuccessfully installed datasets-3.1.0 dill-0.3.8 fsspec-2024.9.0 haversine-2.8.1 multiprocess-0.70.16 xxhash-3.5.0\n"
     ]
    }
   ],
   "source": [
    "from google.colab import drive\n",
    "drive.mount('/content/drive')\n",
    "path = '/content/drive/MyDrive/project6/2/'\n",
    "!pip install -r /content/drive/MyDrive/project6/2/requirements.txt\n",
    "\n",
    "#필요한 라이브러리 설치 및 불러우기\n",
    "import os\n",
    "import requests\n",
    "import xml.etree.ElementTree as ET\n",
    "import pandas as pd\n",
    "import matplotlib.pyplot as plt\n",
    "import openai\n",
    "from openai import OpenAI\n",
    "import json\n",
    "\n",
    "def load_file(filepath):\n",
    "    with open(filepath, 'r') as file:\n",
    "        return file.readline().strip()\n",
    "\n",
    "# API 키 로드 및 환경변수 설정\n",
    "openai.api_key = load_file(path + 'api_key.txt')\n",
    "os.environ['OPENAI_API_KEY'] = openai.api_key\n",
    "\n",
    "# print(os.environ['OPENAI_API_KEY'])"
   ]
  },
  {
   "cell_type": "code",
   "execution_count": null,
   "metadata": {
    "id": "apnK7LcuIMyU"
   },
   "outputs": [],
   "source": [
    "df = pd.DataFrame(columns=['text', 'label'])"
   ]
  },
  {
   "cell_type": "code",
   "execution_count": 3,
   "metadata": {
    "executionInfo": {
     "elapsed": 303,
     "status": "ok",
     "timestamp": 1731979512439,
     "user": {
      "displayName": "이예림 (겨울냥국)",
      "userId": "03592088159420229142"
     },
     "user_tz": -540
    },
    "id": "NjPhb7I3-W2m"
   },
   "outputs": [],
   "source": [
    "def ask_chatgpt2(sys_role, question):\n",
    "\n",
    "    # client = OpenAI(api_key = openai.api_key) # 시스템 환경변수로 넣어놨음\n",
    "    client = OpenAI()\n",
    "\n",
    "    response = client.chat.completions.create(\n",
    "        model=\"gpt-3.5-turbo\",\n",
    "        messages=[\n",
    "            {\"role\": \"system\", \"content\": sys_role},\n",
    "            {\"role\": \"user\", \"content\": question},\n",
    "        ]\n",
    "    )\n",
    "\n",
    "    return response.choices[0].message.content"
   ]
  },
  {
   "cell_type": "code",
   "execution_count": 88,
   "metadata": {
    "collapsed": true,
    "executionInfo": {
     "elapsed": 24770,
     "status": "ok",
     "timestamp": 1731987757120,
     "user": {
      "displayName": "이예림 (겨울냥국)",
      "userId": "03592088159420229142"
     },
     "user_tz": -540
    },
    "id": "hhPh3oQE-W62"
   },
   "outputs": [],
   "source": [
    "sys_role = '당신은 119 응급차에서 근무하는 당직 의사, 간호사 입니다. 수많은 응급 상황 신고에 대한 정보를 가지고 있으며, 해당 정보를 KTAS 등급에 따라 분류할 수 있습니다. 이에 대한 정보를 제공할 수 있습니다.'\n",
    "\n",
    "question = '''KTAS 5단계에 따른 응급 상황 내용과 응급 등급 데이터 10개 만들어줘. 단 응답은 다음의 형식을 꼭 지켜줘 : [{\"text\": \"응급 상황 내용\", \"label\": 5}].\n",
    "KTAS 5단계 상황은 이런 상황들이야.\t긴급하지만 응급은 아닌 상태, 만성적인 문제로 인한 것이거나, 악화의 가능성이 낮은 상태.감기, 장염, 설사, 열상(상처)정도의 상태. 최대한 다양하고 겹치지 않은 응급 상태 데이터로 만들어줘. 증상은 이해하기 쉬운 단어로 만들어줘.'''\n",
    "response = ask_chatgpt2(sys_role, question)\n",
    "\n"
   ]
  },
  {
   "cell_type": "code",
   "execution_count": 89,
   "metadata": {
    "colab": {
     "base_uri": "https://localhost:8080/"
    },
    "executionInfo": {
     "elapsed": 293,
     "status": "ok",
     "timestamp": 1731987759103,
     "user": {
      "displayName": "이예림 (겨울냥국)",
      "userId": "03592088159420229142"
     },
     "user_tz": -540
    },
    "id": "e3ZaTpkvOQ20",
    "outputId": "de1a9ab8-d66b-4965-838e-ba21ac598e30"
   },
   "outputs": [
    {
     "name": "stdout",
     "output_type": "stream",
     "text": [
      "[\n",
      "    {\"text\": \"목이 아프고 콧물이 나는 감기 증상이 있습니다.\", \"label\": 5},\n",
      "    {\"text\": \"소화불량으로 인한 복부 통증을 호소하는 환자가 있습니다.\", \"label\": 5},\n",
      "    {\"text\": \"피부에 따가운 각질이 생겨 피부 미백 제품을 사용한 경우 색소침착 증상을 호소합니다.\", \"label\": 5},\n",
      "    {\"text\": \"가래가 나오며 기침을 반복하는 환자가 있습니다.\", \"label\": 5},\n",
      "    {\"text\": \"식사 이후 속 쓰림과 구토 증상이 나타난 환자가 있습니다.\", \"label\": 5},\n",
      "    {\"text\": \"피부 조직이 약간 다쳐 화상 증상을 보이는 환자가 있습니다.\", \"label\": 5},\n",
      "    {\"text\": \"배변 시 설사와 복통이 동반되는 환자가 있습니다.\", \"label\": 5},\n",
      "    {\"text\": \"식사 중 생선 뼈를 삼켰는데 특별한 증상이 없는 환자가 있습니다.\", \"label\": 5},\n",
      "    {\"text\": \"턱이 아프고 이빨이 뾰족하게 자란 환자가 있습니다.\", \"label\": 5},\n",
      "    {\"text\": \"여드름이 생겨 피부에 뾰루지가 생기는 증상을 호소하는 환자가 있습니다.\", \"label\": 5}\n",
      "]\n"
     ]
    }
   ],
   "source": [
    "print(response)"
   ]
  },
  {
   "cell_type": "code",
   "execution_count": 36,
   "metadata": {
    "colab": {
     "base_uri": "https://localhost:8080/"
    },
    "collapsed": true,
    "executionInfo": {
     "elapsed": 298,
     "status": "ok",
     "timestamp": 1731983257212,
     "user": {
      "displayName": "이예림 (겨울냥국)",
      "userId": "03592088159420229142"
     },
     "user_tz": -540
    },
    "id": "jy5f1CpQIUw6",
    "outputId": "bb02c6b6-cf30-4b91-9228-b6f74f6edd64"
   },
   "outputs": [
    {
     "name": "stdout",
     "output_type": "stream",
     "text": [
      "                                         text  label\n",
      "0               심한 호흡곤란과 함께 가슴 통증이 지속되고 있는 환자      1\n",
      "1       긴급 수술이 필요한 큰 출혈으로 혈액이 과도하게 유출되고 있는 환자      1\n",
      "2   급성 심근경색으로 인한 심지혈관 폐색으로 심부전의 증상을 보이고 있는 환자      1\n",
      "3      중증적인 두경부 손상으로 혈액이 많이 흐르고 출혈이 멈추지 않는 환자      1\n",
      "4             신체의 일부분이 갑작스럽게 마비되어 움직일 수 없는 환자      1\n",
      "..                                        ...    ...\n",
      "95              미용 판독이 필요한 심혈관계 질환으로 인한 정신 변화      1\n",
      "96                       급성 신위경화로 인한 알콜 이상 환자      1\n",
      "97                                    심장마비 환자      1\n",
      "98                                    급성 호흡곤란      1\n",
      "99                                 중증의 두통과 구토      1\n",
      "\n",
      "[100 rows x 2 columns]\n"
     ]
    }
   ],
   "source": [
    "import pandas as pd\n",
    "\n",
    "# JSON 데이터\n",
    "data = [{\"text\": \"심한 호흡곤란과 함께 가슴 통증이 지속되고 있는 환자\", \"label\": 1},\n",
    "{\"text\": \"긴급 수술이 필요한 큰 출혈으로 혈액이 과도하게 유출되고 있는 환자\", \"label\": 1},\n",
    "{\"text\": \"급성 심근경색으로 인한 심지혈관 폐색으로 심부전의 증상을 보이고 있는 환자\", \"label\": 1},\n",
    "{\"text\": \"중증적인 두경부 손상으로 혈액이 많이 흐르고 출혈이 멈추지 않는 환자\", \"label\": 1},\n",
    "{\"text\": \"신체의 일부분이 갑작스럽게 마비되어 움직일 수 없는 환자\", \"label\": 1},\n",
    "{\"text\": \"급성 뇌출혈로 의식이 뚝뚝 떠는 환자\", \"label\": 1},\n",
    "{\"text\": \"중증 중독으로 혼수 상태에 빠진 환자\", \"label\": 1},\n",
    "{\"text\": \"심장마비로 인한 협심증으로 의식을 회복하지 못한 환자\", \"label\": 1},\n",
    "{\"text\": \"크게 다친 상태에서 의식을 잃은 환자\", \"label\": 1},\n",
    "{\"text\": \"화재로부터 발생한 중증화상을 입은 환자\", \"label\": 1},\n",
    "{\"text\": \"급성 심근경색을 의심할 만한 가슴 통증을 호소하는 환자\", \"label\": 1},\n",
    "{\"text\": \"급성 중독으로 혼수상태에 빠진 환자\", \"label\": 1},\n",
    "{\"text\": \"지속적인 중증적 호흡곤란으로 산소 요구량이 증가된 환자\", \"label\": 1},\n",
    "{\"text\": \"심한 지속적인 정신병적 증세를 보이는 환자\", \"label\": 1},\n",
    "{\"text\": \"중증의 타박상으로 충격 상태에 있는 환자\", \"label\": 1},\n",
    "{\"text\": \"급성 심부전으로 호흡곤란과 함께 의식상태가 뚝뚝 떨어진 환자\", \"label\": 1},\n",
    "{\"text\": \"음주나 약물 과다 복용으로 혼수상태에 빠진 환자\", \"label\": 1},\n",
    "{\"text\": \"가슴 통증으로 의식이 불명확한 환자\", \"label\": 1},\n",
    "{\"text\": \"급성 심부전으로 호흡도 어렵고 의식도 낮은 환자\", \"label\": 1},\n",
    "{\"text\": \"정신적인 문제로 인한 자해 시도를 하는 환자\", \"label\": 1},\n",
    "{\"text\": \"급성 고혈압으로 인해 의식을 잃어버린 환자\", \"label\": 1},\n",
    "{\"text\": \"가슴 통증에 호흡곤란이 동반되는 환자\", \"label\": 1},\n",
    "{\"text\": \"신경계 질환으로 의식이 뚝뚝 떨어지는 환자\", \"label\": 1},\n",
    "{\"text\": \"크게 다친 부위가 출혈하여 혈액이 흐르는 환자\", \"label\": 1},\n",
    "{\"text\": \"급성 뇌출혈로 인해 의식을 잃어버린 환자\", \"label\": 1},\n",
    "{\"text\": \"긴급 중독 증상으로 혼수상태에 빠진 환자\", \"label\": 1},\n",
    "{\"text\": \"중증한 두경부 손상 후 출혈이 멈추지 않는 환자\", \"label\": 1},\n",
    "{\"text\": \"긴급 수술이 필요한 큰 출혈로 혈액이 과도하게 소실되고 있는 환자\", \"label\": 1},\n",
    "{\"text\": \"급성 심부전으로 호흡이 곤란한 상태에 있는 환자\", \"label\": 1},\n",
    "{\"text\": \"대출혈로 인한 출혈이 멈추지 않는 환자\", \"label\": 1},\n",
    "{\"text\": \"긴급 수술이 필요한 크게 다친 상태의 환자\", \"label\": 1},\n",
    "{\"text\": \"급성 지각 장애로 현실과 인지기능이 혼동되는 환자\", \"label\": 1},\n",
    "{\"text\": \"중증 정신 마비로 혼란 상태에 빠진 환자\", \"label\": 1},\n",
    "{\"text\": \"급성 중독으로 인해 혼수에 빠진 환자\", \"label\": 1},\n",
    "{\"text\": \"심장마비로 인한 심부전 증상을 보이는 환자\", \"label\": 1},\n",
    "{\"text\": \"화재로부터 온 중증 화상 상태인 환자\", \"label\": 1},\n",
    "{\"text\": \"긴급 중독으로 인해 혼수 상태인 환자\", \"label\": 1},\n",
    "{\"text\": \"긴급 조기 출혈로 인한 응급 상황에 처한 환자\", \"label\": 1},\n",
    "{\"text\": \"긴급 수술이 필요한 중증 중독 환자\", \"label\": 1},\n",
    "{\"text\": \"긴급 수술이 필요한 큰 출혈로 혈액이 크게 소실된 환자\", \"label\": 1},\n",
    "{\"text\": \"긴급 중독으로 혼수 상태에 빠진 환자\", \"label\": 1},\n",
    "{\"text\": \"긴급 중독으로 인한 의식불명 환자\", \"label\": 1},\n",
    "{\"text\": \"긴급 심부전으로 호흡곤란을 호소하는 환자\", \"label\": 1},\n",
    "{\"text\": \"위급한 호흡곤란으로 심장 마비에 이르는 환자\", \"label\": 1},\n",
    "{\"text\": \"긴급 수술이 필요한 중증 상태인 환자\", \"label\": 1},\n",
    "{\"text\": \"긴급 중독으로 인한 의식상태 이상 환자\", \"label\": 1},\n",
    "{\"text\": \"긴급 중독으로 인한 자기폭행을 시도하고 있는 환자\", \"label\": 1},\n",
    "{\"text\": \"긴급 수술이 필요한 큰 출혈로 혈액이 과도하게 유출되는 환자\", \"label\": 1},\n",
    "{\"text\": \"긴급 수술이 필요한 크게 다친 상태의 환자\", \"label\": 1},\n",
    "{\"text\": \"긴급 중독으로 인한 혼수 상태의 환자\", \"label\": 1},\n",
    "{\"text\": \"길이 자해를 시도하는 중요한 흉부 출혈 환자\", \"label\": 1},\n",
    "{\"text\": \"긴급 중독으로 인한 혼수 상태의 의식 명확하지 못한 환자\", \"label\": 1},\n",
    "{\"text\": \"긴급 중독으로 인한 혼수 상태의 정신 생리 이상 환자\", \"label\": 1},\n",
    "{\"text\": \"긴급 중독으로 인한 약물 과다 복용으로 혼령 상태의 환자\", \"label\": 1},\n",
    "{\"text\": \"긴급 중독으로 인한 혼신에 난 급성 중독 증상이 있는 환자\", \"label\": 1},\n",
    "{\"text\": \"위급한 호흡곤란 증세와 심장 마비의 의심이 있는 환자\", \"label\": 1},\n",
    "{\"text\": \"긴급 수술이 필요한 중증 중독 상태인 환자\", \"label\": 1},\n",
    "{\"text\": \"신체의 긴급적인 응급처치를 요하는 크게 다친 환자\", \"label\": 1},\n",
    "{\"text\": \"심장마비로 인한 응급 상황\", \"label\": 1},\n",
    "{\"text\": \"심폐소생술이 필요한 상태\", \"label\": 1},\n",
    "{\"text\": \"급성 뇌졸중으로 인한 신속한 의료 처리가 필요한 상황\", \"label\": 1},\n",
    "{\"text\": \"심근경색으로 생명이 위험한 상태\", \"label\": 1},\n",
    "{\"text\": \"급성 호흡곤란으로 인한 응급 처치가 필요한 상황\", \"label\": 1},\n",
    "{\"text\": \"사지 절단 상태로 출혈이 심각한 상황\", \"label\": 1},\n",
    "{\"text\": \"중증 외상으로 신속한 응급 치료가 필요한 상태\", \"label\": 1},\n",
    "{\"text\": \"알레르기 쇼크로 인한 긴급 처치가 필요한 상황\", \"label\": 1},\n",
    "{\"text\": \"음식물에 의한 기도폐쇄로 인한 급성 호흡곤란\", \"label\": 1},\n",
    "{\"text\": \"중증 천식 발작으로 생명이 위험한 상태\", \"label\": 1},\n",
    "{\"text\": \"사지 골절로 인한 과도한 통증과 출혈이 일어난 상황\", \"label\": 1},\n",
    "{\"text\": \"급성 심부전으로 생명이 위험할 수 있는 상태\", \"label\": 1},\n",
    "{\"text\": \"알콜 중독으로 인한 심신 이상 상태\", \"label\": 1},\n",
    "{\"text\": \"중증 소화성 궤양으로 인한 출혈과 극심한 복통\", \"label\": 1},\n",
    "{\"text\": \"두부 외상으로 인한 무의식 상태\", \"label\": 1},\n",
    "{\"text\": \"중독으로 인한 혼수 상태\", \"label\": 1},\n",
    "{\"text\": \"급성 신부전으로 응급 투석이 필요한 상황\", \"label\": 1},\n",
    "{\"text\": \"심혈관계 질환으로 인한 급성 심부전 발작\", \"label\": 1},\n",
    "{\"text\": \"독극물 물림으로 인한 사지 부종과 발적이 심각한 상황\", \"label\": 1},\n",
    "{\"text\": \"급성 뇌출혈로 인한 빠른 신경외과 수술이 필요한 상태\", \"label\": 1},\n",
    "{\"text\": \"중증 피부 홍반병으로 인한 알레르기 반응\", \"label\": 1},\n",
    "{\"text\": \"급성 뇌염으로 인한 의식 변화와 경련 발작\", \"label\": 1},\n",
    "{\"text\": \"급성 심방세동으로 인한 심혈관 사고\", \"label\": 1},\n",
    "{\"text\": \"중증 폐렴으로 인한 호흡 어려움과 발열\", \"label\": 1},\n",
    "{\"text\": \"중독성 간염으로 응급 간 이식이 필요한 상황\", \"label\": 1},\n",
    "{\"text\": \"급성 심근염으로 인한 협심증 발작\", \"label\": 1},\n",
    "{\"text\": \"시신경막염으로 인한 신경계 이상 증세\", \"label\": 1},\n",
    "{\"text\": \"긴장성 두통으로 인한 혼란과 의식 손상\", \"label\": 1},\n",
    "{\"text\": \"급성 질환으로 인한 혼수 상태\", \"label\": 1},\n",
    "{\"text\": \"심장마비의 위험성이 있는 상태\", \"label\": 1},\n",
    "{\"text\": \"중증 당뇨병 케토아산토남으로 인한 혼동 상태\", \"label\": 1},\n",
    "{\"text\": \"급성 심근경색으로 인한 정맥 혈전증\", \"label\": 1},\n",
    "{\"text\": \"급성 신기능 저하로 인한 요화학적 이상\", \"label\": 1},\n",
    "{\"text\": \"급성 간염으로 인해 혈액 독성 상승\", \"label\": 1},\n",
    "{\"text\": \"급성 대동맥 박리로 인한 생명 위협적인 상세\", \"label\": 1},\n",
    "{\"text\": \"급성 폐색종으로 인한 호흡 곤란\", \"label\": 1},\n",
    "{\"text\": \"급성 장골치염으로 인한 충혈과 통증\", \"label\": 1},\n",
    "{\"text\": \"미용 판독이 필요한 심혈관계 질환으로 인한 정신 변화\", \"label\": 1},\n",
    "{\"text\": \"급성 신위경화로 인한 알콜 이상 환자\", \"label\": 1},\n",
    "{\"text\": \"심장마비 환자\", \"label\": 1},\n",
    "{\"text\": \"급성 호흡곤란\", \"label\": 1},\n",
    "{\"text\": \"중증의 두통과 구토\", \"label\": 1}]\n",
    "\n",
    "# 데이터프레임으로 변환\n",
    "label1 = pd.DataFrame(data)\n",
    "\n",
    "# 데이터프레임 출력\n",
    "print(label1)\n"
   ]
  },
  {
   "cell_type": "code",
   "execution_count": 49,
   "metadata": {
    "colab": {
     "base_uri": "https://localhost:8080/"
    },
    "executionInfo": {
     "elapsed": 311,
     "status": "ok",
     "timestamp": 1731986347730,
     "user": {
      "displayName": "이예림 (겨울냥국)",
      "userId": "03592088159420229142"
     },
     "user_tz": -540
    },
    "id": "Kx9Yqa7E-W_G",
    "outputId": "23ac7baf-9a1d-41bb-def1-cc5f4d925a89"
   },
   "outputs": [
    {
     "name": "stdout",
     "output_type": "stream",
     "text": [
      "                                            text  label\n",
      "0          가슴 통증으로 호흡이 어려워지고 응급실으로 급히 이송되어야 합니다.      2\n",
      "1               폐렴으로 인해 호흡이 곤란하며 응급적인 처치가 필요합니다.      2\n",
      "2         응급실에서 혈액 돌연변이로 인한 출혈로 인해 급한 수술이 필요합니다.      2\n",
      "3   급성 심근경색 증상으로 주변부에 통증이 생기고 응급적인 심장 마취가 필요합니다.      2\n",
      "4              두려움과 체한 호흡, 식은땀이 나며 응급상황으로 판단됩니다.      2\n",
      "..                                           ...    ...\n",
      "95                         급격한 전신 부좌와 고열을 동반한 환자      2\n",
      "96                   응급실 도착 직전 의식 잃고 경련을 일으키는 환자      2\n",
      "97              흉통과 호흡 곤란으로 심각한 심혈관 질환 가능성 있는 환자      2\n",
      "98                      급격한 의식 장애와 언어 이해 불가능한 환자      2\n",
      "99                           공격적인 행동과 환각을 보이는 환자      2\n",
      "\n",
      "[100 rows x 2 columns]\n"
     ]
    }
   ],
   "source": [
    "import pandas as pd\n",
    "\n",
    "# JSON 데이터\n",
    "data = [{\"text\": \"가슴 통증으로 호흡이 어려워지고 응급실으로 급히 이송되어야 합니다.\", \"label\": 2},\n",
    "{\"text\": \"폐렴으로 인해 호흡이 곤란하며 응급적인 처치가 필요합니다.\", \"label\": 2},\n",
    "{\"text\": \"응급실에서 혈액 돌연변이로 인한 출혈로 인해 급한 수술이 필요합니다.\", \"label\": 2},\n",
    "{\"text\": \"급성 심근경색 증상으로 주변부에 통증이 생기고 응급적인 심장 마취가 필요합니다.\", \"label\": 2},\n",
    "{\"text\": \"두려움과 체한 호흡, 식은땀이 나며 응급상황으로 판단됩니다.\", \"label\": 2},\n",
    "{\"text\": \"흉부 통증과 호흡곤란이 동반될 때 심근경색이 의심되어 응급적으로 치료가 필요합니다.\", \"label\": 2},\n",
    "{\"text\": \"뇌졸중으로 인해 언어 장애와 왼쪽 팔의 마비 증상이 나타나 응급실에서 적절한 처치가 필요합니다.\", \"label\": 2},\n",
    "{\"text\": \"급성 심근경색이 의심되어 흉통과 호흡곤란과 함께 증상이 나타나며 응급 치료가 필요합니다.\", \"label\": 2},\n",
    "{\"text\": \"급성 뇌출혈로 인해 의식 잃고 양쪽 팔다리 마비 증상이 나타나 급히 수술이 필요합니다.\", \"label\": 2},\n",
    "{\"text\": \"폴리오로 인한 호흡곤란 증상이 나타나 급하게 응급실로 이송되어야 합니다.\", \"label\": 2},\n",
    "{\"text\": \"사람 신체에 뻣뻣한 통증과 혈액 순환이 원활하지 않으면 응급 치료가 필요합니다.\", \"label\": 2},\n",
    "{\"text\": \"중증 결막염으로 눈을 깜박대거나 눈을 가리는 증세가 나타나면 응급적인 치료가 필요합니다.\", \"label\": 2},\n",
    "{\"text\": \"단순한 이질과 호흡이 곤란해지며 응급적인 처치가 필요합니다.\", \"label\": 2},\n",
    "{\"text\": \"고열과 두통으로 환자가 의식을 잃을 위험이 있으므로 응급실로 이송되어야 합니다.\", \"label\": 2},\n",
    "{\"text\": \"급성 뇌경색으로 인해 말더듬과 팔 다리 마비 증상이 나타나 응급 수술이 필요합니다.\", \"label\": 2},\n",
    "{\"text\": \"뇌출혈로 인해 혼수 상태에 빠지고 호흡이 불규칙해지면 즉각적인 치료가 필요합니다.\", \"label\": 2},\n",
    "{\"text\": \"급성 심근경색으로 모독통과 함께 호흡곤란이면 흉통으로 응급실로 이송되어야 합니다.\", \"label\": 2},\n",
    "{\"text\": \"고혈압으로 인해 두통과 혼돈이 증상이 나타나 급히 응급실로 이송되어야 합니다.\", \"label\": 2},\n",
    "{\"text\": \"결막염으로 눈이 붉고 가렵다면 응급적인 치료가 필요합니다.\", \"label\": 2},\n",
    "{\"text\": \"급성 심근경색으로 심장부위가 아프고 호흡이 어려워지면 수술로 급히 처치되어야 합니다.\", \"label\": 2},\n",
    "{\"text\": \"급성 뇌출혈로 인해 의식 잃고 몸이 붓고 호흡이 곤란해지면 급한 처리가 필요합니다.\", \"label\": 2},\n",
    "{\"text\": \"극도로 저체온이 되어 먹은 파묻혔으면 응급적인 처치가 필요합니다.\", \"label\": 2},\n",
    "{\"text\": \"급성 심근경색으로 가슴이 아파서 호흡이 어려워지면 직접 치료가 필요합니다.\", \"label\": 2},\n",
    "{\"text\": \"아토피성 기관지염으로 호흡곤란과 하품이 나타나면 급히 응급실로 이송되어야 합니다.\", \"label\": 2},\n",
    "{\"text\": \"급성 뇌출혈로 인해 혼란과 언어장애 증상이 나타나면 즉시 수술이 필요합니다.\", \"label\": 2},\n",
    "{\"text\": \"항열제 과다 복용으로 호흡이 어려워지고 두통이 심하다면 응급 치료가 필요합니다.\", \"label\": 2},\n",
    "{\"text\": \"급성 심근경색으로 인해 가슴이 메어지고 호흡곤란이 생기며 응급 수술이 필요합니다.\", \"label\": 2},\n",
    "{\"text\": \"급성 뇌경색으로 인해 말더듬과 팔다리 마비 증상이 나타나 응급 수술이 필요합니다.\", \"label\": 2},\n",
    "{\"text\": \"뇌출혈로 인해 의식이 소실되고 혈압이 급속히 하락하면 즉각적인 치료가 필요합니다.\", \"label\": 2},\n",
    "{\"text\": \"급성 심근경색으로 가슴이 아파서 호흡이 어려워지면 직접 치료가 필요합니다.\", \"label\": 2},\n",
    "{\"text\": \"간질로 인한 갑작스러운 저신음으로 경련과 쇽이 나타나면 응급적인 처치가 필요합니다.\", \"label\": 2},\n",
    "{\"text\": \"급성 심근경색으로 인해 가슴이 메어지고 호흡곤란이 생기며 응급 수술이 필요합니다.\", \"label\": 2},\n",
    "{\"text\": \"급성 뇌출혈로 인해 의식을 잃고 팔다리 마비 증상이 나타나면 즉각적인 수술이 필요합니다.\", \"label\": 2},\n",
    "{\"text\": \"폭풍우로 인한 교통사고로 인해 부상을 입고 출혈로 인한 급히 수술이 필요합니다.\", \"label\": 2},\n",
    "{\"text\": \"급성 뇌출혈로 인해 의식을 잃고 양쪽 팔다리 마비증상이 나타나 급한 수술 필요합니다.\", \"label\": 2},\n",
    "{\"text\": \"삼중수막염으로 인해 두통과 망기가 나타나는 증상이 나타나면 응급적인 처치가 필요합니다.\", \"label\": 2},\n",
    "{\"text\": \"급성 심근경색으로 호흡이 곤란해지고 가슴이 아플 때 응급실로 이송되어야 합니다.\", \"label\": 2},\n",
    "{\"text\": \"폐색소폐증으로 호흡이 어려워지고 기침과 가래가 나타나면 응급 치료가 필요합니다.\", \"label\": 2},\n",
    "{\"text\": \"급성 뇌출혈로 인해 의식 잃고 몸이 붓고 호흡이 곤란해지면 급한 처리가 필요합니다.\", \"label\": 2},\n",
    "{\"text\": \"급성 심근경색으로 가슴이 아파서 호흡이 어려워지면 직접 치료가 필요합니다.\", \"label\": 2},\n",
    "{\"text\": \"경련을 일으키는 질환으로 인해 의식이 불분명하고 과호흡이 발생하면 응급 수술이 필요합니다.\", \"label\": 2},\n",
    "{\"text\": \"급성 심근경색으로 심장주위가 아파고 호흡이 어려울 때 즉각 처치가 필요합니다.\", \"label\": 2},\n",
    "{\"text\": \"고혈압으로 인해 양무릎과 양어깨에 통증과 혼란이 생기면 응급 수술이 필요합니다.\", \"label\": 2},\n",
    "{\"text\": \"급성 뇌출혈로 인해 의식 소실되고 몸이 마비되며 급히 치료가 필요합니다.\", \"label\": 2},\n",
    "{\"text\": \"뇌출혈로 인해 혼란과 언어 장애가 나타나면 즉시 수술이 필요합니다.\", \"label\": 2},\n",
    "{\"text\": \"급성 심근경색으로 심장부위가 아프고 호흡이 어려워지면 수술로 급히 처치되어야 합니다.\", \"label\": 2},\n",
    "{\"text\": \"급성 뇌출혈로 인해 의식을 소실하고 팔다리 마비 증상이 나타나면 급해서 수술이 필요합니다.\", \"label\": 2},\n",
    "{\"text\": \"고열로 의식이 혼미해지고 손발이 마비되면 응급처치가 필요합니다.\", \"label\": 2},\n",
    "{\"text\": \"심장의 급성 경색으로 흉통과 호흡곤란이 생기면 즉각적인 처치가 필요합니다.\", \"label\": 2},\n",
    "{\"text\": \"급성 뇌경색으로 말더듬과 팔다리 마비증상이 나타나면 즉각적인 치료가 필요합니다.\", \"label\": 2},\n",
    "{\"text\": \"뇌출혈로 인해 혼란이 생기고 잇몸이 없으면 즉각적으로 수술이 필요합니다.\", \"label\": 2},\n",
    "{\"text\": \"급성 심근경색으로 말뿐과 호흡이 어려워지면 즉각적 치료가 필요합니다.\", \"label\": 2},\n",
    "{\"text\": \"소아마비로 인해 팔다리마비와 복부통증을 호소할 때 응급 치료가 필요합니다.\", \"label\": 2},\n",
    "{\"text\": \"급성 심근경색으로 소름이 돋고 호흡이 어려워지면 치료가 필요합니다.\", \"label\": 2},\n",
    "{\"text\": \"뇌출혈로 인해 의식을 소실하고 팔다리 마비 증상이 나타나면 즉각적인 치료가 필요합니다.\", \"label\": 2},\n",
    "{\"text\": \"고열로 인해 혼돈이 오고 손주통증을 호소할 때 응급 치료가 필요합니다.\", \"label\": 2},\n",
    "{\"text\": \"심장의 급성 경색으로 인해 손뿐과 호흡이 어려워지면 치료가 필요합니다.\", \"label\": 2},\n",
    "{\"text\": \"급성 뇌출혈로 인해 머리가 아프고 언어장애증상이 나타나 즉각적 치료가 필요합니다.\", \"label\": 2},\n",
    "{\"text\": \"뇌출혈로 인해 혼동과 언어장애가 나타나는 증상이 나타나면 즉각적 치료가 필요합니다.\", \"label\": 2},\n",
    "{\"text\": \"가슴 통증 및 압박감이 갑자기 시작되어 호흡 곤란을 호소하는 환자\", \"label\": 2},\n",
    "{\"text\": \"갑작스럽고 심한 두통과 의식 변화가 나타나는 환자\", \"label\": 2},\n",
    "{\"text\": \"심한 흉통으로 호흡 곤란을 겪는 환자\", \"label\": 2},\n",
    "{\"text\": \"응급실에서 긴급한 혈압 강하제 요구하는 환자\", \"label\": 2},\n",
    "{\"text\": \"초저온 환자가 혈압 저하와 호흡 어려움을 겪는 중\", \"label\": 2},\n",
    "{\"text\": \"바닥에 쓰러진 환자가 심장마비를 의심받아 구급차를 요청함\", \"label\": 2},\n",
    "{\"text\": \"흐릿한 시각과 균형 장애로 특정 부위에 마비 증상이 나타난 환자\", \"label\": 2},\n",
    "{\"text\": \"중증 폐렴으로 호흡 속도가 빨라지고 가슴부터 코카노드 사용함\", \"label\": 2},\n",
    "{\"text\": \"간헐적으로 심장마비와 호흡 중단 증상이 발생하는 환자\", \"label\": 2},\n",
    "{\"text\": \"혈압과 맥박이 급격히 낮아지고 의식 변화를 보이는 환자\", \"label\": 2},\n",
    "{\"text\": \"성인에서 고열과 정신 변화를 보이는 중\", \"label\": 2},\n",
    "{\"text\": \"통증과 호흡 곤란을 호소하며 발적 발견한 환자\", \"label\": 2},\n",
    "{\"text\": \"가슴 통증과 호흡곤란을 호소하는 갑작스럽게 발생한 환자\", \"label\": 2},\n",
    "{\"text\": \"의식 잃은 환자가 흡입음 하는 것을 발견한 환자\", \"label\": 2},\n",
    "{\"text\": \"의식 변화가 나타나고 두통 및 언어 장애가 있는 환자\", \"label\": 2},\n",
    "{\"text\": \"여성이 가슴통증 및 호흡곤란으로 긴급진료를 요청함\", \"label\": 2},\n",
    "{\"text\": \"대량응고증이 의심되어 호흡곤란 및 가슴통증 증상이 나타난 환자\", \"label\": 2},\n",
    "{\"text\": \"최근 심부전으로 치료받은 환자가 호흡 곤란과 가슴통증을 호소함\", \"label\": 2},\n",
    "{\"text\": \"어지러움, 순환기 증상, 및 머리 인후로 과거상황보다 열악해진 환자\", \"label\": 2},\n",
    "{\"text\": \"가뭄으로 탈수증상과 열중이 발생한 어린 환자\", \"label\": 2},\n",
    "{\"text\": \"소화기 증상과 혈압저하로 인한 쓰러진 환자\", \"label\": 2},\n",
    "{\"text\": \"심메스꺼움을 호소하며 혈압 강하제 요구하는 환자\", \"label\": 2},\n",
    "{\"text\": \"의식 잃은 환자가 보호자에게 과거병력을 호소함\", \"label\": 2},\n",
    "{\"text\": \"허리 아래 마비를 보일 때 무릎 골절이 의심되는 환자\", \"label\": 2},\n",
    "{\"text\": \"중첩통증과 동반되는 구토증세를 호소하는 환자\", \"label\": 2},\n",
    "{\"text\": \"성인에서 열이 나고 의식 잃은 것을 주장하는 환자\", \"label\": 2},\n",
    "{\"text\": \"식사 향후 바로, 흉부 통증과 호흡곤란으로 쓰러진 환자\", \"label\": 2},\n",
    "{\"text\": \"흉부 폐쇄증으로 호흡이 곤란해질 때 호흡곤란이 더 복면된 상태\", \"label\": 2},\n",
    "{\"text\": \"음성적인 수익형 장애가 있고 추잘 같은 면역정유질 하여 응급으로 구급차를 요청하는 환자\", \"label\": 2},\n",
    "{\"text\": \"중요한 흉통 및 호흡 곤란 증상이 존재하는 환자\", \"label\": 2},\n",
    "{\"text\": \"달리기 후에 무의식상태로 땅바닥에 쓰러진 환자\", \"label\": 2},\n",
    "{\"text\": \"가슴 통증과 호흡 곤란을 동반한 환자\", \"label\": 2},\n",
    "{\"text\": \"급격한 두통과 언어 장애가 나타난 환자\", \"label\": 2},\n",
    "{\"text\": \"심한 혈액 응고로 인한 발한 증상을 보이는 환자\", \"label\": 2},\n",
    "{\"text\": \"방사성 물질에 노출된 후 구토 및 구토로 인한 고열을 나타내는 환자\", \"label\": 2},\n",
    "{\"text\": \"심각한 체중 감량과 식욕 부진이 오래 지속되는 환자\", \"label\": 2},\n",
    "{\"text\": \"급격한 전신 부좌와 고열을 동반한 환자\", \"label\": 2},\n",
    "{\"text\": \"응급실 도착 직전 의식 잃고 경련을 일으키는 환자\", \"label\": 2},\n",
    "{\"text\": \"흉통과 호흡 곤란으로 심각한 심혈관 질환 가능성 있는 환자\", \"label\": 2},\n",
    "{\"text\": \"급격한 의식 장애와 언어 이해 불가능한 환자\", \"label\": 2},\n",
    "{\"text\": \"공격적인 행동과 환각을 보이는 환자\", \"label\": 2}]\n",
    "\n",
    "# 데이터프레임으로 변환\n",
    "label2 = pd.DataFrame(data)\n",
    "\n",
    "# 데이터프레임 출력\n",
    "print(label2)"
   ]
  },
  {
   "cell_type": "code",
   "execution_count": 64,
   "metadata": {
    "colab": {
     "base_uri": "https://localhost:8080/"
    },
    "executionInfo": {
     "elapsed": 571,
     "status": "ok",
     "timestamp": 1731986996147,
     "user": {
      "displayName": "이예림 (겨울냥국)",
      "userId": "03592088159420229142"
     },
     "user_tz": -540
    },
    "id": "nT1XaA64-XDM",
    "outputId": "38a37992-84ab-45fe-bb5d-e03eb80f75b1"
   },
   "outputs": [
    {
     "name": "stdout",
     "output_type": "stream",
     "text": [
      "                     text  label\n",
      "0      호흡이 어렵고 가슴이 답답한 상태      3\n",
      "1         심장마비 가능성이 있는 상태      3\n",
      "2    심한 혈압 상승으로 인한 두통과 혼돈      3\n",
      "3    급성 위장 통증과 구토가 동반된 상태      3\n",
      "4       뇌출혈 가능성이 있는 심한 두통      3\n",
      "..                    ...    ...\n",
      "95         심한 과로로 인한 뇌 졸중      3\n",
      "96      심한 합병증으로 인한 호흡 고립      3\n",
      "97   심한 혈액순환 문제로 인한 혼수 상태      3\n",
      "98  심한 수면 장애로 인한 신체 흉추 변형      3\n",
      "99  심한 압박 손상이 동반된 크러시 증후군      3\n",
      "\n",
      "[100 rows x 2 columns]\n"
     ]
    }
   ],
   "source": [
    "import pandas as pd\n",
    "\n",
    "# JSON 데이터\n",
    "data = [{\"text\": \"호흡이 어렵고 가슴이 답답한 상태\", \"label\": 3},\n",
    "{\"text\": \"심장마비 가능성이 있는 상태\", \"label\": 3},\n",
    "{\"text\": \"심한 혈압 상승으로 인한 두통과 혼돈\", \"label\": 3},\n",
    "{\"text\": \"급성 위장 통증과 구토가 동반된 상태\", \"label\": 3},\n",
    "{\"text\": \"뇌출혈 가능성이 있는 심한 두통\", \"label\": 3},\n",
    "{\"text\": \"심해진 흉통과 숨쉬기가 곤란한 상태\", \"label\": 3},\n",
    "{\"text\": \"심한 고통을 호소하는 환자\", \"label\": 3},\n",
    "{\"text\": \"숨쉬기가 어려워서 몸이 부촉한 상태\", \"label\": 3},\n",
    "{\"text\": \"혈압 급상승으로 혼란과 어지러움\", \"label\": 3},\n",
    "{\"text\": \"등산 중 심한 복통과 혈뇌장애 가능성\", \"label\": 3},\n",
    "{\"text\": \"심장 마비가 의심되는 흉통\", \"label\": 3},\n",
    "{\"text\": \"흉통과 고통으로 인한 초조한 상태\", \"label\": 3},\n",
    "{\"text\": \"급성 심근경색 가능성을 고려해야 하는 상태\", \"label\": 3},\n",
    "{\"text\": \"심장마비 및 호흡기 탈수능성이 있는 상태\", \"label\": 3},\n",
    "{\"text\": \"뇌출혈 가능성으로 심한 두통 호소\", \"label\": 3},\n",
    "{\"text\": \"급성 복부 통증과 혈류장애 의심\", \"label\": 3},\n",
    "{\"text\": \"저혈압으로 혼란 및 혈뇌장애 가능성\", \"label\": 3},\n",
    "{\"text\": \"자살 시도 후 혈액 손실과 혼미 상태\", \"label\": 3},\n",
    "{\"text\": \"심장 은폐하여 호흡 곤란을 호소\", \"label\": 3},\n",
    "{\"text\": \"심해진 가슴 통증과 혼란\", \"label\": 3},\n",
    "{\"text\": \"급성 뇌파 손상과 혼란 상태\", \"label\": 3},\n",
    "{\"text\": \"고열을 동반한 혼란된 헛구역질\", \"label\": 3},\n",
    "{\"text\": \"급성 심장 마비 가능성 있는 흉통\", \"label\": 3},\n",
    "{\"text\": \"갑작스러운 심한 가슴 통증과 숨결곤란\", \"label\": 3},\n",
    "{\"text\": \"혼미와 호흡 곤란을 호소하는 상태\", \"label\": 3},\n",
    "{\"text\": \"급성 복부 통증과 혈우장애 의심\", \"label\": 3},\n",
    "{\"text\": \"심해진 흉통과 공폐 관련 호흡곤란\", \"label\": 3},\n",
    "{\"text\": \"심해진 가슴 통증과 구토, 어지러움\", \"label\": 3},\n",
    "{\"text\": \"뇌 출혈로 인한 혼미와 어지러움\", \"label\": 3},\n",
    "{\"text\": \"심해진 흉통과 호흡곤란\", \"label\": 3},\n",
    "{\"text\": \"급성 심근경색 가능성 있는 가슴 통증\", \"label\": 3},\n",
    "{\"text\": \"숨쉬기가 곤란하고 몸이 떨리는 상태\", \"label\": 3},\n",
    "{\"text\": \"악화 되는 협심증으로 인한 가슴앓이\", \"label\": 3},\n",
    "{\"text\": \"중풍으로 인한 얼굴 신경마비 증세\", \"label\": 3},\n",
    "{\"text\": \"가슴 통증과 호흡곤란 호소\", \"label\": 3},\n",
    "{\"text\": \"혈관 파열로 인한 갑작스러운 흉통\", \"label\": 3},\n",
    "{\"text\": \"중증인지장애로 혼미와 어리석음\", \"label\": 3},\n",
    "{\"text\": \"급성 뇌혈전증으로 인한 얼굴 마비\", \"label\": 3},\n",
    "{\"text\": \"숨쉬기 곤란과 뇌출혈 가능성\", \"label\": 3},\n",
    "{\"text\": \"심장 이상 및 혈액 졸증으로 가슴 통증\", \"label\": 3},\n",
    "{\"text\": \"혈압 급상승에 따른 섬망과 혼란\", \"label\": 3},\n",
    "{\"text\": \"중풍으로 인한 얼굴 불안전한 마비\", \"label\": 3},\n",
    "{\"text\": \"급성 심장마비 가능성 있는 혼미\", \"label\": 3},\n",
    "{\"text\": \"방광염으로 인한 심한 배뇨통증\", \"label\": 3},\n",
    "{\"text\": \"배부름 증세에 따른 구토와 사지 저림\", \"label\": 3},\n",
    "{\"text\": \"뇌출혈 가능성 있는 증상 호소\", \"label\": 3},\n",
    "{\"text\": \"심한 복통과 혼란을 호소하는 상태\", \"label\": 3},\n",
    "{\"text\": \"호흡이 어려운 상황에서 고통을 호소하며 나머지 의식이 혼미한 환자\", \"label\": 3},\n",
    "{\"text\": \"겨드랑이에서 지속적인 출혈을 겪고 있는 환자\", \"label\": 3},\n",
    "{\"text\": \"재채기와 눈물이 동반되는 심한 알레르기 반응\", \"label\": 3},\n",
    "{\"text\": \"배가 아픈데 설사가 동반되어 주변이 부종된 환자\", \"label\": 3},\n",
    "{\"text\": \"독극물에 노출된 피부가 화상을 입은 환자\", \"label\": 3},\n",
    "{\"text\": \"백혈구가 높게 나와 구토와 설사를 하는 환자\", \"label\": 3},\n",
    "{\"text\": \"뇌진동과 함께 깊은 상처를 입은 환자\", \"label\": 3},\n",
    "{\"text\": \"식도에서 큰 조각의 음식물을 삼켜 기침이 심한 환자\", \"label\": 3},\n",
    "{\"text\": \"다리에 깊은 상처를 갖고 출혈이 나는 환자\", \"label\": 3},\n",
    "{\"text\": \"박테리아에 감염돼 간지러운 발진과 열이 동반된 환자\", \"label\": 3},\n",
    "{\"text\": \"자소서를 읽은 후 오열하고 구토하는 환자\", \"label\": 3},\n",
    "{\"text\": \"배앓이가 심해지고 옅은 피가 섞인 변을 함께하는 환자\", \"label\": 3},\n",
    "{\"text\": \"무거운 물건이 떨어져 온몸이 불편한 환자\", \"label\": 3},\n",
    "{\"text\": \"갑자기 얼굴이 붉어지며 충혈이 된 환자\", \"label\": 3},\n",
    "{\"text\": \"바위를 든 상태에서 깊은 상처로 출혈이 나는 환자\", \"label\": 3},\n",
    "{\"text\": \"심한 두통과 오심이 동반된 고열 환자\", \"label\": 3},\n",
    "{\"text\": \"자전거 사고로 머리를 부딪혀 의식을 잃은 환자\", \"label\": 3},\n",
    "{\"text\": \"귀에서 피가 나며 동반된 어지러움을 호소하는 환자\", \"label\": 3},\n",
    "{\"text\": \"목에 찔린 것으로 호흡이 어렵고 발한을 함께하는 환자\", \"label\": 3},\n",
    "{\"text\": \"뒷목에 반복적인 타격으로 상처와 출혈이 나는 환자\", \"label\": 3},\n",
    "{\"text\": \"숨이 차서 뒷건강과 신장 부위의 아픔을 호소하는 환자\", \"label\": 3},\n",
    "{\"text\": \"거대한 산소포장으로 호흡이 곤란한 환자\", \"label\": 3},\n",
    "{\"text\": \"사람이 지나치게 박테리아에 노출되어 열이 나는 환자\", \"label\": 3},\n",
    "{\"text\": \"음식물에 알레르기 반응으로 얼굴이 부어 오는 환자\", \"label\": 3},\n",
    "{\"text\": \"두장을 하고 뒷목을 베어 숨이 차는 환자\", \"label\": 3},\n",
    "{\"text\": \"빗물을 마시고 구토가 동반되는 환자\", \"label\": 3},\n",
    "{\"text\": \"매운 음식을 먹고서 두통이 심하게 시작된 환자\", \"label\": 3},\n",
    "{\"text\": \"CCTV 카메라에 든 직후라 왼쪽 얼굴이 크게 붓고 아파하는 환자\", \"label\": 3},\n",
    "{\"text\": \"칼로 팔이 찔려 혈관에 상처를 입고 출혈하고 있는 환자\", \"label\": 3},\n",
    "{\"text\": \"날이 뜨겁고 습한 날씨로 인한 열 이상 증세를 호소하는 환자\", \"label\": 3},\n",
    "{\"text\": \"무리한 신체활동으로 흉골을 다쳐 호흡이 어려운 환자\", \"label\": 3},\n",
    "{\"text\": \"급한 배탈로 심한 설사를 하는 환자\", \"label\": 3},\n",
    "{\"text\": \"디지털 심장으로 인한 심혈관에 문제가 있는 환자\", \"label\": 3},\n",
    "{\"text\": \"아침에 치아가 해당되서 입안에 피가 많이 난 환자\", \"label\": 3},\n",
    "{\"text\": \"가슴 윗부분에서 아래만졌을 때 걸레어플록을 부은 환자\", \"label\": 3},\n",
    "{\"text\": \"간단한 집게질을 했는데도 피가 안 멈추는 상태인 환자\", \"label\": 3},\n",
    "{\"text\": \"실제로 출퇴근할 수 없는 두통발생으로 약을 득한 환자\", \"label\": 3},\n",
    "{\"text\": \"탑승자가 탈출하는 과정에 상처를 입고 있는 환자\", \"label\": 3},\n",
    "{\"text\": \"갑자기 가슴이 터질 듯이 격렬한 가슴 통증을 호소하는 환자\", \"label\": 3},\n",
    "{\"text\": \"자신이 문제가 있다고 하지만 볼과 입이 부었다고 호소하는 환자\", \"label\": 3},\n",
    "{\"text\": \"숨을 못 쉬어 가슴에 불편함을 호소하는 환자\", \"label\": 3},\n",
    "{\"text\": \"장난감을 입에 넣은 후 카펫 위로 쏟여 있는 환자\", \"label\": 3},\n",
    "{\"text\": \"개인트레이닝 중 어깨를 부친 환자\", \"label\": 3},\n",
    "{\"text\": \"심한 알레르기 반응으로 인한 호흡곤란\", \"label\": 3},\n",
    "{\"text\": \"심한 체온 조절 문제로 인한 발작\", \"label\": 3},\n",
    "{\"text\": \"심한 허혈성 신경병증으로 인한 인지 장애\", \"label\": 3},\n",
    "{\"text\": \"심한 고도의 전신 화상으로 인한 출혈\", \"label\": 3},\n",
    "{\"text\": \"심한 소화기 출혈을 동반한 중독 증상\", \"label\": 3},\n",
    "{\"text\": \"심한 과로로 인한 뇌 졸중\", \"label\": 3},\n",
    "{\"text\": \"심한 합병증으로 인한 호흡 고립\", \"label\": 3},\n",
    "{\"text\": \"심한 혈액순환 문제로 인한 혼수 상태\", \"label\": 3},\n",
    "{\"text\": \"심한 수면 장애로 인한 신체 흉추 변형\", \"label\": 3},\n",
    "{\"text\": \"심한 압박 손상이 동반된 크러시 증후군\", \"label\": 3}]\n",
    "\n",
    "# 데이터프레임으로 변환\n",
    "label3 = pd.DataFrame(data)\n",
    "\n",
    "# 데이터프레임 출력\n",
    "print(label3)"
   ]
  },
  {
   "cell_type": "code",
   "execution_count": 76,
   "metadata": {
    "colab": {
     "base_uri": "https://localhost:8080/"
    },
    "executionInfo": {
     "elapsed": 454,
     "status": "ok",
     "timestamp": 1731987477433,
     "user": {
      "displayName": "이예림 (겨울냥국)",
      "userId": "03592088159420229142"
     },
     "user_tz": -540
    },
    "id": "qitmxEuL-XH1",
    "outputId": "65cd99fc-752b-407c-bac7-73002f8755d2"
   },
   "outputs": [
    {
     "name": "stdout",
     "output_type": "stream",
     "text": [
      "                                                 text  label\n",
      "0        1년 된 아기가 갑자기 호흡곤란을 호소하고 빈티레아음과 호흡이 빠른게 보입니다.      4\n",
      "1       고령 남성이 흉통과 가슴이 밀린다며 호소하고 있으며 전에 심장병력을 가지고 있음.      4\n",
      "2   슬픈 정서를 나타내는 중년 여성이 갑자기 오른쪽 팔이 저림과 이동이 불가능하다고 호소함.      4\n",
      "3                      58세 여성이 복통과 혈변이 나오는 증상을 호소합니다.      4\n",
      "4     1살짜리 아기가 구토와 설사로 탈수 증상이 나타나고 기력이 떨어진 것 같아 보입니다.      4\n",
      "..                                                ...    ...\n",
      "95                           중증 구토와 복부 팽만을 호소하는 중년 여성      4\n",
      "96                             손목 골절과 출혈을 겪고 있는 외상 환자      4\n",
      "97                           흉통과 심한 호흡 곤란을 호소하는 중년 여성      4\n",
      "98                            급격한 현기증과 어지러움을 겪는 젊은 성인      4\n",
      "99                             중증 흉통과 두근거림을 보이는 심장 환자      4\n",
      "\n",
      "[100 rows x 2 columns]\n"
     ]
    }
   ],
   "source": [
    "import pandas as pd\n",
    "\n",
    "# JSON 데이터\n",
    "data = [{\"text\": \"1년 된 아기가 갑자기 호흡곤란을 호소하고 빈티레아음과 호흡이 빠른게 보입니다.\", \"label\": 4},\n",
    "{\"text\": \"고령 남성이 흉통과 가슴이 밀린다며 호소하고 있으며 전에 심장병력을 가지고 있음.\", \"label\": 4},\n",
    "{\"text\": \"슬픈 정서를 나타내는 중년 여성이 갑자기 오른쪽 팔이 저림과 이동이 불가능하다고 호소함.\", \"label\": 4},\n",
    "{\"text\": \"58세 여성이 복통과 혈변이 나오는 증상을 호소합니다.\", \"label\": 4},\n",
    "{\"text\": \"1살짜리 아기가 구토와 설사로 탈수 증상이 나타나고 기력이 떨어진 것 같아 보입니다.\", \"label\": 4},\n",
    "{\"text\": \"36세 남성이 혈액을 토하며 체온이 39도가 넘는 발열을 보입니다.\", \"label\": 4},\n",
    "{\"text\": \"30대 여성이 어지러움과 얼굴이 일부 부숴져 아프다며 호소합니다.\", \"label\": 4},\n",
    "{\"text\": \"고열과 기침으로 호흡곤란 증상이 나타난 65세 여성이 있습니다.\", \"label\": 4},\n",
    "{\"text\": \"고령 남성이 어깨와 가슴 통증이 있으며 의식이 흐릿해 보입니다.\", \"label\": 4},\n",
    "{\"text\": \"10대 여성이 호흡곤란과 목의 부기로 인한 괴사증상을 호소합니다.\", \"label\": 4},\n",
    "{\"text\": \"1살짜리 아기가 머리를 많이 부딪혀서 의식이 없고 호흡이 끊기는 듯합니다.\", \"label\": 4},\n",
    "{\"text\": \"남성이 땀을 많이 흘리며 가슴이 아프다며 호소합니다.\", \"label\": 4},\n",
    "{\"text\": \"소아가 열이 나고 호흡곤란 증상을 보이고 있으며 어린이 병원 안내가 필요합니다.\", \"label\": 4},\n",
    "{\"text\": \"소아가 발걸음이 불안정하며 얼굴이 붉어지고 구토를 하고 있습니다.\", \"label\": 4},\n",
    "{\"text\": \"발목을 다쳐 호소하는 20대 여성이 있습니다.\", \"label\": 4},\n",
    "{\"text\": \"장난감을 삼켜 호흡곤란 증상이 나타나는 2세 아동이 보입니다.\", \"label\": 4},\n",
    "{\"text\": \"쇼크 상태인 남성으로 심장이 빠르게 뛰고 있으며 빈맥 상태도 나타납니다.\", \"label\": 4},\n",
    "{\"text\": \"중년 남성이 호흡이 어려워하며 심장 마비 가능성이 있어 보입니다.\", \"label\": 4},\n",
    "{\"text\": \"화상을 입은 아기가 울음소리가 약하고 응급 처치 도움이 필요합니다.\", \"label\": 4},\n",
    "{\"text\": \"수술 후 얼굴이 붓고 호흡곤란 증상을 호소하는 중년 여성이 있습니다.\", \"label\": 4},\n",
    "{\"text\": \"배에서 절단 상처가 생겼다며 복통을 호소하는 여성이 있습니다.\", \"label\": 4},\n",
    "{\"text\": \"코카인 과다 복용으로 혼수 상태에 빠진 남성이 있습니다.\", \"label\": 4},\n",
    "{\"text\": \"음주 상태인 청년이 호흡이 빠르고 미각이 떨어진 상태로 보입니다.\", \"label\": 4},\n",
    "{\"text\": \"심한 공황 발작으로 의식이 이상한 여성이 있습니다.\", \"label\": 4},\n",
    "{\"text\": \"골반 골절을 입고 호흡곤란 증상을 호소하는 여성이 있습니다.\", \"label\": 4},\n",
    "{\"text\": \"가슴을 쥐어짜는 듯한 통증으로 호소하는 고령 여성이 있습니다.\", \"label\": 4},\n",
    "{\"text\": \"강도 높은 두통으로 의식이 흐리는 청년이 있습니다.\", \"label\": 4},\n",
    "{\"text\": \"발목을 삐어 통증으로 인한 응급 처치 도움이 필요한 청소년이 있습니다.\", \"label\": 4},\n",
    "{\"text\": \"심각한 알코올 중독 증상을 보이는 40대 남성이 있습니다.\", \"label\": 4},\n",
    "{\"text\": \"낮에도 계속되는 두통과 얼굴이 붉어진 고령 남성이 있습니다.\", \"label\": 4},\n",
    "{\"text\": \"심장 마비가 의심되는 중년 여성이 있습니다.\", \"label\": 4},\n",
    "{\"text\": \"눈이 벗겨지는 듯한 두통 증상을 호소하는 중년 여성이 있습니다.\", \"label\": 4},\n",
    "{\"text\": \"시야가 좁아지는 듯한 두통으로 의식이 흐릿한 중년 남성이 있습니다.\", \"label\": 4},\n",
    "{\"text\": \"혈당 수치가 급격히 하락하고 무기력증상을 호소하는 고령 여성이 있습니다.\", \"label\": 4},\n",
    "{\"text\": \"젊은 여성이 기립성 혈압 저하로 실신 위험이 있어 보입니다.\", \"label\": 4},\n",
    "{\"text\": \"음주 후 혼수 상태에 빠진 20대 남성이 있습니다.\", \"label\": 4},\n",
    "{\"text\": \"곧바로 수술이 필요한 중요한 부정맥 증상을 보이는 50대 여성이 있습니다.\", \"label\": 4},\n",
    "{\"text\": \"쇼크 상태의 혈액을 분유하며 의식이 흐릿해 보이는 70대 여성이 있습니다.\", \"label\": 4},\n",
    "{\"text\": \"남성이 뇌졸중 증상으로 약독상태에 빠진 듯한 모습으로 오른쪽 팔 다리의 이동이 어려워 보입니다.\", \"label\": 4},\n",
    "{\"text\": \"고열과 콧물 알레르기 증상을 호소하는 소아가 있습니다.\", \"label\": 4},\n",
    "{\"text\": \"눈이 왜곡되는 듯한 두통으로 의식이 불안정한 것 처럼 보입니다.\", \"label\": 4},\n",
    "{\"text\": \"격한 어깨 통증으로 응급 처치가 필요한 40대 남성이 있습니다.\", \"label\": 4},\n",
    "{\"text\": \"숨 쉬기 쉽지 않은 호흡곤란 증상으로 응급 치료가 시급한 50대 여성이 있습니다.\", \"label\": 4},\n",
    "{\"text\": \"급격한 복통으로 응급 병원으로 이송이 필요한 60대 여성이 있습니다.\", \"label\": 4},\n",
    "{\"text\": \"전신이 심한 가려움과 피부가 빨간색으로 변하며 호흡곤란 증상을 보이는 중년 여성이 있습니다.\", \"label\": 4},\n",
    "{\"text\": \"1세 여아가 토하며 두통과 발열로 쇼크 상태가 오감상으로 보입니다.\", \"label\": 4},\n",
    "{\"text\": \"고열과 가래가 올라오는 증상을 호소하는 70대 남성이 있습니다.\", \"label\": 4},\n",
    "{\"text\": \"바닥이 미끄러 대문에 넘어져 뻗어가는 소아가 있습니다.\", \"label\": 4},\n",
    "{\"text\": \"대상포진이 발생하여 손이 붓고 가려움증과 통증을 호소하는 30대 여성이 있습니다.\", \"label\": 4},\n",
    "{\"text\": \"심한 연하거나 혼란 상태가 있어 갑자기 혈액을 분비하여 경련과 신경계 혼동상태가 있는 수술환자가 있습니다.\", \"label\": 4},\n",
    "{\"text\": \"혈관이 터진 것처럼 혈액이 지나갔으며 전신이 아프다며 호흡이 가셔보입니다.\", \"label\": 4},\n",
    "{\"text\": \"흡입으로 호감상태로 호흡곤란 증상으로 의식이 심하게 흐려 보입니다.\", \"label\": 4},\n",
    "{\"text\": \"경고적인 깊은 호흡이 어려워하며 흉통과 호흡 곤란 증상을 나타내는 남성이 있습니다.\", \"label\": 4},\n",
    "{\"text\": \"턱이 제대로 열리지 않는다며 의식이 흐릿해진 남성이 있습니다.\", \"label\": 4},\n",
    "{\"text\": \"엄청난 경련그이 남성이 있으며 의식이 혼란해 보입니다.\", \"label\": 4},\n",
    "{\"text\": \"전신이 아프고 혈액이 붉게나오며 의식이 없다는 남성이 있습니다.\", \"label\": 4},\n",
    "{\"text\": \"가슴을 뒤에 찔러드는 듯한 갑자기 가슴 통증으로 호흡이 상당히 어려워 보입니다.\", \"label\": 4},\n",
    "{\"text\": \"왼쪽 팔이 안 찍이는 것 처럼 느껴지며 호흡이 따끔거려 보이는 중년 여성이 있습니다.\", \"label\": 4},\n",
    "{\"text\": \"어지러움과 두통에 호흡이 어려워 보이는 청소년이 있습니다.\", \"label\": 4},\n",
    "{\"text\": \"전신이 아프고 피몬색 피부 속을 보이는 약독적 모습이 보입니다.\", \"label\": 4},\n",
    "{\"text\": \"가슴을 뒤에 찍은 듯한 증상으로 호흡이 상당히 곤란해보입니다.\", \"label\": 4},\n",
    "{\"text\": \"고열과 심한 통증을 호소하는 아동\", \"label\": 4},\n",
    "{\"text\": \"가슴 통증과 호흡 곤란을 겪는 노인 환자\", \"label\": 4},\n",
    "{\"text\": \"혼수 상태에 빠진 젊은 성인\", \"label\": 4},\n",
    "{\"text\": \"심한 출혈을 겪고 있는 외상 환자\", \"label\": 4},\n",
    "{\"text\": \"급격한 신기능 저하로 인한 의식 장애를 보이는 중년 남성\", \"label\": 4},\n",
    "{\"text\": \"심한 소양과 혈뇌장애의 증세를 보이는 뇌졸중 환자\", \"label\": 4},\n",
    "{\"text\": \"급성 복통과 구토로 고통을 호소하는 여성\", \"label\": 4},\n",
    "{\"text\": \"시력 감퇴와 두통을 호소하는 노인\", \"label\": 4},\n",
    "{\"text\": \"흉통과 숨참은 호흡을 겪고 있는 환자\", \"label\": 4},\n",
    "{\"text\": \"이명과 증폭된 두통을 호소하는 청소년\", \"label\": 4},\n",
    "{\"text\": \"현기증과 실신을 겪고 있는 젊은 성인\", \"label\": 4},\n",
    "{\"text\": \"양쪽 팔 다리를 다쳐 든 환자\", \"label\": 4},\n",
    "{\"text\": \"급격한 가슴 통증과 링거 병상을 호소하는 노인\", \"label\": 4},\n",
    "{\"text\": \"악화된 요통과 하복부 통증을 호소하는 중년 여성\", \"label\": 4},\n",
    "{\"text\": \"흉통과 혈전증상을 겪는 청년 남성\", \"label\": 4},\n",
    "{\"text\": \"골반 골절과 출혈을 겪고 있는 외상 환자\", \"label\": 4},\n",
    "{\"text\": \"중증 흉통을 호소하는 심장 환자\", \"label\": 4},\n",
    "{\"text\": \"무릎 골절과 심한 통증을 겪는 청년\", \"label\": 4},\n",
    "{\"text\": \"급격한 호흡 곤란과 부기를 겪는 중년 여성\", \"label\": 4},\n",
    "{\"text\": \"중증 경련 발작과 발열을 보이는 아동\", \"label\": 4},\n",
    "{\"text\": \"흉통과 구역질을 호소하는 청년 여성\", \"label\": 4},\n",
    "{\"text\": \"급격한 신경병증 증세를 호소하는 노인\", \"label\": 4},\n",
    "{\"text\": \"외상으로 인한 응급 수술이 필요한 뇌출혈 환자\", \"label\": 4},\n",
    "{\"text\": \"허리 통증과 하체 마비를 겪는 뇌경색 환자\", \"label\": 4},\n",
    "{\"text\": \"급성 가슴 통증과 숨참은 호흡을 겪는 청년\", \"label\": 4},\n",
    "{\"text\": \"혼수 상태에 빠진 뇌출혈 환자\", \"label\": 4},\n",
    "{\"text\": \"중증 흉통을 호소하는 청년 남성\", \"label\": 4},\n",
    "{\"text\": \"신경마비와 의식 장애를 겪는 중년 남성\", \"label\": 4},\n",
    "{\"text\": \"급격한 저체온증상과 혈뇌장애의 증세를 보이는 뇌졸중 환자\", \"label\": 4},\n",
    "{\"text\": \"목 상해와 장식을 겪고 있는 외상 환자\", \"label\": 4},\n",
    "{\"text\": \"혈통 신경증상과 경련을 보이는 중년 여성\", \"label\": 4},\n",
    "{\"text\": \"급격한 심장 마비로 인한 혈청 반응을 보이는 심장 환자\", \"label\": 4},\n",
    "{\"text\": \"발목 골절과 심한 통증을 호소하는 아동\", \"label\": 4},\n",
    "{\"text\": \"급격한 두통과 혼수 상태를 겪고 있는 뇌출혈 환자\", \"label\": 4},\n",
    "{\"text\": \"중증 구토와 복부 팽만을 호소하는 중년 여성\", \"label\": 4},\n",
    "{\"text\": \"손목 골절과 출혈을 겪고 있는 외상 환자\", \"label\": 4},\n",
    "{\"text\": \"흉통과 심한 호흡 곤란을 호소하는 중년 여성\", \"label\": 4},\n",
    "{\"text\": \"급격한 현기증과 어지러움을 겪는 젊은 성인\", \"label\": 4},\n",
    "{\"text\": \"중증 흉통과 두근거림을 보이는 심장 환자\", \"label\": 4}]\n",
    "\n",
    "# 데이터프레임으로 변환\n",
    "label4 = pd.DataFrame(data)\n",
    "\n",
    "# 데이터프레임 출력\n",
    "print(label4)"
   ]
  },
  {
   "cell_type": "code",
   "execution_count": 91,
   "metadata": {
    "colab": {
     "base_uri": "https://localhost:8080/"
    },
    "executionInfo": {
     "elapsed": 356,
     "status": "ok",
     "timestamp": 1731987864832,
     "user": {
      "displayName": "이예림 (겨울냥국)",
      "userId": "03592088159420229142"
     },
     "user_tz": -540
    },
    "id": "fj9T-_Ic-XL6",
    "outputId": "49ce5455-d4b2-466f-db4b-b50e5decede4"
   },
   "outputs": [
    {
     "name": "stdout",
     "output_type": "stream",
     "text": [
      "                                       text  label\n",
      "0                        가래가 많이 나와 목이 아픈 상태      5\n",
      "1                       가래가 많이 나오나 열은 없는 상태      5\n",
      "2                                  목이 아픈 상태      5\n",
      "3                            열은 없고 목이 아픈 상태      5\n",
      "4                       목이 아파 말을 하고싶지 않은 상태      5\n",
      "..                                      ...    ...\n",
      "95        피부 조직이 약간 다쳐 화상 증상을 보이는 환자가 있습니다.      5\n",
      "96              배변 시 설사와 복통이 동반되는 환자가 있습니다.      5\n",
      "97     식사 중 생선 뼈를 삼켰는데 특별한 증상이 없는 환자가 있습니다.      5\n",
      "98             턱이 아프고 이빨이 뾰족하게 자란 환자가 있습니다.      5\n",
      "99  여드름이 생겨 피부에 뾰루지가 생기는 증상을 호소하는 환자가 있습니다.      5\n",
      "\n",
      "[100 rows x 2 columns]\n"
     ]
    }
   ],
   "source": [
    "import pandas as pd\n",
    "\n",
    "# JSON 데이터\n",
    "data = [{\"text\": \"가래가 많이 나와 목이 아픈 상태\", \"label\": 5},\n",
    "    {\"text\": \"가래가 많이 나오나 열은 없는 상태\", \"label\": 5},\n",
    "    {\"text\": \"목이 아픈 상태\", \"label\": 5},\n",
    "    {\"text\": \"열은 없고 목이 아픈 상태\", \"label\": 5},\n",
    "    {\"text\": \"목이 아파 말을 하고싶지 않은 상태\", \"label\": 5},\n",
    "    {\"text\": \"밤중에 이불을 덮고 자고 나서 땀을 많이 흘린 상태\", \"label\": 5},\n",
    "    {\"text\": \"예민한 소리에 귀가 아프고 가렵거나 붓는 상태\", \"label\": 5},\n",
    "    {\"text\": \"식사 후 복통이 있지만 통증이 심하지 않은 상태\", \"label\": 5},\n",
    "    {\"text\": \"두통이 가벼운 상태\", \"label\": 5},\n",
    "    {\"text\": \"어깨가 뻐근하고 움직이기 어려운 상태\", \"label\": 5},\n",
    "    {\"text\": \"옷을 갈아입을 때 가슴이 산뜻하게 숨쉬기 어려운 상태\", \"label\": 5},\n",
    "    {\"text\": \"손가락을 다쳤지만 출혈이 거의 없고 통증이 조금 있는 상태\", \"label\": 5},\n",
    "    {\"text\": \"가을철에 콧물과 재채기가 자주 나오는 상태\", \"label\": 5},\n",
    "    {\"text\": \"손목이 잠시 아파도 계속 사용할 수 있는 상태\", \"label\": 5},\n",
    "    {\"text\": \"배가 고픈데 식사를 하면 속이 거부감을 느끼는 상태\", \"label\": 5},\n",
    "    {\"text\": \"건조한 입안이나 두드러기가 나타나지만 가렵거나 불편한 정도는 아닌 상태\", \"label\": 5},\n",
    "    {\"text\": \"갈비뼈 부분이 가끔 아프지만 특별히 조작하거나 압박할 필요는 없는 상태\", \"label\": 5},\n",
    "    {\"text\": \"노인분이 허리를 숙였을 때 허리에 묵직한 느낌이 들더라도 걷는데 불편하지는 않은 상태\", \"label\": 5},\n",
    "    {\"text\": \"버스를 탈 때 어깨가 브이자 혈액순환이 어려운 상태\", \"label\": 5},\n",
    "    {\"text\": \"윗팔이 힘들 때가 있다만 상한 동작을 하면 별도로 도움이 필요하지는 않은 상태\", \"label\": 5},\n",
    "    {\"text\": \"전신이 가벼운 가려움이 동반되나 발진은 아니며 피부에 이상은 없는 상태\", \"label\": 5},\n",
    "    {\"text\": \"발가락이 가끔 쑤시면 뾰루지가 올라오지만 들썩이거나 많이 아프지는 않는 상태\", \"label\": 5},\n",
    "    {\"text\": \"가슴이 조이거나 가끔 가래가 있지만 심장 질환이나 호흡곤란은 없는 상태\", \"label\": 5},\n",
    "    {\"text\": \"사망 시 심장이 손상되지만 흡입기나 CPR 없어도 별다른 질환 없는 상태\", \"label\": 5},\n",
    "    {\"text\": \"평소에 건물을 올라다닐 때 계단이 조금 힘들만 실비 치료가 필요하지 않은 상태\", \"label\": 5},\n",
    "    {\"text\": \"화장실 이용 후 배가 아파 몇 번 보기만 한 상태\", \"label\": 5},\n",
    "    {\"text\": \"통증이 끝난 상태에서 경미한 신물이 나타나지만 증상이 은근한 상태\", \"label\": 5},\n",
    "    {\"text\": \"가슴이 답답해 몸이 좀 찡하긴 하지만 심장 질환은 예정된 바 아닌 상태\", \"label\": 5},\n",
    "    {\"text\": \"피로로 순간 당황이 있을 때 목이 메거나 기침하는 경향이 보이지만 주의 깊은 상태\", \"label\": 5},\n",
    "    {\"text\": \"우울한 일이 있어도 자해 위험은 두려운만큼 높게 자폐할 구조의 상태\", \"label\": 5},\n",
    "    {\"text\": \"몸이 춥고 열이 가끔 올라오지만 온도를 끌어 올려도 좋아하는 상태\", \"label\": 5},\n",
    "    {\"text\": \"태양광에 약간 민감하지만 일상생활에 지장 없는 상태\", \"label\": 5},\n",
    "    {\"text\": \"명치 부분이 통증이 찬편으로 자꾸 신경이 압박받았을떄 불편한 정도로 있는 상태\", \"label\": 5},\n",
    "    {\"text\": \"창밖에 바람이 때문에 돌발적으로 눈물이 나오거나 콧물이 많이 나는 상태\", \"label\": 5},\n",
    "    {\"text\": \"생리통이 있지만 도뇨가 잘 나오는 정도로 의심이 안되는 상태\", \"label\": 5},\n",
    "    {\"text\": \"휴대폰 게임 때문에 무릎이 아프지만 기타 활동에 전혀 문제가 없는 상태\", \"label\": 5},\n",
    "    {\"text\": \"뒷목 부분에 가끔 두드러기가 나는 상태\", \"label\": 5},\n",
    "    {\"text\": \"인후통과 발열이 있어서 의사를 찾은 환자\", \"label\": 5},\n",
    "    {\"text\": \"소화불량과 가래가 나는 증상을 겪는 환자\", \"label\": 5},\n",
    "    {\"text\": \"피부 가려움증과 가슴 통증을 호소하는 환자\", \"label\": 5},\n",
    "    {\"text\": \"한쪽 눈이 붓고 가려움증이 있는 환자\", \"label\": 5},\n",
    "    {\"text\": \"귀가 아프고 사지부좁게 증상이 있는 아이\", \"label\": 5},\n",
    "    {\"text\": \"복부 통증과 소화불량이 지속적으로 발생하는 환자\", \"label\": 5},\n",
    "    {\"text\": \"가래가 나고 목이 아픈 환자\", \"label\": 5},\n",
    "    {\"text\": \"염증으로 팔자가 붓고 아프다고 하는 환자\", \"label\": 5},\n",
    "    {\"text\": \"가래가 코에서 흐르는 환자\", \"label\": 5},\n",
    "    {\"text\": \"엉덩이 부위가 따가우면서 가려움증이 있는 환자\", \"label\": 5},\n",
    "    {\"text\": \"배가 아파서 병원에 응급 신고한 환자\", \"label\": 5},\n",
    "    {\"text\": \"고열과 식욕부진을 호소하는 환자\", \"label\": 5},\n",
    "    {\"text\": \"어지러움과 복통을 겪고 있는 환자\", \"label\": 5},\n",
    "    {\"text\": \"손목을 다치고 통증을 호소하는 환자\", \"label\": 5},\n",
    "    {\"text\": \"가래가 많이 나는 젊은 환자\", \"label\": 5},\n",
    "    {\"text\": \"목이 따고 가래가 나는 환자\", \"label\": 5},\n",
    "    {\"text\": \"골반 부위가 아프다고 하는 환자\", \"label\": 5},\n",
    "    {\"text\": \"귀가 아프고 열이 나는 아이\", \"label\": 5},\n",
    "    {\"text\": \"오한과 고열 증상을 겪는 환자\", \"label\": 5},\n",
    "    {\"text\": \"콧물과 가래가 나는 환자\", \"label\": 5},\n",
    "    {\"text\": \"손목에 부어 오므리가 있는 환자\", \"label\": 5},\n",
    "    {\"text\": \"소화불량으로 식욕부진을 호소하는 환자\", \"label\": 5},\n",
    "    {\"text\": \"피부가 매우 가려우며 염증이 있는 환자\", \"label\": 5},\n",
    "    {\"text\": \"귀가 아프고 두통을 겪는 아이\", \"label\": 5},\n",
    "    {\"text\": \"열과 속쓰림 증상을 호소하는 환자\", \"label\": 5},\n",
    "    {\"text\": \"목이 따고 가래가 나는 환자\", \"label\": 5},\n",
    "    {\"text\": \"무기력과 식욕부진 증상을 겪는 환자\", \"label\": 5},\n",
    "    {\"text\": \"근육통과 고열을 호소하는 환자\", \"label\": 5},\n",
    "    {\"text\": \"귀가 아프고 열이 나는 환자\", \"label\": 5},\n",
    "    {\"text\": \"손목을 다치고 부어오므리가 있는 환자\", \"label\": 5},\n",
    "    {\"text\": \"가래가 나고 목이 아픈 환자\", \"label\": 5},\n",
    "    {\"text\": \"복통과 소화불량을 겪는 환자\", \"label\": 5},\n",
    "    {\"text\": \"복통과 소화불량이 지속적으로 발생하는 환자\", \"label\": 5},\n",
    "    {\"text\": \"피부 가려움증과 가슴 통증을 호소하는 환자\", \"label\": 5},\n",
    "    {\"text\": \"인후통과 발열이 있어서 의사를 찾은 환자\", \"label\": 5},\n",
    "    {\"text\": \"가래가 나고 목이 아픈 환자\", \"label\": 5},\n",
    "    {\"text\": \"한쪽 눈이 붓고 가려움증이 있는 환자\", \"label\": 5},\n",
    "    {\"text\": \"소화불량과 가래가 나는 증상을 겪는 환자\", \"label\": 5},\n",
    "    {\"text\": \"귀가 아프고 열이 나는 환자\", \"label\": 5},\n",
    "    {\"text\": \"손목을 다치고 통증을 호소하는 환자\", \"label\": 5},\n",
    "    {\"text\": \"배가 아파서 병원에 응급 신고한 환자\", \"label\": 5},\n",
    "    {\"text\": \"엉덩이 부위가 따가우면서 가려움증이 있는 환자\", \"label\": 5},\n",
    "    {\"text\": \"가래가 코에서 흐르는 환자\", \"label\": 5},\n",
    "    {\"text\": \"염증으로 팔자가 붓고 아프다고 하는 환자\", \"label\": 5},\n",
    "    {\"text\": \"인후통과 발열이 있어서 의사를 찾은 환자\", \"label\": 5},\n",
    "    {\"text\": \"복부 통증과 소화불량이 지속적으로 발생하는 환자\", \"label\": 5},\n",
    "    {\"text\": \"가래가 나고 목이 아픈 환자\", \"label\": 5},\n",
    "    {\"text\": \"귀가 아프고 사지부좁게 증상이 있는 아이\", \"label\": 5},\n",
    "    {\"text\": \"목이 아픈 것 같아요. 콧물이 나고 목이 따갑고 헛구역질이 나온 상태\", \"label\": 5},\n",
    "    {\"text\": \"식중독으로 인한 구토와 설사 증세가 나타나는 상태\", \"label\": 5},\n",
    "    {\"text\": \"경도의 열이 나고 두통과 피로감을 호소하는 상태\", \"label\": 5},\n",
    "    {\"text\": \"평범한 상처로 인한 깊지 않은 상처가 생긴 상태\", \"label\": 5},\n",
    "    {\"text\": \"코가 공동으로 맞아 깨진 듯한 뼈 아픔이 나는 상태\", \"label\": 5},\n",
    "    {\"text\": \"복통과 구토로 고통스러워하는데 응급상황 보다는 지속적인 상태\", \"label\": 5},\n",
    "    {\"text\": \"목이 아프고 콧물이 나는 감기 증상이 있습니다.\", \"label\": 5},\n",
    "    {\"text\": \"소화불량으로 인한 복부 통증을 호소하는 환자가 있습니다.\", \"label\": 5},\n",
    "    {\"text\": \"가래가 나오며 기침을 반복하는 환자가 있습니다.\", \"label\": 5},\n",
    "    {\"text\": \"식사 이후 속 쓰림과 구토 증상이 나타난 환자가 있습니다.\", \"label\": 5},\n",
    "    {\"text\": \"피부 조직이 약간 다쳐 화상 증상을 보이는 환자가 있습니다.\", \"label\": 5},\n",
    "    {\"text\": \"배변 시 설사와 복통이 동반되는 환자가 있습니다.\", \"label\": 5},\n",
    "    {\"text\": \"식사 중 생선 뼈를 삼켰는데 특별한 증상이 없는 환자가 있습니다.\", \"label\": 5},\n",
    "    {\"text\": \"턱이 아프고 이빨이 뾰족하게 자란 환자가 있습니다.\", \"label\": 5},\n",
    "    {\"text\": \"여드름이 생겨 피부에 뾰루지가 생기는 증상을 호소하는 환자가 있습니다.\", \"label\": 5}]\n",
    "\n",
    "# 데이터프레임으로 변환\n",
    "label5 = pd.DataFrame(data)\n",
    "\n",
    "# 데이터프레임 출력\n",
    "print(label5)"
   ]
  },
  {
   "cell_type": "code",
   "execution_count": 92,
   "metadata": {
    "colab": {
     "base_uri": "https://localhost:8080/"
    },
    "executionInfo": {
     "elapsed": 321,
     "status": "ok",
     "timestamp": 1731987949533,
     "user": {
      "displayName": "이예림 (겨울냥국)",
      "userId": "03592088159420229142"
     },
     "user_tz": -540
    },
    "id": "0zwAuGRZ-XST",
    "outputId": "19d4d46e-ab8e-4448-8264-cb0b9009862d"
   },
   "outputs": [
    {
     "name": "stdout",
     "output_type": "stream",
     "text": [
      "                                          text  label\n",
      "0                심한 호흡곤란과 함께 가슴 통증이 지속되고 있는 환자      1\n",
      "1        긴급 수술이 필요한 큰 출혈으로 혈액이 과도하게 유출되고 있는 환자      1\n",
      "2    급성 심근경색으로 인한 심지혈관 폐색으로 심부전의 증상을 보이고 있는 환자      1\n",
      "3       중증적인 두경부 손상으로 혈액이 많이 흐르고 출혈이 멈추지 않는 환자      1\n",
      "4              신체의 일부분이 갑작스럽게 마비되어 움직일 수 없는 환자      1\n",
      "..                                         ...    ...\n",
      "495          피부 조직이 약간 다쳐 화상 증상을 보이는 환자가 있습니다.      5\n",
      "496                배변 시 설사와 복통이 동반되는 환자가 있습니다.      5\n",
      "497       식사 중 생선 뼈를 삼켰는데 특별한 증상이 없는 환자가 있습니다.      5\n",
      "498               턱이 아프고 이빨이 뾰족하게 자란 환자가 있습니다.      5\n",
      "499    여드름이 생겨 피부에 뾰루지가 생기는 증상을 호소하는 환자가 있습니다.      5\n",
      "\n",
      "[500 rows x 2 columns]\n"
     ]
    }
   ],
   "source": [
    "# 모든 데이터프레임을 리스트에 담기\n",
    "dataframes = [label1, label2, label3, label4, label5]  # label3, label4, label5도 추가\n",
    "\n",
    "# 데이터프레임을 세로로 결합\n",
    "emergency_df = pd.concat(dataframes, ignore_index=True)\n",
    "\n",
    "# 결합된 데이터프레임 출력\n",
    "print(emergency_df)"
   ]
  },
  {
   "cell_type": "code",
   "execution_count": 93,
   "metadata": {
    "executionInfo": {
     "elapsed": 285,
     "status": "ok",
     "timestamp": 1731987988148,
     "user": {
      "displayName": "이예림 (겨울냥국)",
      "userId": "03592088159420229142"
     },
     "user_tz": -540
    },
    "id": "bwTo5Yd2-XXI"
   },
   "outputs": [],
   "source": [
    "emergency_df.to_csv('./emergency.csv', index=False, encoding='utf-8-sig')"
   ]
  },
  {
   "cell_type": "markdown",
   "metadata": {
    "id": "hGGC3Ev4G9O8"
   },
   "source": [
    "### (2) 미션2\n",
    "미션1에서 준비한 학습데이터를 활용해서 파인튜닝을 시도\n",
    "\n",
    "* 사용할 모델 : **klue/bert-base**\n",
    "* 성능을 높이기 위해 조정할 만한 점(아래 수치는 예시)\n",
    "    - 데이터 양 늘리기\n",
    "    - 하이퍼 파라미터\n",
    "        - epoch 수 : 5 ~ 20\n",
    "        - learning_rate : 1e-5 ~ 1e-2\n",
    "        - batch_size : 16 ~ 32\n",
    "        - weight_decay : 0.01 ~ 0.1"
   ]
  },
  {
   "cell_type": "markdown",
   "metadata": {
    "id": "dt6d8Aqo7Vsu"
   },
   "source": [
    "## 1.환경준비"
   ]
  },
  {
   "cell_type": "markdown",
   "metadata": {
    "id": "yfvvK98cpklr"
   },
   "source": [
    "* 세부 요구사항\n",
    "    - 경로 설정 : 구글콜랩\n",
    "        * 구글 드라이브 바로 밑에 project6 폴더를 만들고,\n",
    "        * 제공 받은 파일을 복사해 넣습니다.\n",
    "    - 기본적으로 필요한 라이브러리를 import 하도록 코드가 작성되어 있습니다.\n",
    "        * 필요하다고 판단되는 라이브러리를 추가하세요.\n"
   ]
  },
  {
   "cell_type": "markdown",
   "metadata": {
    "id": "1f2Na-pMIptJ"
   },
   "source": [
    "### (1) 라이브러리 설치 및 로딩"
   ]
  },
  {
   "cell_type": "code",
   "execution_count": 94,
   "metadata": {
    "colab": {
     "base_uri": "https://localhost:8080/"
    },
    "executionInfo": {
     "elapsed": 2628,
     "status": "ok",
     "timestamp": 1731990471600,
     "user": {
      "displayName": "이예림 (겨울냥국)",
      "userId": "03592088159420229142"
     },
     "user_tz": -540
    },
    "id": "fAwELXTeI0dZ",
    "outputId": "81d08d2b-038a-4780-c64a-8214bee9fcc9"
   },
   "outputs": [
    {
     "name": "stdout",
     "output_type": "stream",
     "text": [
      "Requirement already satisfied: datasets in /usr/local/lib/python3.10/dist-packages (3.1.0)\n",
      "Requirement already satisfied: filelock in /usr/local/lib/python3.10/dist-packages (from datasets) (3.16.1)\n",
      "Requirement already satisfied: numpy>=1.17 in /usr/local/lib/python3.10/dist-packages (from datasets) (1.26.4)\n",
      "Requirement already satisfied: pyarrow>=15.0.0 in /usr/local/lib/python3.10/dist-packages (from datasets) (17.0.0)\n",
      "Requirement already satisfied: dill<0.3.9,>=0.3.0 in /usr/local/lib/python3.10/dist-packages (from datasets) (0.3.8)\n",
      "Requirement already satisfied: pandas in /usr/local/lib/python3.10/dist-packages (from datasets) (2.2.2)\n",
      "Requirement already satisfied: requests>=2.32.2 in /usr/local/lib/python3.10/dist-packages (from datasets) (2.32.3)\n",
      "Requirement already satisfied: tqdm>=4.66.3 in /usr/local/lib/python3.10/dist-packages (from datasets) (4.66.6)\n",
      "Requirement already satisfied: xxhash in /usr/local/lib/python3.10/dist-packages (from datasets) (3.5.0)\n",
      "Requirement already satisfied: multiprocess<0.70.17 in /usr/local/lib/python3.10/dist-packages (from datasets) (0.70.16)\n",
      "Requirement already satisfied: fsspec<=2024.9.0,>=2023.1.0 in /usr/local/lib/python3.10/dist-packages (from fsspec[http]<=2024.9.0,>=2023.1.0->datasets) (2024.9.0)\n",
      "Requirement already satisfied: aiohttp in /usr/local/lib/python3.10/dist-packages (from datasets) (3.11.1)\n",
      "Requirement already satisfied: huggingface-hub>=0.23.0 in /usr/local/lib/python3.10/dist-packages (from datasets) (0.26.2)\n",
      "Requirement already satisfied: packaging in /usr/local/lib/python3.10/dist-packages (from datasets) (24.2)\n",
      "Requirement already satisfied: pyyaml>=5.1 in /usr/local/lib/python3.10/dist-packages (from datasets) (6.0.2)\n",
      "Requirement already satisfied: aiohappyeyeballs>=2.3.0 in /usr/local/lib/python3.10/dist-packages (from aiohttp->datasets) (2.4.3)\n",
      "Requirement already satisfied: aiosignal>=1.1.2 in /usr/local/lib/python3.10/dist-packages (from aiohttp->datasets) (1.3.1)\n",
      "Requirement already satisfied: attrs>=17.3.0 in /usr/local/lib/python3.10/dist-packages (from aiohttp->datasets) (24.2.0)\n",
      "Requirement already satisfied: frozenlist>=1.1.1 in /usr/local/lib/python3.10/dist-packages (from aiohttp->datasets) (1.5.0)\n",
      "Requirement already satisfied: multidict<7.0,>=4.5 in /usr/local/lib/python3.10/dist-packages (from aiohttp->datasets) (6.1.0)\n",
      "Requirement already satisfied: propcache>=0.2.0 in /usr/local/lib/python3.10/dist-packages (from aiohttp->datasets) (0.2.0)\n",
      "Requirement already satisfied: yarl<2.0,>=1.17.0 in /usr/local/lib/python3.10/dist-packages (from aiohttp->datasets) (1.17.1)\n",
      "Requirement already satisfied: async-timeout<6.0,>=4.0 in /usr/local/lib/python3.10/dist-packages (from aiohttp->datasets) (4.0.3)\n",
      "Requirement already satisfied: typing-extensions>=3.7.4.3 in /usr/local/lib/python3.10/dist-packages (from huggingface-hub>=0.23.0->datasets) (4.12.2)\n",
      "Requirement already satisfied: charset-normalizer<4,>=2 in /usr/local/lib/python3.10/dist-packages (from requests>=2.32.2->datasets) (3.4.0)\n",
      "Requirement already satisfied: idna<4,>=2.5 in /usr/local/lib/python3.10/dist-packages (from requests>=2.32.2->datasets) (3.10)\n",
      "Requirement already satisfied: urllib3<3,>=1.21.1 in /usr/local/lib/python3.10/dist-packages (from requests>=2.32.2->datasets) (2.2.3)\n",
      "Requirement already satisfied: certifi>=2017.4.17 in /usr/local/lib/python3.10/dist-packages (from requests>=2.32.2->datasets) (2024.8.30)\n",
      "Requirement already satisfied: python-dateutil>=2.8.2 in /usr/local/lib/python3.10/dist-packages (from pandas->datasets) (2.8.2)\n",
      "Requirement already satisfied: pytz>=2020.1 in /usr/local/lib/python3.10/dist-packages (from pandas->datasets) (2024.2)\n",
      "Requirement already satisfied: tzdata>=2022.7 in /usr/local/lib/python3.10/dist-packages (from pandas->datasets) (2024.2)\n",
      "Requirement already satisfied: six>=1.5 in /usr/local/lib/python3.10/dist-packages (from python-dateutil>=2.8.2->pandas->datasets) (1.16.0)\n"
     ]
    }
   ],
   "source": [
    "!pip install datasets"
   ]
  },
  {
   "cell_type": "markdown",
   "metadata": {
    "id": "EGVwIaGDPd3P"
   },
   "source": [
    "* (필요 시) 설치 후 세션 다시 시작"
   ]
  },
  {
   "cell_type": "code",
   "execution_count": 95,
   "metadata": {
    "executionInfo": {
     "elapsed": 30736,
     "status": "ok",
     "timestamp": 1731990512610,
     "user": {
      "displayName": "이예림 (겨울냥국)",
      "userId": "03592088159420229142"
     },
     "user_tz": -540
    },
    "id": "10SRXstychw7"
   },
   "outputs": [],
   "source": [
    "import numpy as np\n",
    "import pandas as pd\n",
    "import matplotlib.pyplot as plt\n",
    "import seaborn as sns\n",
    "\n",
    "import torch\n",
    "\n",
    "from transformers import AutoTokenizer, AutoModelForSequenceClassification, Trainer, TrainingArguments, EarlyStoppingCallback\n",
    "from datasets import load_dataset, Dataset\n",
    "\n",
    "from sklearn.model_selection import train_test_split\n",
    "from sklearn.metrics import *\n",
    "\n",
    "from warnings import filterwarnings\n",
    "FutureWarning\n",
    "filterwarnings('ignore')"
   ]
  },
  {
   "cell_type": "markdown",
   "metadata": {
    "id": "vJ0l9LTQJQa6"
   },
   "source": [
    "* 함수 생성\n",
    "    * evaluate : 모델 생성후, 데이터셋(예 : 검증셋)을 이용해서 모델 성능을 평가하기 위한 용도\n",
    "    * predict :  하나의 문장을 입력받아, 예측결과를 반환"
   ]
  },
  {
   "cell_type": "code",
   "execution_count": 96,
   "metadata": {
    "executionInfo": {
     "elapsed": 404,
     "status": "ok",
     "timestamp": 1731990523119,
     "user": {
      "displayName": "이예림 (겨울냥국)",
      "userId": "03592088159420229142"
     },
     "user_tz": -540
    },
    "id": "0yxBIUaic_Vt"
   },
   "outputs": [],
   "source": [
    "# 검증셋 평가 함수\n",
    "def evaluate(val_ds, model, device, tokenizer):\n",
    "    # 입력 데이터셋 토크나이징 (attention_mask 포함)\n",
    "    inputs = tokenizer(val_ds['text'], return_tensors=\"pt\", padding=True,\n",
    "                       truncation=True, max_length=128\n",
    "    )\n",
    "    inputs = {key: value.to(device) for key, value in inputs.items()}  # 입력 텐서를 동일한 디바이스로 이동\n",
    "\n",
    "    # 모델을 지정된 디바이스로 이동\n",
    "    model = model.to(device)\n",
    "\n",
    "    with torch.no_grad():  # 평가 과정에서 기울기 계산 비활성화\n",
    "        outputs = model(**inputs)  # attention_mask를 포함해 입력\n",
    "\n",
    "    # 예측 및 확률 계산\n",
    "    probabilities = outputs.logits.softmax(dim=1)\n",
    "\n",
    "    # probabilities가 GPU에 있을 경우에만 CPU로 이동\n",
    "    if probabilities.is_cuda:\n",
    "        probabilities = probabilities.cpu().detach().numpy()\n",
    "    else:\n",
    "        probabilities = probabilities.detach().numpy()\n",
    "\n",
    "    pred = np.argmax(probabilities, axis=1)\n",
    "\n",
    "    # GPU 메모리에서 필요 없는 텐서 제거 및 캐시 정리\n",
    "    del inputs\n",
    "    torch.cuda.empty_cache()\n",
    "\n",
    "    return pred, probabilities"
   ]
  },
  {
   "cell_type": "code",
   "execution_count": 130,
   "metadata": {
    "executionInfo": {
     "elapsed": 349,
     "status": "ok",
     "timestamp": 1731992390601,
     "user": {
      "displayName": "이예림 (겨울냥국)",
      "userId": "03592088159420229142"
     },
     "user_tz": -540
    },
    "id": "-BMzvSF2mWG8"
   },
   "outputs": [],
   "source": [
    "# 데이터 예측 함수\n",
    "def predict(text, model, tokenizer):\n",
    "    # 입력 문장 토크나이징\n",
    "    inputs = tokenizer(text, return_tensors=\"pt\", truncation=True, padding=True)\n",
    "    inputs = {key: value.to(device) for key, value in inputs.items()}  # 각 텐서를 GPU로 이동\n",
    "\n",
    "    # 모델 예측\n",
    "    with torch.no_grad():\n",
    "        outputs = model(**inputs)\n",
    "\n",
    "    # 로짓을 소프트맥스로 변환하여 확률 계산\n",
    "    logits = outputs.logits\n",
    "    probabilities = logits.softmax(dim=1)\n",
    "\n",
    "    # 가장 높은 확률을 가진 클래스 선택\n",
    "    pred = torch.argmax(probabilities, dim=-1).item()\n",
    "\n",
    "    return pred, probabilities"
   ]
  },
  {
   "cell_type": "markdown",
   "metadata": {
    "id": "jrjpXSIqJQiw"
   },
   "source": [
    "### (2) 구글드라이브 연결"
   ]
  },
  {
   "cell_type": "code",
   "execution_count": 98,
   "metadata": {
    "colab": {
     "base_uri": "https://localhost:8080/"
    },
    "executionInfo": {
     "elapsed": 2326,
     "status": "ok",
     "timestamp": 1731990901131,
     "user": {
      "displayName": "이예림 (겨울냥국)",
      "userId": "03592088159420229142"
     },
     "user_tz": -540
    },
    "id": "RJZ82z8mpZ8P",
    "outputId": "fcd0f626-fd9c-4093-d53e-b889dc9cfa32"
   },
   "outputs": [
    {
     "name": "stdout",
     "output_type": "stream",
     "text": [
      "Drive already mounted at /content/drive; to attempt to forcibly remount, call drive.mount(\"/content/drive\", force_remount=True).\n"
     ]
    }
   ],
   "source": [
    "from google.colab import drive\n",
    "drive.mount('/content/drive')"
   ]
  },
  {
   "cell_type": "code",
   "execution_count": 107,
   "metadata": {
    "executionInfo": {
     "elapsed": 294,
     "status": "ok",
     "timestamp": 1731991129703,
     "user": {
      "displayName": "이예림 (겨울냥국)",
      "userId": "03592088159420229142"
     },
     "user_tz": -540
    },
    "id": "B0vAejN5pZ8P"
   },
   "outputs": [],
   "source": [
    "path = '/content/drive/MyDrive/project6/2/'"
   ]
  },
  {
   "cell_type": "markdown",
   "metadata": {
    "id": "R3rA2o9_JH35"
   },
   "source": [
    "### (3) 데이터 로딩\n",
    "* 이전 미션에서 준비한 데이터셋을 로딩합니다."
   ]
  },
  {
   "cell_type": "code",
   "execution_count": 108,
   "metadata": {
    "colab": {
     "base_uri": "https://localhost:8080/",
     "height": 424
    },
    "executionInfo": {
     "elapsed": 289,
     "status": "ok",
     "timestamp": 1731991131888,
     "user": {
      "displayName": "이예림 (겨울냥국)",
      "userId": "03592088159420229142"
     },
     "user_tz": -540
    },
    "id": "wLN6-795XhUV",
    "outputId": "b64206a4-9cf8-4eb6-f8fa-8d92be6dc066"
   },
   "outputs": [
    {
     "data": {
      "application/vnd.google.colaboratory.intrinsic+json": {
       "summary": "{\n  \"name\": \"emergency_df\",\n  \"rows\": 500,\n  \"fields\": [\n    {\n      \"column\": \"text\",\n      \"properties\": {\n        \"dtype\": \"string\",\n        \"num_unique_values\": 477,\n        \"samples\": [\n          \"\\ubaa9\\uc774 \\uc544\\ud504\\uace0 \\ucf67\\ubb3c\\uc774 \\ub098\\ub294 \\uac10\\uae30 \\uc99d\\uc0c1\\uc774 \\uc788\\uc2b5\\ub2c8\\ub2e4.\",\n          \"\\uae09\\uc131 \\uc911\\ub3c5\\uc73c\\ub85c \\uc778\\ud574 \\ud63c\\uc218\\uc5d0 \\ube60\\uc9c4 \\ud658\\uc790\",\n          \"\\uae09\\uc131 \\ub1cc\\ucd9c\\ud608\\ub85c \\uc778\\ud574 \\uc758\\uc2dd\\uc744 \\uc783\\uace0 \\uc591\\ucabd \\ud314\\ub2e4\\ub9ac \\ub9c8\\ube44\\uc99d\\uc0c1\\uc774 \\ub098\\ud0c0\\ub098 \\uae09\\ud55c \\uc218\\uc220 \\ud544\\uc694\\ud569\\ub2c8\\ub2e4.\"\n        ],\n        \"semantic_type\": \"\",\n        \"description\": \"\"\n      }\n    },\n    {\n      \"column\": \"label\",\n      \"properties\": {\n        \"dtype\": \"number\",\n        \"std\": 1,\n        \"min\": 1,\n        \"max\": 5,\n        \"num_unique_values\": 5,\n        \"samples\": [\n          2,\n          5,\n          3\n        ],\n        \"semantic_type\": \"\",\n        \"description\": \"\"\n      }\n    }\n  ]\n}",
       "type": "dataframe",
       "variable_name": "emergency_df"
      },
      "text/html": [
       "\n",
       "  <div id=\"df-2703808d-3307-4541-908a-0005c84390b3\" class=\"colab-df-container\">\n",
       "    <div>\n",
       "<style scoped>\n",
       "    .dataframe tbody tr th:only-of-type {\n",
       "        vertical-align: middle;\n",
       "    }\n",
       "\n",
       "    .dataframe tbody tr th {\n",
       "        vertical-align: top;\n",
       "    }\n",
       "\n",
       "    .dataframe thead th {\n",
       "        text-align: right;\n",
       "    }\n",
       "</style>\n",
       "<table border=\"1\" class=\"dataframe\">\n",
       "  <thead>\n",
       "    <tr style=\"text-align: right;\">\n",
       "      <th></th>\n",
       "      <th>text</th>\n",
       "      <th>label</th>\n",
       "    </tr>\n",
       "  </thead>\n",
       "  <tbody>\n",
       "    <tr>\n",
       "      <th>0</th>\n",
       "      <td>심한 호흡곤란과 함께 가슴 통증이 지속되고 있는 환자</td>\n",
       "      <td>1</td>\n",
       "    </tr>\n",
       "    <tr>\n",
       "      <th>1</th>\n",
       "      <td>긴급 수술이 필요한 큰 출혈으로 혈액이 과도하게 유출되고 있는 환자</td>\n",
       "      <td>1</td>\n",
       "    </tr>\n",
       "    <tr>\n",
       "      <th>2</th>\n",
       "      <td>급성 심근경색으로 인한 심지혈관 폐색으로 심부전의 증상을 보이고 있는 환자</td>\n",
       "      <td>1</td>\n",
       "    </tr>\n",
       "    <tr>\n",
       "      <th>3</th>\n",
       "      <td>중증적인 두경부 손상으로 혈액이 많이 흐르고 출혈이 멈추지 않는 환자</td>\n",
       "      <td>1</td>\n",
       "    </tr>\n",
       "    <tr>\n",
       "      <th>4</th>\n",
       "      <td>신체의 일부분이 갑작스럽게 마비되어 움직일 수 없는 환자</td>\n",
       "      <td>1</td>\n",
       "    </tr>\n",
       "    <tr>\n",
       "      <th>...</th>\n",
       "      <td>...</td>\n",
       "      <td>...</td>\n",
       "    </tr>\n",
       "    <tr>\n",
       "      <th>495</th>\n",
       "      <td>피부 조직이 약간 다쳐 화상 증상을 보이는 환자가 있습니다.</td>\n",
       "      <td>5</td>\n",
       "    </tr>\n",
       "    <tr>\n",
       "      <th>496</th>\n",
       "      <td>배변 시 설사와 복통이 동반되는 환자가 있습니다.</td>\n",
       "      <td>5</td>\n",
       "    </tr>\n",
       "    <tr>\n",
       "      <th>497</th>\n",
       "      <td>식사 중 생선 뼈를 삼켰는데 특별한 증상이 없는 환자가 있습니다.</td>\n",
       "      <td>5</td>\n",
       "    </tr>\n",
       "    <tr>\n",
       "      <th>498</th>\n",
       "      <td>턱이 아프고 이빨이 뾰족하게 자란 환자가 있습니다.</td>\n",
       "      <td>5</td>\n",
       "    </tr>\n",
       "    <tr>\n",
       "      <th>499</th>\n",
       "      <td>여드름이 생겨 피부에 뾰루지가 생기는 증상을 호소하는 환자가 있습니다.</td>\n",
       "      <td>5</td>\n",
       "    </tr>\n",
       "  </tbody>\n",
       "</table>\n",
       "<p>500 rows × 2 columns</p>\n",
       "</div>\n",
       "    <div class=\"colab-df-buttons\">\n",
       "\n",
       "  <div class=\"colab-df-container\">\n",
       "    <button class=\"colab-df-convert\" onclick=\"convertToInteractive('df-2703808d-3307-4541-908a-0005c84390b3')\"\n",
       "            title=\"Convert this dataframe to an interactive table.\"\n",
       "            style=\"display:none;\">\n",
       "\n",
       "  <svg xmlns=\"http://www.w3.org/2000/svg\" height=\"24px\" viewBox=\"0 -960 960 960\">\n",
       "    <path d=\"M120-120v-720h720v720H120Zm60-500h600v-160H180v160Zm220 220h160v-160H400v160Zm0 220h160v-160H400v160ZM180-400h160v-160H180v160Zm440 0h160v-160H620v160ZM180-180h160v-160H180v160Zm440 0h160v-160H620v160Z\"/>\n",
       "  </svg>\n",
       "    </button>\n",
       "\n",
       "  <style>\n",
       "    .colab-df-container {\n",
       "      display:flex;\n",
       "      gap: 12px;\n",
       "    }\n",
       "\n",
       "    .colab-df-convert {\n",
       "      background-color: #E8F0FE;\n",
       "      border: none;\n",
       "      border-radius: 50%;\n",
       "      cursor: pointer;\n",
       "      display: none;\n",
       "      fill: #1967D2;\n",
       "      height: 32px;\n",
       "      padding: 0 0 0 0;\n",
       "      width: 32px;\n",
       "    }\n",
       "\n",
       "    .colab-df-convert:hover {\n",
       "      background-color: #E2EBFA;\n",
       "      box-shadow: 0px 1px 2px rgba(60, 64, 67, 0.3), 0px 1px 3px 1px rgba(60, 64, 67, 0.15);\n",
       "      fill: #174EA6;\n",
       "    }\n",
       "\n",
       "    .colab-df-buttons div {\n",
       "      margin-bottom: 4px;\n",
       "    }\n",
       "\n",
       "    [theme=dark] .colab-df-convert {\n",
       "      background-color: #3B4455;\n",
       "      fill: #D2E3FC;\n",
       "    }\n",
       "\n",
       "    [theme=dark] .colab-df-convert:hover {\n",
       "      background-color: #434B5C;\n",
       "      box-shadow: 0px 1px 3px 1px rgba(0, 0, 0, 0.15);\n",
       "      filter: drop-shadow(0px 1px 2px rgba(0, 0, 0, 0.3));\n",
       "      fill: #FFFFFF;\n",
       "    }\n",
       "  </style>\n",
       "\n",
       "    <script>\n",
       "      const buttonEl =\n",
       "        document.querySelector('#df-2703808d-3307-4541-908a-0005c84390b3 button.colab-df-convert');\n",
       "      buttonEl.style.display =\n",
       "        google.colab.kernel.accessAllowed ? 'block' : 'none';\n",
       "\n",
       "      async function convertToInteractive(key) {\n",
       "        const element = document.querySelector('#df-2703808d-3307-4541-908a-0005c84390b3');\n",
       "        const dataTable =\n",
       "          await google.colab.kernel.invokeFunction('convertToInteractive',\n",
       "                                                    [key], {});\n",
       "        if (!dataTable) return;\n",
       "\n",
       "        const docLinkHtml = 'Like what you see? Visit the ' +\n",
       "          '<a target=\"_blank\" href=https://colab.research.google.com/notebooks/data_table.ipynb>data table notebook</a>'\n",
       "          + ' to learn more about interactive tables.';\n",
       "        element.innerHTML = '';\n",
       "        dataTable['output_type'] = 'display_data';\n",
       "        await google.colab.output.renderOutput(dataTable, element);\n",
       "        const docLink = document.createElement('div');\n",
       "        docLink.innerHTML = docLinkHtml;\n",
       "        element.appendChild(docLink);\n",
       "      }\n",
       "    </script>\n",
       "  </div>\n",
       "\n",
       "\n",
       "<div id=\"df-a838c4da-9262-41db-baf8-8787a3210ce6\">\n",
       "  <button class=\"colab-df-quickchart\" onclick=\"quickchart('df-a838c4da-9262-41db-baf8-8787a3210ce6')\"\n",
       "            title=\"Suggest charts\"\n",
       "            style=\"display:none;\">\n",
       "\n",
       "<svg xmlns=\"http://www.w3.org/2000/svg\" height=\"24px\"viewBox=\"0 0 24 24\"\n",
       "     width=\"24px\">\n",
       "    <g>\n",
       "        <path d=\"M19 3H5c-1.1 0-2 .9-2 2v14c0 1.1.9 2 2 2h14c1.1 0 2-.9 2-2V5c0-1.1-.9-2-2-2zM9 17H7v-7h2v7zm4 0h-2V7h2v10zm4 0h-2v-4h2v4z\"/>\n",
       "    </g>\n",
       "</svg>\n",
       "  </button>\n",
       "\n",
       "<style>\n",
       "  .colab-df-quickchart {\n",
       "      --bg-color: #E8F0FE;\n",
       "      --fill-color: #1967D2;\n",
       "      --hover-bg-color: #E2EBFA;\n",
       "      --hover-fill-color: #174EA6;\n",
       "      --disabled-fill-color: #AAA;\n",
       "      --disabled-bg-color: #DDD;\n",
       "  }\n",
       "\n",
       "  [theme=dark] .colab-df-quickchart {\n",
       "      --bg-color: #3B4455;\n",
       "      --fill-color: #D2E3FC;\n",
       "      --hover-bg-color: #434B5C;\n",
       "      --hover-fill-color: #FFFFFF;\n",
       "      --disabled-bg-color: #3B4455;\n",
       "      --disabled-fill-color: #666;\n",
       "  }\n",
       "\n",
       "  .colab-df-quickchart {\n",
       "    background-color: var(--bg-color);\n",
       "    border: none;\n",
       "    border-radius: 50%;\n",
       "    cursor: pointer;\n",
       "    display: none;\n",
       "    fill: var(--fill-color);\n",
       "    height: 32px;\n",
       "    padding: 0;\n",
       "    width: 32px;\n",
       "  }\n",
       "\n",
       "  .colab-df-quickchart:hover {\n",
       "    background-color: var(--hover-bg-color);\n",
       "    box-shadow: 0 1px 2px rgba(60, 64, 67, 0.3), 0 1px 3px 1px rgba(60, 64, 67, 0.15);\n",
       "    fill: var(--button-hover-fill-color);\n",
       "  }\n",
       "\n",
       "  .colab-df-quickchart-complete:disabled,\n",
       "  .colab-df-quickchart-complete:disabled:hover {\n",
       "    background-color: var(--disabled-bg-color);\n",
       "    fill: var(--disabled-fill-color);\n",
       "    box-shadow: none;\n",
       "  }\n",
       "\n",
       "  .colab-df-spinner {\n",
       "    border: 2px solid var(--fill-color);\n",
       "    border-color: transparent;\n",
       "    border-bottom-color: var(--fill-color);\n",
       "    animation:\n",
       "      spin 1s steps(1) infinite;\n",
       "  }\n",
       "\n",
       "  @keyframes spin {\n",
       "    0% {\n",
       "      border-color: transparent;\n",
       "      border-bottom-color: var(--fill-color);\n",
       "      border-left-color: var(--fill-color);\n",
       "    }\n",
       "    20% {\n",
       "      border-color: transparent;\n",
       "      border-left-color: var(--fill-color);\n",
       "      border-top-color: var(--fill-color);\n",
       "    }\n",
       "    30% {\n",
       "      border-color: transparent;\n",
       "      border-left-color: var(--fill-color);\n",
       "      border-top-color: var(--fill-color);\n",
       "      border-right-color: var(--fill-color);\n",
       "    }\n",
       "    40% {\n",
       "      border-color: transparent;\n",
       "      border-right-color: var(--fill-color);\n",
       "      border-top-color: var(--fill-color);\n",
       "    }\n",
       "    60% {\n",
       "      border-color: transparent;\n",
       "      border-right-color: var(--fill-color);\n",
       "    }\n",
       "    80% {\n",
       "      border-color: transparent;\n",
       "      border-right-color: var(--fill-color);\n",
       "      border-bottom-color: var(--fill-color);\n",
       "    }\n",
       "    90% {\n",
       "      border-color: transparent;\n",
       "      border-bottom-color: var(--fill-color);\n",
       "    }\n",
       "  }\n",
       "</style>\n",
       "\n",
       "  <script>\n",
       "    async function quickchart(key) {\n",
       "      const quickchartButtonEl =\n",
       "        document.querySelector('#' + key + ' button');\n",
       "      quickchartButtonEl.disabled = true;  // To prevent multiple clicks.\n",
       "      quickchartButtonEl.classList.add('colab-df-spinner');\n",
       "      try {\n",
       "        const charts = await google.colab.kernel.invokeFunction(\n",
       "            'suggestCharts', [key], {});\n",
       "      } catch (error) {\n",
       "        console.error('Error during call to suggestCharts:', error);\n",
       "      }\n",
       "      quickchartButtonEl.classList.remove('colab-df-spinner');\n",
       "      quickchartButtonEl.classList.add('colab-df-quickchart-complete');\n",
       "    }\n",
       "    (() => {\n",
       "      let quickchartButtonEl =\n",
       "        document.querySelector('#df-a838c4da-9262-41db-baf8-8787a3210ce6 button');\n",
       "      quickchartButtonEl.style.display =\n",
       "        google.colab.kernel.accessAllowed ? 'block' : 'none';\n",
       "    })();\n",
       "  </script>\n",
       "</div>\n",
       "\n",
       "  <div id=\"id_4e04e7f9-e214-4c46-95f4-0b8f1adb92b5\">\n",
       "    <style>\n",
       "      .colab-df-generate {\n",
       "        background-color: #E8F0FE;\n",
       "        border: none;\n",
       "        border-radius: 50%;\n",
       "        cursor: pointer;\n",
       "        display: none;\n",
       "        fill: #1967D2;\n",
       "        height: 32px;\n",
       "        padding: 0 0 0 0;\n",
       "        width: 32px;\n",
       "      }\n",
       "\n",
       "      .colab-df-generate:hover {\n",
       "        background-color: #E2EBFA;\n",
       "        box-shadow: 0px 1px 2px rgba(60, 64, 67, 0.3), 0px 1px 3px 1px rgba(60, 64, 67, 0.15);\n",
       "        fill: #174EA6;\n",
       "      }\n",
       "\n",
       "      [theme=dark] .colab-df-generate {\n",
       "        background-color: #3B4455;\n",
       "        fill: #D2E3FC;\n",
       "      }\n",
       "\n",
       "      [theme=dark] .colab-df-generate:hover {\n",
       "        background-color: #434B5C;\n",
       "        box-shadow: 0px 1px 3px 1px rgba(0, 0, 0, 0.15);\n",
       "        filter: drop-shadow(0px 1px 2px rgba(0, 0, 0, 0.3));\n",
       "        fill: #FFFFFF;\n",
       "      }\n",
       "    </style>\n",
       "    <button class=\"colab-df-generate\" onclick=\"generateWithVariable('emergency_df')\"\n",
       "            title=\"Generate code using this dataframe.\"\n",
       "            style=\"display:none;\">\n",
       "\n",
       "  <svg xmlns=\"http://www.w3.org/2000/svg\" height=\"24px\"viewBox=\"0 0 24 24\"\n",
       "       width=\"24px\">\n",
       "    <path d=\"M7,19H8.4L18.45,9,17,7.55,7,17.6ZM5,21V16.75L18.45,3.32a2,2,0,0,1,2.83,0l1.4,1.43a1.91,1.91,0,0,1,.58,1.4,1.91,1.91,0,0,1-.58,1.4L9.25,21ZM18.45,9,17,7.55Zm-12,3A5.31,5.31,0,0,0,4.9,8.1,5.31,5.31,0,0,0,1,6.5,5.31,5.31,0,0,0,4.9,4.9,5.31,5.31,0,0,0,6.5,1,5.31,5.31,0,0,0,8.1,4.9,5.31,5.31,0,0,0,12,6.5,5.46,5.46,0,0,0,6.5,12Z\"/>\n",
       "  </svg>\n",
       "    </button>\n",
       "    <script>\n",
       "      (() => {\n",
       "      const buttonEl =\n",
       "        document.querySelector('#id_4e04e7f9-e214-4c46-95f4-0b8f1adb92b5 button.colab-df-generate');\n",
       "      buttonEl.style.display =\n",
       "        google.colab.kernel.accessAllowed ? 'block' : 'none';\n",
       "\n",
       "      buttonEl.onclick = () => {\n",
       "        google.colab.notebook.generateWithVariable('emergency_df');\n",
       "      }\n",
       "      })();\n",
       "    </script>\n",
       "  </div>\n",
       "\n",
       "    </div>\n",
       "  </div>\n"
      ],
      "text/plain": [
       "                                          text  label\n",
       "0                심한 호흡곤란과 함께 가슴 통증이 지속되고 있는 환자      1\n",
       "1        긴급 수술이 필요한 큰 출혈으로 혈액이 과도하게 유출되고 있는 환자      1\n",
       "2    급성 심근경색으로 인한 심지혈관 폐색으로 심부전의 증상을 보이고 있는 환자      1\n",
       "3       중증적인 두경부 손상으로 혈액이 많이 흐르고 출혈이 멈추지 않는 환자      1\n",
       "4              신체의 일부분이 갑작스럽게 마비되어 움직일 수 없는 환자      1\n",
       "..                                         ...    ...\n",
       "495          피부 조직이 약간 다쳐 화상 증상을 보이는 환자가 있습니다.      5\n",
       "496                배변 시 설사와 복통이 동반되는 환자가 있습니다.      5\n",
       "497       식사 중 생선 뼈를 삼켰는데 특별한 증상이 없는 환자가 있습니다.      5\n",
       "498               턱이 아프고 이빨이 뾰족하게 자란 환자가 있습니다.      5\n",
       "499    여드름이 생겨 피부에 뾰루지가 생기는 증상을 호소하는 환자가 있습니다.      5\n",
       "\n",
       "[500 rows x 2 columns]"
      ]
     },
     "execution_count": 108,
     "metadata": {},
     "output_type": "execute_result"
    }
   ],
   "source": [
    "emergency_df"
   ]
  },
  {
   "cell_type": "code",
   "execution_count": 110,
   "metadata": {
    "colab": {
     "base_uri": "https://localhost:8080/",
     "height": 424
    },
    "executionInfo": {
     "elapsed": 323,
     "status": "ok",
     "timestamp": 1731991138795,
     "user": {
      "displayName": "이예림 (겨울냥국)",
      "userId": "03592088159420229142"
     },
     "user_tz": -540
    },
    "id": "NaANEh0HtVA-",
    "outputId": "524d3735-7883-4964-db2c-f56f60eeab21"
   },
   "outputs": [
    {
     "data": {
      "application/vnd.google.colaboratory.intrinsic+json": {
       "summary": "{\n  \"name\": \"df\",\n  \"rows\": 100,\n  \"fields\": [\n    {\n      \"column\": \"text\",\n      \"properties\": {\n        \"dtype\": \"string\",\n        \"num_unique_values\": 100,\n        \"samples\": [\n          \"\\uae09\\uc131 \\ub9d0\\ucd08\\uc131 \\uacbd\\uc99d \\ud1b5\\uc99d(<4)\\uc744 \\ub290\\ub07c\\ub294 \\ud658\\uc790\",\n          \"\\uae09\\uc131\\ubc1c\\ubcd1\\uc73c\\ub85c \\uc9c0\\uc18d\\ub418\\ub294 \\uc99d\\uc0c1\\uc744 \\ubcf4\\uc774\\ub294 \\ud658\\uc790\\ub294 \\ucd94\\uac00\\uc801\\uc778 \\uac80\\uc0ac\\uac00 \\ud544\\uc694\\ud569\\ub2c8\\ub2e4.\",\n          \"\\ub300\\ucc98\\ud558\\uae30 \\uc5b4\\ub824\\uc6b4 \\uc0c1\\ud669\\uc5d0 \\ub193\\uc5ec \\uc788\\ub294 \\ud658\\uc790\"\n        ],\n        \"semantic_type\": \"\",\n        \"description\": \"\"\n      }\n    },\n    {\n      \"column\": \"label\",\n      \"properties\": {\n        \"dtype\": \"number\",\n        \"std\": 1,\n        \"min\": 1,\n        \"max\": 5,\n        \"num_unique_values\": 5,\n        \"samples\": [\n          2,\n          5,\n          3\n        ],\n        \"semantic_type\": \"\",\n        \"description\": \"\"\n      }\n    }\n  ]\n}",
       "type": "dataframe",
       "variable_name": "df"
      },
      "text/html": [
       "\n",
       "  <div id=\"df-7b4459c9-05b4-4f66-bc35-d3283ceefa65\" class=\"colab-df-container\">\n",
       "    <div>\n",
       "<style scoped>\n",
       "    .dataframe tbody tr th:only-of-type {\n",
       "        vertical-align: middle;\n",
       "    }\n",
       "\n",
       "    .dataframe tbody tr th {\n",
       "        vertical-align: top;\n",
       "    }\n",
       "\n",
       "    .dataframe thead th {\n",
       "        text-align: right;\n",
       "    }\n",
       "</style>\n",
       "<table border=\"1\" class=\"dataframe\">\n",
       "  <thead>\n",
       "    <tr style=\"text-align: right;\">\n",
       "      <th></th>\n",
       "      <th>text</th>\n",
       "      <th>label</th>\n",
       "    </tr>\n",
       "  </thead>\n",
       "  <tbody>\n",
       "    <tr>\n",
       "      <th>0</th>\n",
       "      <td>환자가 심각한 호흡곤란으로 숨을 쉬기 어려워하며 피부가 푸르스름하게 변색된 상태</td>\n",
       "      <td>1</td>\n",
       "    </tr>\n",
       "    <tr>\n",
       "      <th>1</th>\n",
       "      <td>환자가 얼굴이 창백하고 식은땀을 흘리며 맥박이 거의 잡히지 않는 쇼크 상태</td>\n",
       "      <td>1</td>\n",
       "    </tr>\n",
       "    <tr>\n",
       "      <th>2</th>\n",
       "      <td>환자가 바닥에 쓰러져 의식을 잃었고, 주변의 소리에 반응하지 않으며, 몸이 움직이지...</td>\n",
       "      <td>1</td>\n",
       "    </tr>\n",
       "    <tr>\n",
       "      <th>3</th>\n",
       "      <td>환자가 심한 호흡곤란으로 숨을 쉬지 못해 곤란해하는 상태</td>\n",
       "      <td>1</td>\n",
       "    </tr>\n",
       "    <tr>\n",
       "      <th>4</th>\n",
       "      <td>환자가 심각한 쇼크로 인해 혈압이 떨어지고 의식을 잃을 위험에 있는 상태</td>\n",
       "      <td>1</td>\n",
       "    </tr>\n",
       "    <tr>\n",
       "      <th>...</th>\n",
       "      <td>...</td>\n",
       "      <td>...</td>\n",
       "    </tr>\n",
       "    <tr>\n",
       "      <th>95</th>\n",
       "      <td>급성 말초성 경증 통증(&lt;4)로 인해 환자가 약간의 불편함을 느끼는 상태</td>\n",
       "      <td>5</td>\n",
       "    </tr>\n",
       "    <tr>\n",
       "      <th>96</th>\n",
       "      <td>피부에 이물질이 있어 환자가 불편함을 느끼는 상태</td>\n",
       "      <td>5</td>\n",
       "    </tr>\n",
       "    <tr>\n",
       "      <th>97</th>\n",
       "      <td>상처를 확인해야 하는 상태로 환자의 상태를 평가 중인 경우</td>\n",
       "      <td>5</td>\n",
       "    </tr>\n",
       "    <tr>\n",
       "      <th>98</th>\n",
       "      <td>스테이플이나 봉합사를 제거해야 하는 상태로, 환자의 상태를 평가하는 중인 경우</td>\n",
       "      <td>5</td>\n",
       "    </tr>\n",
       "    <tr>\n",
       "      <th>99</th>\n",
       "      <td>국소성 발진이 나타난 환자로, 추가적인 평가가 필요한 상태</td>\n",
       "      <td>5</td>\n",
       "    </tr>\n",
       "  </tbody>\n",
       "</table>\n",
       "<p>100 rows × 2 columns</p>\n",
       "</div>\n",
       "    <div class=\"colab-df-buttons\">\n",
       "\n",
       "  <div class=\"colab-df-container\">\n",
       "    <button class=\"colab-df-convert\" onclick=\"convertToInteractive('df-7b4459c9-05b4-4f66-bc35-d3283ceefa65')\"\n",
       "            title=\"Convert this dataframe to an interactive table.\"\n",
       "            style=\"display:none;\">\n",
       "\n",
       "  <svg xmlns=\"http://www.w3.org/2000/svg\" height=\"24px\" viewBox=\"0 -960 960 960\">\n",
       "    <path d=\"M120-120v-720h720v720H120Zm60-500h600v-160H180v160Zm220 220h160v-160H400v160Zm0 220h160v-160H400v160ZM180-400h160v-160H180v160Zm440 0h160v-160H620v160ZM180-180h160v-160H180v160Zm440 0h160v-160H620v160Z\"/>\n",
       "  </svg>\n",
       "    </button>\n",
       "\n",
       "  <style>\n",
       "    .colab-df-container {\n",
       "      display:flex;\n",
       "      gap: 12px;\n",
       "    }\n",
       "\n",
       "    .colab-df-convert {\n",
       "      background-color: #E8F0FE;\n",
       "      border: none;\n",
       "      border-radius: 50%;\n",
       "      cursor: pointer;\n",
       "      display: none;\n",
       "      fill: #1967D2;\n",
       "      height: 32px;\n",
       "      padding: 0 0 0 0;\n",
       "      width: 32px;\n",
       "    }\n",
       "\n",
       "    .colab-df-convert:hover {\n",
       "      background-color: #E2EBFA;\n",
       "      box-shadow: 0px 1px 2px rgba(60, 64, 67, 0.3), 0px 1px 3px 1px rgba(60, 64, 67, 0.15);\n",
       "      fill: #174EA6;\n",
       "    }\n",
       "\n",
       "    .colab-df-buttons div {\n",
       "      margin-bottom: 4px;\n",
       "    }\n",
       "\n",
       "    [theme=dark] .colab-df-convert {\n",
       "      background-color: #3B4455;\n",
       "      fill: #D2E3FC;\n",
       "    }\n",
       "\n",
       "    [theme=dark] .colab-df-convert:hover {\n",
       "      background-color: #434B5C;\n",
       "      box-shadow: 0px 1px 3px 1px rgba(0, 0, 0, 0.15);\n",
       "      filter: drop-shadow(0px 1px 2px rgba(0, 0, 0, 0.3));\n",
       "      fill: #FFFFFF;\n",
       "    }\n",
       "  </style>\n",
       "\n",
       "    <script>\n",
       "      const buttonEl =\n",
       "        document.querySelector('#df-7b4459c9-05b4-4f66-bc35-d3283ceefa65 button.colab-df-convert');\n",
       "      buttonEl.style.display =\n",
       "        google.colab.kernel.accessAllowed ? 'block' : 'none';\n",
       "\n",
       "      async function convertToInteractive(key) {\n",
       "        const element = document.querySelector('#df-7b4459c9-05b4-4f66-bc35-d3283ceefa65');\n",
       "        const dataTable =\n",
       "          await google.colab.kernel.invokeFunction('convertToInteractive',\n",
       "                                                    [key], {});\n",
       "        if (!dataTable) return;\n",
       "\n",
       "        const docLinkHtml = 'Like what you see? Visit the ' +\n",
       "          '<a target=\"_blank\" href=https://colab.research.google.com/notebooks/data_table.ipynb>data table notebook</a>'\n",
       "          + ' to learn more about interactive tables.';\n",
       "        element.innerHTML = '';\n",
       "        dataTable['output_type'] = 'display_data';\n",
       "        await google.colab.output.renderOutput(dataTable, element);\n",
       "        const docLink = document.createElement('div');\n",
       "        docLink.innerHTML = docLinkHtml;\n",
       "        element.appendChild(docLink);\n",
       "      }\n",
       "    </script>\n",
       "  </div>\n",
       "\n",
       "\n",
       "<div id=\"df-99a71933-c324-457b-a39b-5357aa72207d\">\n",
       "  <button class=\"colab-df-quickchart\" onclick=\"quickchart('df-99a71933-c324-457b-a39b-5357aa72207d')\"\n",
       "            title=\"Suggest charts\"\n",
       "            style=\"display:none;\">\n",
       "\n",
       "<svg xmlns=\"http://www.w3.org/2000/svg\" height=\"24px\"viewBox=\"0 0 24 24\"\n",
       "     width=\"24px\">\n",
       "    <g>\n",
       "        <path d=\"M19 3H5c-1.1 0-2 .9-2 2v14c0 1.1.9 2 2 2h14c1.1 0 2-.9 2-2V5c0-1.1-.9-2-2-2zM9 17H7v-7h2v7zm4 0h-2V7h2v10zm4 0h-2v-4h2v4z\"/>\n",
       "    </g>\n",
       "</svg>\n",
       "  </button>\n",
       "\n",
       "<style>\n",
       "  .colab-df-quickchart {\n",
       "      --bg-color: #E8F0FE;\n",
       "      --fill-color: #1967D2;\n",
       "      --hover-bg-color: #E2EBFA;\n",
       "      --hover-fill-color: #174EA6;\n",
       "      --disabled-fill-color: #AAA;\n",
       "      --disabled-bg-color: #DDD;\n",
       "  }\n",
       "\n",
       "  [theme=dark] .colab-df-quickchart {\n",
       "      --bg-color: #3B4455;\n",
       "      --fill-color: #D2E3FC;\n",
       "      --hover-bg-color: #434B5C;\n",
       "      --hover-fill-color: #FFFFFF;\n",
       "      --disabled-bg-color: #3B4455;\n",
       "      --disabled-fill-color: #666;\n",
       "  }\n",
       "\n",
       "  .colab-df-quickchart {\n",
       "    background-color: var(--bg-color);\n",
       "    border: none;\n",
       "    border-radius: 50%;\n",
       "    cursor: pointer;\n",
       "    display: none;\n",
       "    fill: var(--fill-color);\n",
       "    height: 32px;\n",
       "    padding: 0;\n",
       "    width: 32px;\n",
       "  }\n",
       "\n",
       "  .colab-df-quickchart:hover {\n",
       "    background-color: var(--hover-bg-color);\n",
       "    box-shadow: 0 1px 2px rgba(60, 64, 67, 0.3), 0 1px 3px 1px rgba(60, 64, 67, 0.15);\n",
       "    fill: var(--button-hover-fill-color);\n",
       "  }\n",
       "\n",
       "  .colab-df-quickchart-complete:disabled,\n",
       "  .colab-df-quickchart-complete:disabled:hover {\n",
       "    background-color: var(--disabled-bg-color);\n",
       "    fill: var(--disabled-fill-color);\n",
       "    box-shadow: none;\n",
       "  }\n",
       "\n",
       "  .colab-df-spinner {\n",
       "    border: 2px solid var(--fill-color);\n",
       "    border-color: transparent;\n",
       "    border-bottom-color: var(--fill-color);\n",
       "    animation:\n",
       "      spin 1s steps(1) infinite;\n",
       "  }\n",
       "\n",
       "  @keyframes spin {\n",
       "    0% {\n",
       "      border-color: transparent;\n",
       "      border-bottom-color: var(--fill-color);\n",
       "      border-left-color: var(--fill-color);\n",
       "    }\n",
       "    20% {\n",
       "      border-color: transparent;\n",
       "      border-left-color: var(--fill-color);\n",
       "      border-top-color: var(--fill-color);\n",
       "    }\n",
       "    30% {\n",
       "      border-color: transparent;\n",
       "      border-left-color: var(--fill-color);\n",
       "      border-top-color: var(--fill-color);\n",
       "      border-right-color: var(--fill-color);\n",
       "    }\n",
       "    40% {\n",
       "      border-color: transparent;\n",
       "      border-right-color: var(--fill-color);\n",
       "      border-top-color: var(--fill-color);\n",
       "    }\n",
       "    60% {\n",
       "      border-color: transparent;\n",
       "      border-right-color: var(--fill-color);\n",
       "    }\n",
       "    80% {\n",
       "      border-color: transparent;\n",
       "      border-right-color: var(--fill-color);\n",
       "      border-bottom-color: var(--fill-color);\n",
       "    }\n",
       "    90% {\n",
       "      border-color: transparent;\n",
       "      border-bottom-color: var(--fill-color);\n",
       "    }\n",
       "  }\n",
       "</style>\n",
       "\n",
       "  <script>\n",
       "    async function quickchart(key) {\n",
       "      const quickchartButtonEl =\n",
       "        document.querySelector('#' + key + ' button');\n",
       "      quickchartButtonEl.disabled = true;  // To prevent multiple clicks.\n",
       "      quickchartButtonEl.classList.add('colab-df-spinner');\n",
       "      try {\n",
       "        const charts = await google.colab.kernel.invokeFunction(\n",
       "            'suggestCharts', [key], {});\n",
       "      } catch (error) {\n",
       "        console.error('Error during call to suggestCharts:', error);\n",
       "      }\n",
       "      quickchartButtonEl.classList.remove('colab-df-spinner');\n",
       "      quickchartButtonEl.classList.add('colab-df-quickchart-complete');\n",
       "    }\n",
       "    (() => {\n",
       "      let quickchartButtonEl =\n",
       "        document.querySelector('#df-99a71933-c324-457b-a39b-5357aa72207d button');\n",
       "      quickchartButtonEl.style.display =\n",
       "        google.colab.kernel.accessAllowed ? 'block' : 'none';\n",
       "    })();\n",
       "  </script>\n",
       "</div>\n",
       "\n",
       "  <div id=\"id_9eb75579-fc96-4904-9e0a-4bf6cee7c330\">\n",
       "    <style>\n",
       "      .colab-df-generate {\n",
       "        background-color: #E8F0FE;\n",
       "        border: none;\n",
       "        border-radius: 50%;\n",
       "        cursor: pointer;\n",
       "        display: none;\n",
       "        fill: #1967D2;\n",
       "        height: 32px;\n",
       "        padding: 0 0 0 0;\n",
       "        width: 32px;\n",
       "      }\n",
       "\n",
       "      .colab-df-generate:hover {\n",
       "        background-color: #E2EBFA;\n",
       "        box-shadow: 0px 1px 2px rgba(60, 64, 67, 0.3), 0px 1px 3px 1px rgba(60, 64, 67, 0.15);\n",
       "        fill: #174EA6;\n",
       "      }\n",
       "\n",
       "      [theme=dark] .colab-df-generate {\n",
       "        background-color: #3B4455;\n",
       "        fill: #D2E3FC;\n",
       "      }\n",
       "\n",
       "      [theme=dark] .colab-df-generate:hover {\n",
       "        background-color: #434B5C;\n",
       "        box-shadow: 0px 1px 3px 1px rgba(0, 0, 0, 0.15);\n",
       "        filter: drop-shadow(0px 1px 2px rgba(0, 0, 0, 0.3));\n",
       "        fill: #FFFFFF;\n",
       "      }\n",
       "    </style>\n",
       "    <button class=\"colab-df-generate\" onclick=\"generateWithVariable('df')\"\n",
       "            title=\"Generate code using this dataframe.\"\n",
       "            style=\"display:none;\">\n",
       "\n",
       "  <svg xmlns=\"http://www.w3.org/2000/svg\" height=\"24px\"viewBox=\"0 0 24 24\"\n",
       "       width=\"24px\">\n",
       "    <path d=\"M7,19H8.4L18.45,9,17,7.55,7,17.6ZM5,21V16.75L18.45,3.32a2,2,0,0,1,2.83,0l1.4,1.43a1.91,1.91,0,0,1,.58,1.4,1.91,1.91,0,0,1-.58,1.4L9.25,21ZM18.45,9,17,7.55Zm-12,3A5.31,5.31,0,0,0,4.9,8.1,5.31,5.31,0,0,0,1,6.5,5.31,5.31,0,0,0,4.9,4.9,5.31,5.31,0,0,0,6.5,1,5.31,5.31,0,0,0,8.1,4.9,5.31,5.31,0,0,0,12,6.5,5.46,5.46,0,0,0,6.5,12Z\"/>\n",
       "  </svg>\n",
       "    </button>\n",
       "    <script>\n",
       "      (() => {\n",
       "      const buttonEl =\n",
       "        document.querySelector('#id_9eb75579-fc96-4904-9e0a-4bf6cee7c330 button.colab-df-generate');\n",
       "      buttonEl.style.display =\n",
       "        google.colab.kernel.accessAllowed ? 'block' : 'none';\n",
       "\n",
       "      buttonEl.onclick = () => {\n",
       "        google.colab.notebook.generateWithVariable('df');\n",
       "      }\n",
       "      })();\n",
       "    </script>\n",
       "  </div>\n",
       "\n",
       "    </div>\n",
       "  </div>\n"
      ],
      "text/plain": [
       "                                                 text  label\n",
       "0        환자가 심각한 호흡곤란으로 숨을 쉬기 어려워하며 피부가 푸르스름하게 변색된 상태      1\n",
       "1           환자가 얼굴이 창백하고 식은땀을 흘리며 맥박이 거의 잡히지 않는 쇼크 상태      1\n",
       "2   환자가 바닥에 쓰러져 의식을 잃었고, 주변의 소리에 반응하지 않으며, 몸이 움직이지...      1\n",
       "3                     환자가 심한 호흡곤란으로 숨을 쉬지 못해 곤란해하는 상태      1\n",
       "4            환자가 심각한 쇼크로 인해 혈압이 떨어지고 의식을 잃을 위험에 있는 상태      1\n",
       "..                                                ...    ...\n",
       "95           급성 말초성 경증 통증(<4)로 인해 환자가 약간의 불편함을 느끼는 상태      5\n",
       "96                        피부에 이물질이 있어 환자가 불편함을 느끼는 상태      5\n",
       "97                   상처를 확인해야 하는 상태로 환자의 상태를 평가 중인 경우      5\n",
       "98        스테이플이나 봉합사를 제거해야 하는 상태로, 환자의 상태를 평가하는 중인 경우      5\n",
       "99                   국소성 발진이 나타난 환자로, 추가적인 평가가 필요한 상태      5\n",
       "\n",
       "[100 rows x 2 columns]"
      ]
     },
     "execution_count": 110,
     "metadata": {},
     "output_type": "execute_result"
    }
   ],
   "source": [
    "# CSV 파일 경로\n",
    "file_path = '/content/drive/MyDrive/project6/2/dataset.csv'  # 여기에 파일 경로를 입력하세요\n",
    "\n",
    "# CSV 파일을 데이터프레임으로 읽기\n",
    "df = pd.read_csv(file_path)\n",
    "\n",
    "# 데이터프레임 확인\n",
    "df"
   ]
  },
  {
   "cell_type": "code",
   "execution_count": 111,
   "metadata": {
    "colab": {
     "base_uri": "https://localhost:8080/"
    },
    "executionInfo": {
     "elapsed": 316,
     "status": "ok",
     "timestamp": 1731991354570,
     "user": {
      "displayName": "이예림 (겨울냥국)",
      "userId": "03592088159420229142"
     },
     "user_tz": -540
    },
    "id": "gJSKqIGwjj_l",
    "outputId": "ab6fb6d8-3228-497b-c537-daf023ad4599"
   },
   "outputs": [
    {
     "name": "stdout",
     "output_type": "stream",
     "text": [
      "                                            text  label\n",
      "0                  심한 호흡곤란과 함께 가슴 통증이 지속되고 있는 환자      1\n",
      "1          긴급 수술이 필요한 큰 출혈으로 혈액이 과도하게 유출되고 있는 환자      1\n",
      "2      급성 심근경색으로 인한 심지혈관 폐색으로 심부전의 증상을 보이고 있는 환자      1\n",
      "3         중증적인 두경부 손상으로 혈액이 많이 흐르고 출혈이 멈추지 않는 환자      1\n",
      "4                신체의 일부분이 갑작스럽게 마비되어 움직일 수 없는 환자      1\n",
      "..                                           ...    ...\n",
      "595     급성 말초성 경증 통증(<4)로 인해 환자가 약간의 불편함을 느끼는 상태      5\n",
      "596                  피부에 이물질이 있어 환자가 불편함을 느끼는 상태      5\n",
      "597             상처를 확인해야 하는 상태로 환자의 상태를 평가 중인 경우      5\n",
      "598  스테이플이나 봉합사를 제거해야 하는 상태로, 환자의 상태를 평가하는 중인 경우      5\n",
      "599             국소성 발진이 나타난 환자로, 추가적인 평가가 필요한 상태      5\n",
      "\n",
      "[600 rows x 2 columns]\n"
     ]
    }
   ],
   "source": [
    "# emergency_df와 df를 합치기\n",
    "combined_df = pd.concat([emergency_df, df], ignore_index=True)\n",
    "\n",
    "# 결과 확인\n",
    "print(combined_df)"
   ]
  },
  {
   "cell_type": "code",
   "execution_count": 112,
   "metadata": {
    "executionInfo": {
     "elapsed": 353,
     "status": "ok",
     "timestamp": 1731991404520,
     "user": {
      "displayName": "이예림 (겨울냥국)",
      "userId": "03592088159420229142"
     },
     "user_tz": -540
    },
    "id": "SpROr3Rou1CL"
   },
   "outputs": [],
   "source": [
    "combined_df.to_csv('./combine_data.csv', index=False, encoding='utf-8-sig')"
   ]
  },
  {
   "cell_type": "markdown",
   "metadata": {
    "id": "PgllfIsmhzLO"
   },
   "source": [
    "* y 분포 확인하기"
   ]
  },
  {
   "cell_type": "code",
   "execution_count": 114,
   "metadata": {
    "colab": {
     "base_uri": "https://localhost:8080/",
     "height": 449
    },
    "executionInfo": {
     "elapsed": 772,
     "status": "ok",
     "timestamp": 1731991477688,
     "user": {
      "displayName": "이예림 (겨울냥국)",
      "userId": "03592088159420229142"
     },
     "user_tz": -540
    },
    "id": "ms4-0WD-h2ep",
    "outputId": "7b369d86-c5ee-4785-8ee5-b5cc592d240c"
   },
   "outputs": [
    {
     "data": {
      "image/png": "[encoded data removed]",
      "text/plain": [
       "<Figure size 640x480 with 1 Axes>"
      ]
     },
     "metadata": {},
     "output_type": "display_data"
    }
   ],
   "source": [
    "sns.countplot(x='label', data = combined_df, palette='Set2')\n",
    "plt.grid()\n",
    "plt.show()"
   ]
  },
  {
   "cell_type": "markdown",
   "metadata": {
    "id": "mBXDyiITimQP"
   },
   "source": [
    "* label 에 대한 정수 인코딩\n",
    "    * 정수 인코딩은 0 부터 시작해야 함."
   ]
  },
  {
   "cell_type": "code",
   "execution_count": 115,
   "metadata": {
    "colab": {
     "base_uri": "https://localhost:8080/",
     "height": 206
    },
    "executionInfo": {
     "elapsed": 314,
     "status": "ok",
     "timestamp": 1731991505217,
     "user": {
      "displayName": "이예림 (겨울냥국)",
      "userId": "03592088159420229142"
     },
     "user_tz": -540
    },
    "id": "00bFJ0DCNlUw",
    "outputId": "6ad09319-d1d1-437f-dfd4-acbedcb53803"
   },
   "outputs": [
    {
     "data": {
      "application/vnd.google.colaboratory.intrinsic+json": {
       "summary": "{\n  \"name\": \"combined_df\",\n  \"rows\": 600,\n  \"fields\": [\n    {\n      \"column\": \"text\",\n      \"properties\": {\n        \"dtype\": \"string\",\n        \"num_unique_values\": 577,\n        \"samples\": [\n          \"\\uae09\\uc131 \\uc2ec\\uadfc\\uacbd\\uc0c9\\uc73c\\ub85c \\uc2ec\\uc7a5\\ubd80\\uc704\\uac00 \\uc544\\ud504\\uace0 \\ud638\\ud761\\uc774 \\uc5b4\\ub824\\uc6cc\\uc9c0\\uba74 \\uc218\\uc220\\ub85c \\uae09\\ud788 \\ucc98\\uce58\\ub418\\uc5b4\\uc57c \\ud569\\ub2c8\\ub2e4.\",\n          \"\\uc911\\uc99d \\ud749\\ud1b5\\uacfc \\ub450\\uadfc\\uac70\\ub9bc\\uc744 \\ubcf4\\uc774\\ub294 \\uc2ec\\uc7a5 \\ud658\\uc790\",\n          \"\\ud328\\ud608\\uc99d\\uc758 \\uac00\\ub2a5\\uc131\\uc774 \\uc788\\ub294 \\uc0c1\\ud0dc\\ub85c, \\uace0\\uc5f4\\uacfc \\ud63c\\ub780\\uc774 \\ub3d9\\ubc18\\ub41c \\ud658\\uc790\"\n        ],\n        \"semantic_type\": \"\",\n        \"description\": \"\"\n      }\n    },\n    {\n      \"column\": \"label\",\n      \"properties\": {\n        \"dtype\": \"number\",\n        \"std\": 1,\n        \"min\": 0,\n        \"max\": 4,\n        \"num_unique_values\": 5,\n        \"samples\": [\n          1,\n          4,\n          2\n        ],\n        \"semantic_type\": \"\",\n        \"description\": \"\"\n      }\n    }\n  ]\n}",
       "type": "dataframe",
       "variable_name": "combined_df"
      },
      "text/html": [
       "\n",
       "  <div id=\"df-d474dc8d-8965-4392-b764-9eac4b9c6339\" class=\"colab-df-container\">\n",
       "    <div>\n",
       "<style scoped>\n",
       "    .dataframe tbody tr th:only-of-type {\n",
       "        vertical-align: middle;\n",
       "    }\n",
       "\n",
       "    .dataframe tbody tr th {\n",
       "        vertical-align: top;\n",
       "    }\n",
       "\n",
       "    .dataframe thead th {\n",
       "        text-align: right;\n",
       "    }\n",
       "</style>\n",
       "<table border=\"1\" class=\"dataframe\">\n",
       "  <thead>\n",
       "    <tr style=\"text-align: right;\">\n",
       "      <th></th>\n",
       "      <th>text</th>\n",
       "      <th>label</th>\n",
       "    </tr>\n",
       "  </thead>\n",
       "  <tbody>\n",
       "    <tr>\n",
       "      <th>0</th>\n",
       "      <td>심한 호흡곤란과 함께 가슴 통증이 지속되고 있는 환자</td>\n",
       "      <td>0</td>\n",
       "    </tr>\n",
       "    <tr>\n",
       "      <th>1</th>\n",
       "      <td>긴급 수술이 필요한 큰 출혈으로 혈액이 과도하게 유출되고 있는 환자</td>\n",
       "      <td>0</td>\n",
       "    </tr>\n",
       "    <tr>\n",
       "      <th>2</th>\n",
       "      <td>급성 심근경색으로 인한 심지혈관 폐색으로 심부전의 증상을 보이고 있는 환자</td>\n",
       "      <td>0</td>\n",
       "    </tr>\n",
       "    <tr>\n",
       "      <th>3</th>\n",
       "      <td>중증적인 두경부 손상으로 혈액이 많이 흐르고 출혈이 멈추지 않는 환자</td>\n",
       "      <td>0</td>\n",
       "    </tr>\n",
       "    <tr>\n",
       "      <th>4</th>\n",
       "      <td>신체의 일부분이 갑작스럽게 마비되어 움직일 수 없는 환자</td>\n",
       "      <td>0</td>\n",
       "    </tr>\n",
       "  </tbody>\n",
       "</table>\n",
       "</div>\n",
       "    <div class=\"colab-df-buttons\">\n",
       "\n",
       "  <div class=\"colab-df-container\">\n",
       "    <button class=\"colab-df-convert\" onclick=\"convertToInteractive('df-d474dc8d-8965-4392-b764-9eac4b9c6339')\"\n",
       "            title=\"Convert this dataframe to an interactive table.\"\n",
       "            style=\"display:none;\">\n",
       "\n",
       "  <svg xmlns=\"http://www.w3.org/2000/svg\" height=\"24px\" viewBox=\"0 -960 960 960\">\n",
       "    <path d=\"M120-120v-720h720v720H120Zm60-500h600v-160H180v160Zm220 220h160v-160H400v160Zm0 220h160v-160H400v160ZM180-400h160v-160H180v160Zm440 0h160v-160H620v160ZM180-180h160v-160H180v160Zm440 0h160v-160H620v160Z\"/>\n",
       "  </svg>\n",
       "    </button>\n",
       "\n",
       "  <style>\n",
       "    .colab-df-container {\n",
       "      display:flex;\n",
       "      gap: 12px;\n",
       "    }\n",
       "\n",
       "    .colab-df-convert {\n",
       "      background-color: #E8F0FE;\n",
       "      border: none;\n",
       "      border-radius: 50%;\n",
       "      cursor: pointer;\n",
       "      display: none;\n",
       "      fill: #1967D2;\n",
       "      height: 32px;\n",
       "      padding: 0 0 0 0;\n",
       "      width: 32px;\n",
       "    }\n",
       "\n",
       "    .colab-df-convert:hover {\n",
       "      background-color: #E2EBFA;\n",
       "      box-shadow: 0px 1px 2px rgba(60, 64, 67, 0.3), 0px 1px 3px 1px rgba(60, 64, 67, 0.15);\n",
       "      fill: #174EA6;\n",
       "    }\n",
       "\n",
       "    .colab-df-buttons div {\n",
       "      margin-bottom: 4px;\n",
       "    }\n",
       "\n",
       "    [theme=dark] .colab-df-convert {\n",
       "      background-color: #3B4455;\n",
       "      fill: #D2E3FC;\n",
       "    }\n",
       "\n",
       "    [theme=dark] .colab-df-convert:hover {\n",
       "      background-color: #434B5C;\n",
       "      box-shadow: 0px 1px 3px 1px rgba(0, 0, 0, 0.15);\n",
       "      filter: drop-shadow(0px 1px 2px rgba(0, 0, 0, 0.3));\n",
       "      fill: #FFFFFF;\n",
       "    }\n",
       "  </style>\n",
       "\n",
       "    <script>\n",
       "      const buttonEl =\n",
       "        document.querySelector('#df-d474dc8d-8965-4392-b764-9eac4b9c6339 button.colab-df-convert');\n",
       "      buttonEl.style.display =\n",
       "        google.colab.kernel.accessAllowed ? 'block' : 'none';\n",
       "\n",
       "      async function convertToInteractive(key) {\n",
       "        const element = document.querySelector('#df-d474dc8d-8965-4392-b764-9eac4b9c6339');\n",
       "        const dataTable =\n",
       "          await google.colab.kernel.invokeFunction('convertToInteractive',\n",
       "                                                    [key], {});\n",
       "        if (!dataTable) return;\n",
       "\n",
       "        const docLinkHtml = 'Like what you see? Visit the ' +\n",
       "          '<a target=\"_blank\" href=https://colab.research.google.com/notebooks/data_table.ipynb>data table notebook</a>'\n",
       "          + ' to learn more about interactive tables.';\n",
       "        element.innerHTML = '';\n",
       "        dataTable['output_type'] = 'display_data';\n",
       "        await google.colab.output.renderOutput(dataTable, element);\n",
       "        const docLink = document.createElement('div');\n",
       "        docLink.innerHTML = docLinkHtml;\n",
       "        element.appendChild(docLink);\n",
       "      }\n",
       "    </script>\n",
       "  </div>\n",
       "\n",
       "\n",
       "<div id=\"df-da0bfb3b-938b-4699-b5a5-7d6f2f2791f9\">\n",
       "  <button class=\"colab-df-quickchart\" onclick=\"quickchart('df-da0bfb3b-938b-4699-b5a5-7d6f2f2791f9')\"\n",
       "            title=\"Suggest charts\"\n",
       "            style=\"display:none;\">\n",
       "\n",
       "<svg xmlns=\"http://www.w3.org/2000/svg\" height=\"24px\"viewBox=\"0 0 24 24\"\n",
       "     width=\"24px\">\n",
       "    <g>\n",
       "        <path d=\"M19 3H5c-1.1 0-2 .9-2 2v14c0 1.1.9 2 2 2h14c1.1 0 2-.9 2-2V5c0-1.1-.9-2-2-2zM9 17H7v-7h2v7zm4 0h-2V7h2v10zm4 0h-2v-4h2v4z\"/>\n",
       "    </g>\n",
       "</svg>\n",
       "  </button>\n",
       "\n",
       "<style>\n",
       "  .colab-df-quickchart {\n",
       "      --bg-color: #E8F0FE;\n",
       "      --fill-color: #1967D2;\n",
       "      --hover-bg-color: #E2EBFA;\n",
       "      --hover-fill-color: #174EA6;\n",
       "      --disabled-fill-color: #AAA;\n",
       "      --disabled-bg-color: #DDD;\n",
       "  }\n",
       "\n",
       "  [theme=dark] .colab-df-quickchart {\n",
       "      --bg-color: #3B4455;\n",
       "      --fill-color: #D2E3FC;\n",
       "      --hover-bg-color: #434B5C;\n",
       "      --hover-fill-color: #FFFFFF;\n",
       "      --disabled-bg-color: #3B4455;\n",
       "      --disabled-fill-color: #666;\n",
       "  }\n",
       "\n",
       "  .colab-df-quickchart {\n",
       "    background-color: var(--bg-color);\n",
       "    border: none;\n",
       "    border-radius: 50%;\n",
       "    cursor: pointer;\n",
       "    display: none;\n",
       "    fill: var(--fill-color);\n",
       "    height: 32px;\n",
       "    padding: 0;\n",
       "    width: 32px;\n",
       "  }\n",
       "\n",
       "  .colab-df-quickchart:hover {\n",
       "    background-color: var(--hover-bg-color);\n",
       "    box-shadow: 0 1px 2px rgba(60, 64, 67, 0.3), 0 1px 3px 1px rgba(60, 64, 67, 0.15);\n",
       "    fill: var(--button-hover-fill-color);\n",
       "  }\n",
       "\n",
       "  .colab-df-quickchart-complete:disabled,\n",
       "  .colab-df-quickchart-complete:disabled:hover {\n",
       "    background-color: var(--disabled-bg-color);\n",
       "    fill: var(--disabled-fill-color);\n",
       "    box-shadow: none;\n",
       "  }\n",
       "\n",
       "  .colab-df-spinner {\n",
       "    border: 2px solid var(--fill-color);\n",
       "    border-color: transparent;\n",
       "    border-bottom-color: var(--fill-color);\n",
       "    animation:\n",
       "      spin 1s steps(1) infinite;\n",
       "  }\n",
       "\n",
       "  @keyframes spin {\n",
       "    0% {\n",
       "      border-color: transparent;\n",
       "      border-bottom-color: var(--fill-color);\n",
       "      border-left-color: var(--fill-color);\n",
       "    }\n",
       "    20% {\n",
       "      border-color: transparent;\n",
       "      border-left-color: var(--fill-color);\n",
       "      border-top-color: var(--fill-color);\n",
       "    }\n",
       "    30% {\n",
       "      border-color: transparent;\n",
       "      border-left-color: var(--fill-color);\n",
       "      border-top-color: var(--fill-color);\n",
       "      border-right-color: var(--fill-color);\n",
       "    }\n",
       "    40% {\n",
       "      border-color: transparent;\n",
       "      border-right-color: var(--fill-color);\n",
       "      border-top-color: var(--fill-color);\n",
       "    }\n",
       "    60% {\n",
       "      border-color: transparent;\n",
       "      border-right-color: var(--fill-color);\n",
       "    }\n",
       "    80% {\n",
       "      border-color: transparent;\n",
       "      border-right-color: var(--fill-color);\n",
       "      border-bottom-color: var(--fill-color);\n",
       "    }\n",
       "    90% {\n",
       "      border-color: transparent;\n",
       "      border-bottom-color: var(--fill-color);\n",
       "    }\n",
       "  }\n",
       "</style>\n",
       "\n",
       "  <script>\n",
       "    async function quickchart(key) {\n",
       "      const quickchartButtonEl =\n",
       "        document.querySelector('#' + key + ' button');\n",
       "      quickchartButtonEl.disabled = true;  // To prevent multiple clicks.\n",
       "      quickchartButtonEl.classList.add('colab-df-spinner');\n",
       "      try {\n",
       "        const charts = await google.colab.kernel.invokeFunction(\n",
       "            'suggestCharts', [key], {});\n",
       "      } catch (error) {\n",
       "        console.error('Error during call to suggestCharts:', error);\n",
       "      }\n",
       "      quickchartButtonEl.classList.remove('colab-df-spinner');\n",
       "      quickchartButtonEl.classList.add('colab-df-quickchart-complete');\n",
       "    }\n",
       "    (() => {\n",
       "      let quickchartButtonEl =\n",
       "        document.querySelector('#df-da0bfb3b-938b-4699-b5a5-7d6f2f2791f9 button');\n",
       "      quickchartButtonEl.style.display =\n",
       "        google.colab.kernel.accessAllowed ? 'block' : 'none';\n",
       "    })();\n",
       "  </script>\n",
       "</div>\n",
       "\n",
       "    </div>\n",
       "  </div>\n"
      ],
      "text/plain": [
       "                                        text  label\n",
       "0              심한 호흡곤란과 함께 가슴 통증이 지속되고 있는 환자      0\n",
       "1      긴급 수술이 필요한 큰 출혈으로 혈액이 과도하게 유출되고 있는 환자      0\n",
       "2  급성 심근경색으로 인한 심지혈관 폐색으로 심부전의 증상을 보이고 있는 환자      0\n",
       "3     중증적인 두경부 손상으로 혈액이 많이 흐르고 출혈이 멈추지 않는 환자      0\n",
       "4            신체의 일부분이 갑작스럽게 마비되어 움직일 수 없는 환자      0"
      ]
     },
     "execution_count": 115,
     "metadata": {},
     "output_type": "execute_result"
    }
   ],
   "source": [
    "from sklearn.preprocessing import LabelEncoder\n",
    "le = LabelEncoder()\n",
    "combined_df['label'] = le.fit_transform(combined_df['label'])\n",
    "combined_df.head()"
   ]
  },
  {
   "cell_type": "markdown",
   "metadata": {
    "id": "kWP4SWAfK1J8"
   },
   "source": [
    "### (4) GPU 설정\n",
    "* 파이토치를 위한 설정"
   ]
  },
  {
   "cell_type": "code",
   "execution_count": 116,
   "metadata": {
    "colab": {
     "base_uri": "https://localhost:8080/"
    },
    "executionInfo": {
     "elapsed": 291,
     "status": "ok",
     "timestamp": 1731991512718,
     "user": {
      "displayName": "이예림 (겨울냥국)",
      "userId": "03592088159420229142"
     },
     "user_tz": -540
    },
    "id": "tWugkO6FK3qD",
    "outputId": "d6f84f93-6640-42c4-9658-593a93d9dde3"
   },
   "outputs": [
    {
     "data": {
      "text/plain": [
       "device(type='cuda')"
      ]
     },
     "execution_count": 116,
     "metadata": {},
     "output_type": "execute_result"
    }
   ],
   "source": [
    "# GPU 설정\n",
    "device = torch.device(\"cuda\" if torch.cuda.is_available() else \"cpu\")\n",
    "device"
   ]
  },
  {
   "cell_type": "markdown",
   "metadata": {
    "id": "bDFim9_47fGX"
   },
   "source": [
    "## 2.데이터 준비"
   ]
  },
  {
   "cell_type": "markdown",
   "metadata": {
    "id": "5HbtLQ5nLkAG"
   },
   "source": [
    "### (1) Dataset 만들기 : train, val"
   ]
  },
  {
   "cell_type": "code",
   "execution_count": 117,
   "metadata": {
    "executionInfo": {
     "elapsed": 307,
     "status": "ok",
     "timestamp": 1731991542037,
     "user": {
      "displayName": "이예림 (겨울냥국)",
      "userId": "03592088159420229142"
     },
     "user_tz": -540
    },
    "id": "lDTUpdJJLpb4"
   },
   "outputs": [],
   "source": [
    "# 데이터셋 분할\n",
    "train, val = train_test_split(combined_df, test_size=0.2, random_state=42)"
   ]
  },
  {
   "cell_type": "code",
   "execution_count": 118,
   "metadata": {
    "executionInfo": {
     "elapsed": 304,
     "status": "ok",
     "timestamp": 1731991544026,
     "user": {
      "displayName": "이예림 (겨울냥국)",
      "userId": "03592088159420229142"
     },
     "user_tz": -540
    },
    "id": "imOymSXtLjXJ"
   },
   "outputs": [],
   "source": [
    "# 텐서 데이터셋으로 변환\n",
    "train_ds = Dataset.from_pandas(train)\n",
    "val_ds = Dataset.from_pandas(val)"
   ]
  },
  {
   "cell_type": "code",
   "execution_count": 119,
   "metadata": {
    "colab": {
     "base_uri": "https://localhost:8080/"
    },
    "executionInfo": {
     "elapsed": 336,
     "status": "ok",
     "timestamp": 1731991555724,
     "user": {
      "displayName": "이예림 (겨울냥국)",
      "userId": "03592088159420229142"
     },
     "user_tz": -540
    },
    "id": "1lbsLwWEvbrY",
    "outputId": "2bdd461a-20c8-48e9-ffaf-1c0fd254713e"
   },
   "outputs": [
    {
     "data": {
      "text/plain": [
       "{'text': ['급성 심근경색으로 심장부위가 아프고 호흡이 어려워지면 수술로 급히 처치되어야 합니다.',\n",
       "  '화재로부터 발생한 중증화상을 입은 환자',\n",
       "  '흉통과 혈전증상을 겪는 청년 남성'],\n",
       " 'label': [1, 0, 3],\n",
       " '__index_level_0__': [145, 9, 375]}"
      ]
     },
     "execution_count": 119,
     "metadata": {},
     "output_type": "execute_result"
    }
   ],
   "source": [
    "train_ds[:3]"
   ]
  },
  {
   "cell_type": "markdown",
   "metadata": {
    "id": "o2g6VD1O7qA6"
   },
   "source": [
    "### (2) 토큰화\n",
    "\n",
    "* 사용할 모델(\"klue/bert-base\")의 토크나이저를 저장"
   ]
  },
  {
   "cell_type": "code",
   "execution_count": 175,
   "metadata": {
    "executionInfo": {
     "elapsed": 317,
     "status": "ok",
     "timestamp": 1731995776893,
     "user": {
      "displayName": "이예림 (겨울냥국)",
      "userId": "03592088159420229142"
     },
     "user_tz": -540
    },
    "id": "WXHiqVHdK6fN"
   },
   "outputs": [],
   "source": [
    "# 모델과 토크나이저 불러오기\n",
    "model_name = \"klue/bert-base\"\n",
    "tokenizer = AutoTokenizer.from_pretrained(model_name)"
   ]
  },
  {
   "cell_type": "code",
   "execution_count": 176,
   "metadata": {
    "colab": {
     "base_uri": "https://localhost:8080/",
     "height": 81,
     "referenced_widgets": [
      "68ed05a1dd574da0ae19b550c4ceb687",
      "5fd436b60f5d4f1a87680efeab910123",
      "cf431d27cb5149f58f29f301e51d1a01",
      "b00a7bf7bf964cf88afaa94966583e12",
      "f9e820c4095746b2b5040b73093e2008",
      "09208f2129a44db39dd18ce20ea52e72",
      "56f0c600c57e4264a1be149ef802e37e",
      "ca5b592e41834ce2b7a252258e105f74",
      "25acd23a39a44b9ca109e5e10fe3c4db",
      "b9a0bd9cdb264d09b41479a54fc9249f",
      "781e56c65b104b1dad75a3c52d00f8ef",
      "35e4663ca6dd415d828295f4bc4c3ce4",
      "80d064989f0c49198c40fe7dd4d4112d",
      "c5b79b9718ae4dc39f58293b46da4d68",
      "7a290ea76dae4f2691691ece62fc3ce0",
      "b3d6a08a56e243cb98cee5bf0886586d",
      "ef14be4919f0443fa8ab49da457d6db0",
      "158b02382781443bbe6ab82f641bd869",
      "b44d13876c6e44ff974c282cf91d4af5",
      "94a424cc6dbf4e23890472033fab05f7",
      "b5d0a6d4f3944a4c9adc3f08e567628f",
      "26010e15467a4bcc8c8e66624bf0c52a"
     ]
    },
    "executionInfo": {
     "elapsed": 354,
     "status": "ok",
     "timestamp": 1731995780061,
     "user": {
      "displayName": "이예림 (겨울냥국)",
      "userId": "03592088159420229142"
     },
     "user_tz": -540
    },
    "id": "vmpoI7iBLCk1",
    "outputId": "18eb974c-b91c-4c36-bef5-0eb263f6af6a"
   },
   "outputs": [
    {
     "data": {
      "application/vnd.jupyter.widget-view+json": {
       "model_id": "68ed05a1dd574da0ae19b550c4ceb687",
       "version_major": 2,
       "version_minor": 0
      },
      "text/plain": [
       "Map:   0%|          | 0/480 [00:00<?, ? examples/s]"
      ]
     },
     "metadata": {},
     "output_type": "display_data"
    },
    {
     "data": {
      "application/vnd.jupyter.widget-view+json": {
       "model_id": "35e4663ca6dd415d828295f4bc4c3ce4",
       "version_major": 2,
       "version_minor": 0
      },
      "text/plain": [
       "Map:   0%|          | 0/120 [00:00<?, ? examples/s]"
      ]
     },
     "metadata": {},
     "output_type": "display_data"
    }
   ],
   "source": [
    "# 토큰화 함수 생성 및 적용\n",
    "def preprocess_function(data):\n",
    "    return tokenizer(data['text'], truncation=True, padding=True)\n",
    "\n",
    "train_ds = train_ds.map(preprocess_function, batched=True)\n",
    "val_ds = val_ds.map(preprocess_function, batched=True)"
   ]
  },
  {
   "cell_type": "markdown",
   "metadata": {
    "id": "xXcuja2rMUsO"
   },
   "source": [
    "## 3.Fine-Tuning"
   ]
  },
  {
   "cell_type": "markdown",
   "metadata": {
    "id": "NhsuEjXcMSoi"
   },
   "source": [
    "### (1) 사전학습 모델 준비\n",
    "* 사용할 모델(\"klue/bert-base\")의 토크나이저를 저장\n",
    "* 이때, 출력층 노드 수를 지정합니다."
   ]
  },
  {
   "cell_type": "code",
   "execution_count": 177,
   "metadata": {
    "colab": {
     "base_uri": "https://localhost:8080/"
    },
    "executionInfo": {
     "elapsed": 3132,
     "status": "ok",
     "timestamp": 1731995785346,
     "user": {
      "displayName": "이예림 (겨울냥국)",
      "userId": "03592088159420229142"
     },
     "user_tz": -540
    },
    "id": "oujW5VFb7gux",
    "outputId": "c52a4989-e3aa-4a6b-d853-4779b75bf89e"
   },
   "outputs": [
    {
     "name": "stderr",
     "output_type": "stream",
     "text": [
      "Some weights of BertForSequenceClassification were not initialized from the model checkpoint at klue/bert-base and are newly initialized: ['classifier.bias', 'classifier.weight']\n",
      "You should probably TRAIN this model on a down-stream task to be able to use it for predictions and inference.\n"
     ]
    }
   ],
   "source": [
    "# 모델 설정 (다중 분류를 위해 num_labels 지정)\n",
    "n = 6\n",
    "model = AutoModelForSequenceClassification.from_pretrained(model_name, num_labels = n).to(device)"
   ]
  },
  {
   "cell_type": "markdown",
   "metadata": {
    "id": "SNAuKwuWMoGr"
   },
   "source": [
    "### (2) 학습\n",
    "* 절차\n",
    "    * TrainArguments 설정\n",
    "        * 조정할 하이퍼파라미터 : learning_rate, batch_size, epochs, weight_decay 등\n",
    "        * 나머지 옵션은 손 대지 맙시다.\n",
    "    * Trainer 설정\n",
    "    * 학습\n",
    "* 성능 : 데이터, 하이퍼파라미터에 의해 결정"
   ]
  },
  {
   "cell_type": "code",
   "execution_count": 201,
   "metadata": {
    "executionInfo": {
     "elapsed": 416,
     "status": "ok",
     "timestamp": 1731996807014,
     "user": {
      "displayName": "이예림 (겨울냥국)",
      "userId": "03592088159420229142"
     },
     "user_tz": -540
    },
    "id": "tAi9MA_iHOma"
   },
   "outputs": [],
   "source": [
    "# TrainingArguments\n",
    "\n",
    "lr = 2e-5           # <--\n",
    "batch_size = 32        # <--\n",
    "epochs = 30            # <--\n",
    "\n",
    "training_args = TrainingArguments(\n",
    "    output_dir = './results',          # 출력 디렉토리\n",
    "    eval_strategy = \"epoch\",            # 에폭마다 평가\n",
    "    save_strategy = \"epoch\",           # 에폭마다 체크포인트 저장\n",
    "    learning_rate = lr,\n",
    "    per_device_train_batch_size = batch_size,\n",
    "    per_device_eval_batch_size = batch_size,\n",
    "    num_train_epochs  = epochs,\n",
    "    weight_decay = 0.01,               # <--[조정가능]weight decay\n",
    "    load_best_model_at_end = True,     # 가장 좋은 모델을 마지막에 로드\n",
    "    logging_dir ='./logs',            # 로깅 디렉토리\n",
    "    logging_steps = 10,                # 로깅 스텝\n",
    "    report_to=\"tensorboard\"          # TensorBoard에 로깅\n",
    ")"
   ]
  },
  {
   "cell_type": "code",
   "execution_count": 202,
   "metadata": {
    "executionInfo": {
     "elapsed": 303,
     "status": "ok",
     "timestamp": 1731996809007,
     "user": {
      "displayName": "이예림 (겨울냥국)",
      "userId": "03592088159420229142"
     },
     "user_tz": -540
    },
    "id": "K6Tcims1J_Bb"
   },
   "outputs": [],
   "source": [
    "# Trainer 설정\n",
    "patience = 5       # <--\n",
    "\n",
    "trainer = Trainer(\n",
    "    model=model,                         # 학습할 모델\n",
    "    args=training_args,                  # TrainingArguments\n",
    "    train_dataset = train_ds,\n",
    "    eval_dataset = val_ds,\n",
    "    tokenizer=tokenizer,\n",
    "    callbacks=[EarlyStoppingCallback(early_stopping_patience=patience)], # 조기 종료\n",
    ")"
   ]
  },
  {
   "cell_type": "code",
   "execution_count": 203,
   "metadata": {
    "colab": {
     "base_uri": "https://localhost:8080/",
     "height": 646
    },
    "executionInfo": {
     "elapsed": 634317,
     "status": "ok",
     "timestamp": 1731997445587,
     "user": {
      "displayName": "이예림 (겨울냥국)",
      "userId": "03592088159420229142"
     },
     "user_tz": -540
    },
    "id": "q-6soUikMp5y",
    "outputId": "f1bf89f8-a19a-4718-d485-b52960796621"
   },
   "outputs": [
    {
     "data": {
      "text/html": [
       "\n",
       "    <div>\n",
       "      \n",
       "      <progress value='255' max='450' style='width:300px; height:20px; vertical-align: middle;'></progress>\n",
       "      [255/450 10:33 < 08:08, 0.40 it/s, Epoch 17/30]\n",
       "    </div>\n",
       "    <table border=\"1\" class=\"dataframe\">\n",
       "  <thead>\n",
       " <tr style=\"text-align: left;\">\n",
       "      <th>Epoch</th>\n",
       "      <th>Training Loss</th>\n",
       "      <th>Validation Loss</th>\n",
       "    </tr>\n",
       "  </thead>\n",
       "  <tbody>\n",
       "    <tr>\n",
       "      <td>1</td>\n",
       "      <td>0.000900</td>\n",
       "      <td>0.956306</td>\n",
       "    </tr>\n",
       "    <tr>\n",
       "      <td>2</td>\n",
       "      <td>0.010600</td>\n",
       "      <td>0.990680</td>\n",
       "    </tr>\n",
       "    <tr>\n",
       "      <td>3</td>\n",
       "      <td>0.002100</td>\n",
       "      <td>0.931108</td>\n",
       "    </tr>\n",
       "    <tr>\n",
       "      <td>4</td>\n",
       "      <td>0.000500</td>\n",
       "      <td>0.869833</td>\n",
       "    </tr>\n",
       "    <tr>\n",
       "      <td>5</td>\n",
       "      <td>0.008700</td>\n",
       "      <td>0.841062</td>\n",
       "    </tr>\n",
       "    <tr>\n",
       "      <td>6</td>\n",
       "      <td>0.001300</td>\n",
       "      <td>0.784548</td>\n",
       "    </tr>\n",
       "    <tr>\n",
       "      <td>7</td>\n",
       "      <td>0.007400</td>\n",
       "      <td>0.915730</td>\n",
       "    </tr>\n",
       "    <tr>\n",
       "      <td>8</td>\n",
       "      <td>0.010700</td>\n",
       "      <td>0.927843</td>\n",
       "    </tr>\n",
       "    <tr>\n",
       "      <td>9</td>\n",
       "      <td>0.020800</td>\n",
       "      <td>0.844946</td>\n",
       "    </tr>\n",
       "    <tr>\n",
       "      <td>10</td>\n",
       "      <td>0.029400</td>\n",
       "      <td>0.839530</td>\n",
       "    </tr>\n",
       "    <tr>\n",
       "      <td>11</td>\n",
       "      <td>0.000500</td>\n",
       "      <td>0.759774</td>\n",
       "    </tr>\n",
       "    <tr>\n",
       "      <td>12</td>\n",
       "      <td>0.000200</td>\n",
       "      <td>0.678080</td>\n",
       "    </tr>\n",
       "    <tr>\n",
       "      <td>13</td>\n",
       "      <td>0.000200</td>\n",
       "      <td>0.722958</td>\n",
       "    </tr>\n",
       "    <tr>\n",
       "      <td>14</td>\n",
       "      <td>0.000200</td>\n",
       "      <td>0.758631</td>\n",
       "    </tr>\n",
       "    <tr>\n",
       "      <td>15</td>\n",
       "      <td>0.000300</td>\n",
       "      <td>0.890911</td>\n",
       "    </tr>\n",
       "    <tr>\n",
       "      <td>16</td>\n",
       "      <td>0.000100</td>\n",
       "      <td>0.885987</td>\n",
       "    </tr>\n",
       "    <tr>\n",
       "      <td>17</td>\n",
       "      <td>0.000100</td>\n",
       "      <td>0.881758</td>\n",
       "    </tr>\n",
       "  </tbody>\n",
       "</table><p>"
      ],
      "text/plain": [
       "<IPython.core.display.HTML object>"
      ]
     },
     "metadata": {},
     "output_type": "display_data"
    },
    {
     "data": {
      "text/plain": [
       "TrainOutput(global_step=255, training_loss=0.00520511761823596, metrics={'train_runtime': 633.7835, 'train_samples_per_second': 22.721, 'train_steps_per_second': 0.71, 'total_flos': 134191457464320.0, 'train_loss': 0.00520511761823596, 'epoch': 17.0})"
      ]
     },
     "execution_count": 203,
     "metadata": {},
     "output_type": "execute_result"
    }
   ],
   "source": [
    "# 모델 학습\n",
    "trainer.train()"
   ]
  },
  {
   "cell_type": "code",
   "execution_count": 204,
   "metadata": {
    "colab": {
     "base_uri": "https://localhost:8080/",
     "height": 76
    },
    "executionInfo": {
     "elapsed": 314,
     "status": "ok",
     "timestamp": 1731997467127,
     "user": {
      "displayName": "이예림 (겨울냥국)",
      "userId": "03592088159420229142"
     },
     "user_tz": -540
    },
    "id": "z9itVKStpl3W",
    "outputId": "7d9662a7-0e83-449a-87ae-7e0ef8aeceb6"
   },
   "outputs": [
    {
     "data": {
      "text/html": [
       "\n",
       "    <div>\n",
       "      \n",
       "      <progress value='4' max='4' style='width:300px; height:20px; vertical-align: middle;'></progress>\n",
       "      [4/4 00:00]\n",
       "    </div>\n",
       "    "
      ],
      "text/plain": [
       "<IPython.core.display.HTML object>"
      ]
     },
     "metadata": {},
     "output_type": "display_data"
    },
    {
     "name": "stdout",
     "output_type": "stream",
     "text": [
      "Evaluation results: {'eval_loss': 0.6780802607536316, 'eval_runtime': 0.2688, 'eval_samples_per_second': 446.368, 'eval_steps_per_second': 14.879, 'epoch': 17.0}\n"
     ]
    }
   ],
   "source": [
    "# 모델 평가\n",
    "eval_results = trainer.evaluate()\n",
    "print(f\"Evaluation results: {eval_results}\")"
   ]
  },
  {
   "cell_type": "markdown",
   "metadata": {
    "id": "ix-b6Taw3EvG"
   },
   "source": [
    "### (3) 모델 검증평가\n",
    "* evaluate 함수를 이용해서 검증셋에 대한 성능 평가를 수행합니다."
   ]
  },
  {
   "cell_type": "code",
   "execution_count": 205,
   "metadata": {
    "executionInfo": {
     "elapsed": 750,
     "status": "ok",
     "timestamp": 1731997491174,
     "user": {
      "displayName": "이예림 (겨울냥국)",
      "userId": "03592088159420229142"
     },
     "user_tz": -540
    },
    "id": "a--b8NWuPwOA"
   },
   "outputs": [],
   "source": [
    "pred, prob = evaluate(val_ds, model, device, tokenizer)"
   ]
  },
  {
   "cell_type": "code",
   "execution_count": 206,
   "metadata": {
    "colab": {
     "base_uri": "https://localhost:8080/"
    },
    "executionInfo": {
     "elapsed": 297,
     "status": "ok",
     "timestamp": 1731997493182,
     "user": {
      "displayName": "이예림 (겨울냥국)",
      "userId": "03592088159420229142"
     },
     "user_tz": -540
    },
    "id": "CUifn3RflQdV",
    "outputId": "29a10fe4-c75f-4e63-dfce-4aa59e944004"
   },
   "outputs": [
    {
     "name": "stdout",
     "output_type": "stream",
     "text": [
      "[[21  1  2  1  0]\n",
      " [ 0 21  3  1  0]\n",
      " [ 2  1 18  0  3]\n",
      " [ 1  0  0 20  0]\n",
      " [ 1  1  0  0 23]]\n",
      "              precision    recall  f1-score   support\n",
      "\n",
      "           0       0.84      0.84      0.84        25\n",
      "           1       0.88      0.84      0.86        25\n",
      "           2       0.78      0.75      0.77        24\n",
      "           3       0.91      0.95      0.93        21\n",
      "           4       0.88      0.92      0.90        25\n",
      "\n",
      "    accuracy                           0.86       120\n",
      "   macro avg       0.86      0.86      0.86       120\n",
      "weighted avg       0.86      0.86      0.86       120\n",
      "\n"
     ]
    }
   ],
   "source": [
    "print(confusion_matrix(val_ds['label'], pred))\n",
    "# print(classification_report(val_ds['label'], pred, target_names = le.classes_)) :: target_names 변환은 label이 문자 일때만 넣도록 하자.\n",
    "print(classification_report(val_ds['label'], pred))"
   ]
  },
  {
   "cell_type": "markdown",
   "metadata": {
    "id": "iQ_s6MWHNHEl"
   },
   "source": [
    "### (4) 모델 사용\n",
    "* 응급상황에 대한 샘플 문자을 넣고 등급을 적절히 분류하는지 눈으로 확인해 봅시다."
   ]
  },
  {
   "cell_type": "code",
   "execution_count": 216,
   "metadata": {
    "colab": {
     "base_uri": "https://localhost:8080/"
    },
    "executionInfo": {
     "elapsed": 331,
     "status": "ok",
     "timestamp": 1731997650707,
     "user": {
      "displayName": "이예림 (겨울냥국)",
      "userId": "03592088159420229142"
     },
     "user_tz": -540
    },
    "id": "96Yg3gFWGVni",
    "outputId": "92a4fb0e-da41-4d3c-81cd-257a5ad05f29"
   },
   "outputs": [
    {
     "name": "stdout",
     "output_type": "stream",
     "text": [
      "예측된 클래스: 4\n",
      "예측된 클래스 이름: [5]\n",
      "클래스별 확률: tensor([[0.0034, 0.0017, 0.0454, 0.0037, 0.9445, 0.0013]], device='cuda:0')\n"
     ]
    }
   ],
   "source": [
    "text = \"사람\"\n",
    "predicted_class, probabilities = predict(text, model, tokenizer)\n",
    "\n",
    "print(f\"예측된 클래스: {predicted_class}\")\n",
    "print(f\"예측된 클래스 이름: {le.inverse_transform([predicted_class])}\")\n",
    "print(f\"클래스별 확률: {probabilities}\")"
   ]
  },
  {
   "cell_type": "markdown",
   "metadata": {
    "id": "y8FEhy5rUBsX"
   },
   "source": [
    "## 4.모델 저장"
   ]
  },
  {
   "cell_type": "markdown",
   "metadata": {
    "id": "mGU1b-yzUGmi"
   },
   "source": [
    "### (1) 모델 저장\n",
    "* save_pretrained 메서드를 사용해 모델과 토크나이저를 디렉토리에 저장합니다.\n",
    "* 저장 대상 : 모델, 토크나이저"
   ]
  },
  {
   "cell_type": "code",
   "execution_count": 149,
   "metadata": {
    "colab": {
     "base_uri": "https://localhost:8080/"
    },
    "executionInfo": {
     "elapsed": 5880,
     "status": "ok",
     "timestamp": 1731993261458,
     "user": {
      "displayName": "이예림 (겨울냥국)",
      "userId": "03592088159420229142"
     },
     "user_tz": -540
    },
    "id": "EQuXh6i3UDBL",
    "outputId": "50989cb2-348c-48da-8e20-cb862cbcd0e4"
   },
   "outputs": [
    {
     "data": {
      "text/plain": [
       "('/content/drive/MyDrive/project6/2/fine_tuned_bert/tokenizer_config.json',\n",
       " '/content/drive/MyDrive/project6/2/fine_tuned_bert/special_tokens_map.json',\n",
       " '/content/drive/MyDrive/project6/2/fine_tuned_bert/vocab.txt',\n",
       " '/content/drive/MyDrive/project6/2/fine_tuned_bert/added_tokens.json',\n",
       " '/content/drive/MyDrive/project6/2/fine_tuned_bert/tokenizer.json')"
      ]
     },
     "execution_count": 149,
     "metadata": {},
     "output_type": "execute_result"
    }
   ],
   "source": [
    "# 모델과 토크나이저 저장 경로 : 폴더가 없으면, fine_tuned_bert를 생성\n",
    "save_directory = path + \"fine_tuned_bert\"\n",
    "\n",
    "# 모델 저장\n",
    "model.save_pretrained(save_directory)\n",
    "\n",
    "# 토크나이저도 함께 저장\n",
    "tokenizer.save_pretrained(save_directory)"
   ]
  },
  {
   "cell_type": "markdown",
   "metadata": {
    "id": "inceXKa-UYnH"
   },
   "source": [
    "### (2) 모델 로딩 및 사용\n",
    "* 저장한 모델을 나중에 다시 불러와 예측이나 추가 작업에 사용할 수 있습니다. Hugging Face from_pretrained 메서드를 사용하여 저장 경로에서 모델과 토크나이저를 로드합니다.\n",
    "* 로딩 대상 : 모델, 토크나이저"
   ]
  },
  {
   "cell_type": "code",
   "execution_count": 153,
   "metadata": {
    "executionInfo": {
     "elapsed": 1548,
     "status": "ok",
     "timestamp": 1731993338506,
     "user": {
      "displayName": "이예림 (겨울냥국)",
      "userId": "03592088159420229142"
     },
     "user_tz": -540
    },
    "id": "4ECAESD3UYnI"
   },
   "outputs": [],
   "source": [
    "# 모델 로드\n",
    "model2 = AutoModelForSequenceClassification.from_pretrained(save_directory).to(device)\n",
    "\n",
    "# 토크나이저 로드\n",
    "tokenizer2 = AutoTokenizer.from_pretrained(save_directory)"
   ]
  },
  {
   "cell_type": "code",
   "execution_count": 154,
   "metadata": {
    "colab": {
     "base_uri": "https://localhost:8080/"
    },
    "executionInfo": {
     "elapsed": 285,
     "status": "ok",
     "timestamp": 1731993340569,
     "user": {
      "displayName": "이예림 (겨울냥국)",
      "userId": "03592088159420229142"
     },
     "user_tz": -540
    },
    "id": "e-maRgSLUh86",
    "outputId": "26c7ebbf-1d6f-470a-c19b-781cda13a555"
   },
   "outputs": [
    {
     "name": "stdout",
     "output_type": "stream",
     "text": [
      "예측된 클래스: 3\n",
      "예측된 클래스 이름: 4등급\n",
      "클래스별 확률: tensor([[0.0250, 0.0840, 0.0929, 0.6787, 0.1096, 0.0099]], device='cuda:0')\n"
     ]
    }
   ],
   "source": [
    "text = \"넘어졌는데, 지금 출혈이 있고, 머리가 어지럽습니다.\"\n",
    "predicted_class, probabilities = predict(text, model2, tokenizer2)\n",
    "\n",
    "print(f\"예측된 클래스: {predicted_class}\")\n",
    "print(f\"예측된 클래스 이름: {predicted_class+1}등급\")\n",
    "print(f\"클래스별 확률: {probabilities}\")"
   ]
  },
  {
   "cell_type": "code",
   "execution_count": null,
   "metadata": {
    "id": "ZZGp6DtoX8GF"
   },
   "outputs": [],
   "source": []
  }
 ],
 "metadata": {
  "accelerator": "GPU",
  "colab": {
   "gpuType": "T4",
   "provenance": [],
   "toc_visible": true
  },
  "kernelspec": {
   "display_name": "Python 3",
   "name": "python3"
  },
  "language_info": {
   "name": "python"
  },
  "widgets": {
   "application/vnd.jupyter.widget-state+json": {
    "09208f2129a44db39dd18ce20ea52e72": {
     "model_module": "@jupyter-widgets/base",
     "model_module_version": "1.2.0",
     "model_name": "LayoutModel",
     "state": {
      "_model_module": "@jupyter-widgets/base",
      "_model_module_version": "1.2.0",
      "_model_name": "LayoutModel",
      "_view_count": null,
      "_view_module": "@jupyter-widgets/base",
      "_view_module_version": "1.2.0",
      "_view_name": "LayoutView",
      "align_content": null,
      "align_items": null,
      "align_self": null,
      "border": null,
      "bottom": null,
      "display": null,
      "flex": null,
      "flex_flow": null,
      "grid_area": null,
      "grid_auto_columns": null,
      "grid_auto_flow": null,
      "grid_auto_rows": null,
      "grid_column": null,
      "grid_gap": null,
      "grid_row": null,
      "grid_template_areas": null,
      "grid_template_columns": null,
      "grid_template_rows": null,
      "height": null,
      "justify_content": null,
      "justify_items": null,
      "left": null,
      "margin": null,
      "max_height": null,
      "max_width": null,
      "min_height": null,
      "min_width": null,
      "object_fit": null,
      "object_position": null,
      "order": null,
      "overflow": null,
      "overflow_x": null,
      "overflow_y": null,
      "padding": null,
      "right": null,
      "top": null,
      "visibility": null,
      "width": null
     }
    },
    "158b02382781443bbe6ab82f641bd869": {
     "model_module": "@jupyter-widgets/controls",
     "model_module_version": "1.5.0",
     "model_name": "DescriptionStyleModel",
     "state": {
      "_model_module": "@jupyter-widgets/controls",
      "_model_module_version": "1.5.0",
      "_model_name": "DescriptionStyleModel",
      "_view_count": null,
      "_view_module": "@jupyter-widgets/base",
      "_view_module_version": "1.2.0",
      "_view_name": "StyleView",
      "description_width": ""
     }
    },
    "25acd23a39a44b9ca109e5e10fe3c4db": {
     "model_module": "@jupyter-widgets/controls",
     "model_module_version": "1.5.0",
     "model_name": "ProgressStyleModel",
     "state": {
      "_model_module": "@jupyter-widgets/controls",
      "_model_module_version": "1.5.0",
      "_model_name": "ProgressStyleModel",
      "_view_count": null,
      "_view_module": "@jupyter-widgets/base",
      "_view_module_version": "1.2.0",
      "_view_name": "StyleView",
      "bar_color": null,
      "description_width": ""
     }
    },
    "26010e15467a4bcc8c8e66624bf0c52a": {
     "model_module": "@jupyter-widgets/controls",
     "model_module_version": "1.5.0",
     "model_name": "DescriptionStyleModel",
     "state": {
      "_model_module": "@jupyter-widgets/controls",
      "_model_module_version": "1.5.0",
      "_model_name": "DescriptionStyleModel",
      "_view_count": null,
      "_view_module": "@jupyter-widgets/base",
      "_view_module_version": "1.2.0",
      "_view_name": "StyleView",
      "description_width": ""
     }
    },
    "35e4663ca6dd415d828295f4bc4c3ce4": {
     "model_module": "@jupyter-widgets/controls",
     "model_module_version": "1.5.0",
     "model_name": "HBoxModel",
     "state": {
      "_dom_classes": [],
      "_model_module": "@jupyter-widgets/controls",
      "_model_module_version": "1.5.0",
      "_model_name": "HBoxModel",
      "_view_count": null,
      "_view_module": "@jupyter-widgets/controls",
      "_view_module_version": "1.5.0",
      "_view_name": "HBoxView",
      "box_style": "",
      "children": [
       "IPY_MODEL_80d064989f0c49198c40fe7dd4d4112d",
       "IPY_MODEL_c5b79b9718ae4dc39f58293b46da4d68",
       "IPY_MODEL_7a290ea76dae4f2691691ece62fc3ce0"
      ],
      "layout": "IPY_MODEL_b3d6a08a56e243cb98cee5bf0886586d"
     }
    },
    "56f0c600c57e4264a1be149ef802e37e": {
     "model_module": "@jupyter-widgets/controls",
     "model_module_version": "1.5.0",
     "model_name": "DescriptionStyleModel",
     "state": {
      "_model_module": "@jupyter-widgets/controls",
      "_model_module_version": "1.5.0",
      "_model_name": "DescriptionStyleModel",
      "_view_count": null,
      "_view_module": "@jupyter-widgets/base",
      "_view_module_version": "1.2.0",
      "_view_name": "StyleView",
      "description_width": ""
     }
    },
    "5fd436b60f5d4f1a87680efeab910123": {
     "model_module": "@jupyter-widgets/controls",
     "model_module_version": "1.5.0",
     "model_name": "HTMLModel",
     "state": {
      "_dom_classes": [],
      "_model_module": "@jupyter-widgets/controls",
      "_model_module_version": "1.5.0",
      "_model_name": "HTMLModel",
      "_view_count": null,
      "_view_module": "@jupyter-widgets/controls",
      "_view_module_version": "1.5.0",
      "_view_name": "HTMLView",
      "description": "",
      "description_tooltip": null,
      "layout": "IPY_MODEL_09208f2129a44db39dd18ce20ea52e72",
      "placeholder": "​",
      "style": "IPY_MODEL_56f0c600c57e4264a1be149ef802e37e",
      "value": "Map: 100%"
     }
    },
    "68ed05a1dd574da0ae19b550c4ceb687": {
     "model_module": "@jupyter-widgets/controls",
     "model_module_version": "1.5.0",
     "model_name": "HBoxModel",
     "state": {
      "_dom_classes": [],
      "_model_module": "@jupyter-widgets/controls",
      "_model_module_version": "1.5.0",
      "_model_name": "HBoxModel",
      "_view_count": null,
      "_view_module": "@jupyter-widgets/controls",
      "_view_module_version": "1.5.0",
      "_view_name": "HBoxView",
      "box_style": "",
      "children": [
       "IPY_MODEL_5fd436b60f5d4f1a87680efeab910123",
       "IPY_MODEL_cf431d27cb5149f58f29f301e51d1a01",
       "IPY_MODEL_b00a7bf7bf964cf88afaa94966583e12"
      ],
      "layout": "IPY_MODEL_f9e820c4095746b2b5040b73093e2008"
     }
    },
    "781e56c65b104b1dad75a3c52d00f8ef": {
     "model_module": "@jupyter-widgets/controls",
     "model_module_version": "1.5.0",
     "model_name": "DescriptionStyleModel",
     "state": {
      "_model_module": "@jupyter-widgets/controls",
      "_model_module_version": "1.5.0",
      "_model_name": "DescriptionStyleModel",
      "_view_count": null,
      "_view_module": "@jupyter-widgets/base",
      "_view_module_version": "1.2.0",
      "_view_name": "StyleView",
      "description_width": ""
     }
    },
    "7a290ea76dae4f2691691ece62fc3ce0": {
     "model_module": "@jupyter-widgets/controls",
     "model_module_version": "1.5.0",
     "model_name": "HTMLModel",
     "state": {
      "_dom_classes": [],
      "_model_module": "@jupyter-widgets/controls",
      "_model_module_version": "1.5.0",
      "_model_name": "HTMLModel",
      "_view_count": null,
      "_view_module": "@jupyter-widgets/controls",
      "_view_module_version": "1.5.0",
      "_view_name": "HTMLView",
      "description": "",
      "description_tooltip": null,
      "layout": "IPY_MODEL_b5d0a6d4f3944a4c9adc3f08e567628f",
      "placeholder": "​",
      "style": "IPY_MODEL_26010e15467a4bcc8c8e66624bf0c52a",
      "value": " 120/120 [00:00&lt;00:00, 2464.78 examples/s]"
     }
    },
    "80d064989f0c49198c40fe7dd4d4112d": {
     "model_module": "@jupyter-widgets/controls",
     "model_module_version": "1.5.0",
     "model_name": "HTMLModel",
     "state": {
      "_dom_classes": [],
      "_model_module": "@jupyter-widgets/controls",
      "_model_module_version": "1.5.0",
      "_model_name": "HTMLModel",
      "_view_count": null,
      "_view_module": "@jupyter-widgets/controls",
      "_view_module_version": "1.5.0",
      "_view_name": "HTMLView",
      "description": "",
      "description_tooltip": null,
      "layout": "IPY_MODEL_ef14be4919f0443fa8ab49da457d6db0",
      "placeholder": "​",
      "style": "IPY_MODEL_158b02382781443bbe6ab82f641bd869",
      "value": "Map: 100%"
     }
    },
    "94a424cc6dbf4e23890472033fab05f7": {
     "model_module": "@jupyter-widgets/controls",
     "model_module_version": "1.5.0",
     "model_name": "ProgressStyleModel",
     "state": {
      "_model_module": "@jupyter-widgets/controls",
      "_model_module_version": "1.5.0",
      "_model_name": "ProgressStyleModel",
      "_view_count": null,
      "_view_module": "@jupyter-widgets/base",
      "_view_module_version": "1.2.0",
      "_view_name": "StyleView",
      "bar_color": null,
      "description_width": ""
     }
    },
    "b00a7bf7bf964cf88afaa94966583e12": {
     "model_module": "@jupyter-widgets/controls",
     "model_module_version": "1.5.0",
     "model_name": "HTMLModel",
     "state": {
      "_dom_classes": [],
      "_model_module": "@jupyter-widgets/controls",
      "_model_module_version": "1.5.0",
      "_model_name": "HTMLModel",
      "_view_count": null,
      "_view_module": "@jupyter-widgets/controls",
      "_view_module_version": "1.5.0",
      "_view_name": "HTMLView",
      "description": "",
      "description_tooltip": null,
      "layout": "IPY_MODEL_b9a0bd9cdb264d09b41479a54fc9249f",
      "placeholder": "​",
      "style": "IPY_MODEL_781e56c65b104b1dad75a3c52d00f8ef",
      "value": " 480/480 [00:00&lt;00:00, 7640.91 examples/s]"
     }
    },
    "b3d6a08a56e243cb98cee5bf0886586d": {
     "model_module": "@jupyter-widgets/base",
     "model_module_version": "1.2.0",
     "model_name": "LayoutModel",
     "state": {
      "_model_module": "@jupyter-widgets/base",
      "_model_module_version": "1.2.0",
      "_model_name": "LayoutModel",
      "_view_count": null,
      "_view_module": "@jupyter-widgets/base",
      "_view_module_version": "1.2.0",
      "_view_name": "LayoutView",
      "align_content": null,
      "align_items": null,
      "align_self": null,
      "border": null,
      "bottom": null,
      "display": null,
      "flex": null,
      "flex_flow": null,
      "grid_area": null,
      "grid_auto_columns": null,
      "grid_auto_flow": null,
      "grid_auto_rows": null,
      "grid_column": null,
      "grid_gap": null,
      "grid_row": null,
      "grid_template_areas": null,
      "grid_template_columns": null,
      "grid_template_rows": null,
      "height": null,
      "justify_content": null,
      "justify_items": null,
      "left": null,
      "margin": null,
      "max_height": null,
      "max_width": null,
      "min_height": null,
      "min_width": null,
      "object_fit": null,
      "object_position": null,
      "order": null,
      "overflow": null,
      "overflow_x": null,
      "overflow_y": null,
      "padding": null,
      "right": null,
      "top": null,
      "visibility": null,
      "width": null
     }
    },
    "b44d13876c6e44ff974c282cf91d4af5": {
     "model_module": "@jupyter-widgets/base",
     "model_module_version": "1.2.0",
     "model_name": "LayoutModel",
     "state": {
      "_model_module": "@jupyter-widgets/base",
      "_model_module_version": "1.2.0",
      "_model_name": "LayoutModel",
      "_view_count": null,
      "_view_module": "@jupyter-widgets/base",
      "_view_module_version": "1.2.0",
      "_view_name": "LayoutView",
      "align_content": null,
      "align_items": null,
      "align_self": null,
      "border": null,
      "bottom": null,
      "display": null,
      "flex": null,
      "flex_flow": null,
      "grid_area": null,
      "grid_auto_columns": null,
      "grid_auto_flow": null,
      "grid_auto_rows": null,
      "grid_column": null,
      "grid_gap": null,
      "grid_row": null,
      "grid_template_areas": null,
      "grid_template_columns": null,
      "grid_template_rows": null,
      "height": null,
      "justify_content": null,
      "justify_items": null,
      "left": null,
      "margin": null,
      "max_height": null,
      "max_width": null,
      "min_height": null,
      "min_width": null,
      "object_fit": null,
      "object_position": null,
      "order": null,
      "overflow": null,
      "overflow_x": null,
      "overflow_y": null,
      "padding": null,
      "right": null,
      "top": null,
      "visibility": null,
      "width": null
     }
    },
    "b5d0a6d4f3944a4c9adc3f08e567628f": {
     "model_module": "@jupyter-widgets/base",
     "model_module_version": "1.2.0",
     "model_name": "LayoutModel",
     "state": {
      "_model_module": "@jupyter-widgets/base",
      "_model_module_version": "1.2.0",
      "_model_name": "LayoutModel",
      "_view_count": null,
      "_view_module": "@jupyter-widgets/base",
      "_view_module_version": "1.2.0",
      "_view_name": "LayoutView",
      "align_content": null,
      "align_items": null,
      "align_self": null,
      "border": null,
      "bottom": null,
      "display": null,
      "flex": null,
      "flex_flow": null,
      "grid_area": null,
      "grid_auto_columns": null,
      "grid_auto_flow": null,
      "grid_auto_rows": null,
      "grid_column": null,
      "grid_gap": null,
      "grid_row": null,
      "grid_template_areas": null,
      "grid_template_columns": null,
      "grid_template_rows": null,
      "height": null,
      "justify_content": null,
      "justify_items": null,
      "left": null,
      "margin": null,
      "max_height": null,
      "max_width": null,
      "min_height": null,
      "min_width": null,
      "object_fit": null,
      "object_position": null,
      "order": null,
      "overflow": null,
      "overflow_x": null,
      "overflow_y": null,
      "padding": null,
      "right": null,
      "top": null,
      "visibility": null,
      "width": null
     }
    },
    "b9a0bd9cdb264d09b41479a54fc9249f": {
     "model_module": "@jupyter-widgets/base",
     "model_module_version": "1.2.0",
     "model_name": "LayoutModel",
     "state": {
      "_model_module": "@jupyter-widgets/base",
      "_model_module_version": "1.2.0",
      "_model_name": "LayoutModel",
      "_view_count": null,
      "_view_module": "@jupyter-widgets/base",
      "_view_module_version": "1.2.0",
      "_view_name": "LayoutView",
      "align_content": null,
      "align_items": null,
      "align_self": null,
      "border": null,
      "bottom": null,
      "display": null,
      "flex": null,
      "flex_flow": null,
      "grid_area": null,
      "grid_auto_columns": null,
      "grid_auto_flow": null,
      "grid_auto_rows": null,
      "grid_column": null,
      "grid_gap": null,
      "grid_row": null,
      "grid_template_areas": null,
      "grid_template_columns": null,
      "grid_template_rows": null,
      "height": null,
      "justify_content": null,
      "justify_items": null,
      "left": null,
      "margin": null,
      "max_height": null,
      "max_width": null,
      "min_height": null,
      "min_width": null,
      "object_fit": null,
      "object_position": null,
      "order": null,
      "overflow": null,
      "overflow_x": null,
      "overflow_y": null,
      "padding": null,
      "right": null,
      "top": null,
      "visibility": null,
      "width": null
     }
    },
    "c5b79b9718ae4dc39f58293b46da4d68": {
     "model_module": "@jupyter-widgets/controls",
     "model_module_version": "1.5.0",
     "model_name": "FloatProgressModel",
     "state": {
      "_dom_classes": [],
      "_model_module": "@jupyter-widgets/controls",
      "_model_module_version": "1.5.0",
      "_model_name": "FloatProgressModel",
      "_view_count": null,
      "_view_module": "@jupyter-widgets/controls",
      "_view_module_version": "1.5.0",
      "_view_name": "ProgressView",
      "bar_style": "success",
      "description": "",
      "description_tooltip": null,
      "layout": "IPY_MODEL_b44d13876c6e44ff974c282cf91d4af5",
      "max": 120,
      "min": 0,
      "orientation": "horizontal",
      "style": "IPY_MODEL_94a424cc6dbf4e23890472033fab05f7",
      "value": 120
     }
    },
    "ca5b592e41834ce2b7a252258e105f74": {
     "model_module": "@jupyter-widgets/base",
     "model_module_version": "1.2.0",
     "model_name": "LayoutModel",
     "state": {
      "_model_module": "@jupyter-widgets/base",
      "_model_module_version": "1.2.0",
      "_model_name": "LayoutModel",
      "_view_count": null,
      "_view_module": "@jupyter-widgets/base",
      "_view_module_version": "1.2.0",
      "_view_name": "LayoutView",
      "align_content": null,
      "align_items": null,
      "align_self": null,
      "border": null,
      "bottom": null,
      "display": null,
      "flex": null,
      "flex_flow": null,
      "grid_area": null,
      "grid_auto_columns": null,
      "grid_auto_flow": null,
      "grid_auto_rows": null,
      "grid_column": null,
      "grid_gap": null,
      "grid_row": null,
      "grid_template_areas": null,
      "grid_template_columns": null,
      "grid_template_rows": null,
      "height": null,
      "justify_content": null,
      "justify_items": null,
      "left": null,
      "margin": null,
      "max_height": null,
      "max_width": null,
      "min_height": null,
      "min_width": null,
      "object_fit": null,
      "object_position": null,
      "order": null,
      "overflow": null,
      "overflow_x": null,
      "overflow_y": null,
      "padding": null,
      "right": null,
      "top": null,
      "visibility": null,
      "width": null
     }
    },
    "cf431d27cb5149f58f29f301e51d1a01": {
     "model_module": "@jupyter-widgets/controls",
     "model_module_version": "1.5.0",
     "model_name": "FloatProgressModel",
     "state": {
      "_dom_classes": [],
      "_model_module": "@jupyter-widgets/controls",
      "_model_module_version": "1.5.0",
      "_model_name": "FloatProgressModel",
      "_view_count": null,
      "_view_module": "@jupyter-widgets/controls",
      "_view_module_version": "1.5.0",
      "_view_name": "ProgressView",
      "bar_style": "success",
      "description": "",
      "description_tooltip": null,
      "layout": "IPY_MODEL_ca5b592e41834ce2b7a252258e105f74",
      "max": 480,
      "min": 0,
      "orientation": "horizontal",
      "style": "IPY_MODEL_25acd23a39a44b9ca109e5e10fe3c4db",
      "value": 480
     }
    },
    "ef14be4919f0443fa8ab49da457d6db0": {
     "model_module": "@jupyter-widgets/base",
     "model_module_version": "1.2.0",
     "model_name": "LayoutModel",
     "state": {
      "_model_module": "@jupyter-widgets/base",
      "_model_module_version": "1.2.0",
      "_model_name": "LayoutModel",
      "_view_count": null,
      "_view_module": "@jupyter-widgets/base",
      "_view_module_version": "1.2.0",
      "_view_name": "LayoutView",
      "align_content": null,
      "align_items": null,
      "align_self": null,
      "border": null,
      "bottom": null,
      "display": null,
      "flex": null,
      "flex_flow": null,
      "grid_area": null,
      "grid_auto_columns": null,
      "grid_auto_flow": null,
      "grid_auto_rows": null,
      "grid_column": null,
      "grid_gap": null,
      "grid_row": null,
      "grid_template_areas": null,
      "grid_template_columns": null,
      "grid_template_rows": null,
      "height": null,
      "justify_content": null,
      "justify_items": null,
      "left": null,
      "margin": null,
      "max_height": null,
      "max_width": null,
      "min_height": null,
      "min_width": null,
      "object_fit": null,
      "object_position": null,
      "order": null,
      "overflow": null,
      "overflow_x": null,
      "overflow_y": null,
      "padding": null,
      "right": null,
      "top": null,
      "visibility": null,
      "width": null
     }
    },
    "f9e820c4095746b2b5040b73093e2008": {
     "model_module": "@jupyter-widgets/base",
     "model_module_version": "1.2.0",
     "model_name": "LayoutModel",
     "state": {
      "_model_module": "@jupyter-widgets/base",
      "_model_module_version": "1.2.0",
      "_model_name": "LayoutModel",
      "_view_count": null,
      "_view_module": "@jupyter-widgets/base",
      "_view_module_version": "1.2.0",
      "_view_name": "LayoutView",
      "align_content": null,
      "align_items": null,
      "align_self": null,
      "border": null,
      "bottom": null,
      "display": null,
      "flex": null,
      "flex_flow": null,
      "grid_area": null,
      "grid_auto_columns": null,
      "grid_auto_flow": null,
      "grid_auto_rows": null,
      "grid_column": null,
      "grid_gap": null,
      "grid_row": null,
      "grid_template_areas": null,
      "grid_template_columns": null,
      "grid_template_rows": null,
      "height": null,
      "justify_content": null,
      "justify_items": null,
      "left": null,
      "margin": null,
      "max_height": null,
      "max_width": null,
      "min_height": null,
      "min_width": null,
      "object_fit": null,
      "object_position": null,
      "order": null,
      "overflow": null,
      "overflow_x": null,
      "overflow_y": null,
      "padding": null,
      "right": null,
      "top": null,
      "visibility": null,
      "width": null
     }
    }
   }
  }
 },
 "nbformat": 4,
 "nbformat_minor": 0
}
